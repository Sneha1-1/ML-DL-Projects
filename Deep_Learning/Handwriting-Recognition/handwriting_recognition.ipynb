{
  "metadata": {
    "kernelspec": {
      "language": "python",
      "display_name": "Python 3",
      "name": "python3"
    },
    "language_info": {
      "name": "python",
      "version": "3.7.12",
      "mimetype": "text/x-python",
      "codemirror_mode": {
        "name": "ipython",
        "version": 3
      },
      "pygments_lexer": "ipython3",
      "nbconvert_exporter": "python",
      "file_extension": ".py"
    },
    "colab": {
      "name": "handwriting-recognition.ipynb",
      "provenance": [],
      "collapsed_sections": []
    },
    "accelerator": "GPU"
  },
  "nbformat_minor": 0,
  "nbformat": 4,
  "cells": [
    {
      "cell_type": "markdown",
      "source": [
        "1. Read the parser.txt file containing the image id and the respective word for that image and take the first 10000 instances for training and testing of the model "
      ],
      "metadata": {
        "id": "qC7GuFCOT-Wo"
      }
    },
    {
      "cell_type": "code",
      "source": [
        "from google.colab import drive\n",
        "drive.mount('/content/drive')"
      ],
      "metadata": {
        "colab": {
          "base_uri": "https://localhost:8080/"
        },
        "id": "S4OIc8vxBc6C",
        "outputId": "5b873648-16c4-4e78-f7d6-df94da1d44e0"
      },
      "execution_count": 1,
      "outputs": [
        {
          "output_type": "stream",
          "name": "stdout",
          "text": [
            "Mounted at /content/drive\n"
          ]
        }
      ]
    },
    {
      "cell_type": "code",
      "source": [
        "!cp \"/content/drive/MyDrive/NITAIML/words.zip\" \"/content/words.zip\"\n",
        "!cp \"/content/drive/MyDrive/NITAIML/parser.txt\" \"/content/parser.txt\""
      ],
      "metadata": {
        "id": "vtMdAmrnGBTO"
      },
      "execution_count": 2,
      "outputs": []
    },
    {
      "cell_type": "code",
      "source": [
        "with open(\"/content/parser.txt\",\"r\") as file:\n",
        "  lines=file.readlines()\n",
        "len(lines)  "
      ],
      "metadata": {
        "id": "2DxqD4F9_fHY",
        "outputId": "e59aee07-0fe1-488b-c7e7-3f33b5b9ad94",
        "execution": {
          "iopub.status.busy": "2022-03-29T04:05:42.365874Z",
          "iopub.execute_input": "2022-03-29T04:05:42.366251Z",
          "iopub.status.idle": "2022-03-29T04:05:42.473115Z",
          "shell.execute_reply.started": "2022-03-29T04:05:42.366168Z",
          "shell.execute_reply": "2022-03-29T04:05:42.472438Z"
        },
        "trusted": true,
        "colab": {
          "base_uri": "https://localhost:8080/"
        }
      },
      "execution_count": 3,
      "outputs": [
        {
          "output_type": "execute_result",
          "data": {
            "text/plain": [
              "115320"
            ]
          },
          "metadata": {},
          "execution_count": 3
        }
      ]
    },
    {
      "cell_type": "code",
      "source": [
        "import pandas as pd\n",
        "columns_list=[]\n",
        "max_col_lens=[]\n",
        "for line in lines:\n",
        "  cols=line.split(\" \")\n",
        "  max_col_len=len(cols)\n",
        "  columns_list.append(cols)\n",
        "  max_col_lens.append(max_col_len)\n",
        "data_file=pd.DataFrame({\"lines\":columns_list,\"max_col_len\":max_col_lens})\n",
        "data_file.head(3)"
      ],
      "metadata": {
        "id": "8ub08JKx_-Si",
        "outputId": "3dfb0b66-04e3-49bc-acd6-7f95d2b3b40a",
        "execution": {
          "iopub.status.busy": "2022-03-29T04:05:44.345315Z",
          "iopub.execute_input": "2022-03-29T04:05:44.346038Z",
          "iopub.status.idle": "2022-03-29T04:05:44.805123Z",
          "shell.execute_reply.started": "2022-03-29T04:05:44.345997Z",
          "shell.execute_reply": "2022-03-29T04:05:44.804360Z"
        },
        "trusted": true,
        "colab": {
          "base_uri": "https://localhost:8080/",
          "height": 143
        }
      },
      "execution_count": 4,
      "outputs": [
        {
          "output_type": "execute_result",
          "data": {
            "text/plain": [
              "                                               lines  max_col_len\n",
              "0  [a01-000u-00-00, ok, 154, 408, 768, 27, 51, AT...            9\n",
              "1  [a01-000u-00-01, ok, 154, 507, 766, 213, 48, N...            9\n",
              "2  [a01-000u-00-02, ok, 154, 796, 764, 70, 50, TO...            9"
            ],
            "text/html": [
              "\n",
              "  <div id=\"df-afdb2c69-00b2-4844-a9f4-a3e96447ba10\">\n",
              "    <div class=\"colab-df-container\">\n",
              "      <div>\n",
              "<style scoped>\n",
              "    .dataframe tbody tr th:only-of-type {\n",
              "        vertical-align: middle;\n",
              "    }\n",
              "\n",
              "    .dataframe tbody tr th {\n",
              "        vertical-align: top;\n",
              "    }\n",
              "\n",
              "    .dataframe thead th {\n",
              "        text-align: right;\n",
              "    }\n",
              "</style>\n",
              "<table border=\"1\" class=\"dataframe\">\n",
              "  <thead>\n",
              "    <tr style=\"text-align: right;\">\n",
              "      <th></th>\n",
              "      <th>lines</th>\n",
              "      <th>max_col_len</th>\n",
              "    </tr>\n",
              "  </thead>\n",
              "  <tbody>\n",
              "    <tr>\n",
              "      <th>0</th>\n",
              "      <td>[a01-000u-00-00, ok, 154, 408, 768, 27, 51, AT...</td>\n",
              "      <td>9</td>\n",
              "    </tr>\n",
              "    <tr>\n",
              "      <th>1</th>\n",
              "      <td>[a01-000u-00-01, ok, 154, 507, 766, 213, 48, N...</td>\n",
              "      <td>9</td>\n",
              "    </tr>\n",
              "    <tr>\n",
              "      <th>2</th>\n",
              "      <td>[a01-000u-00-02, ok, 154, 796, 764, 70, 50, TO...</td>\n",
              "      <td>9</td>\n",
              "    </tr>\n",
              "  </tbody>\n",
              "</table>\n",
              "</div>\n",
              "      <button class=\"colab-df-convert\" onclick=\"convertToInteractive('df-afdb2c69-00b2-4844-a9f4-a3e96447ba10')\"\n",
              "              title=\"Convert this dataframe to an interactive table.\"\n",
              "              style=\"display:none;\">\n",
              "        \n",
              "  <svg xmlns=\"http://www.w3.org/2000/svg\" height=\"24px\"viewBox=\"0 0 24 24\"\n",
              "       width=\"24px\">\n",
              "    <path d=\"M0 0h24v24H0V0z\" fill=\"none\"/>\n",
              "    <path d=\"M18.56 5.44l.94 2.06.94-2.06 2.06-.94-2.06-.94-.94-2.06-.94 2.06-2.06.94zm-11 1L8.5 8.5l.94-2.06 2.06-.94-2.06-.94L8.5 2.5l-.94 2.06-2.06.94zm10 10l.94 2.06.94-2.06 2.06-.94-2.06-.94-.94-2.06-.94 2.06-2.06.94z\"/><path d=\"M17.41 7.96l-1.37-1.37c-.4-.4-.92-.59-1.43-.59-.52 0-1.04.2-1.43.59L10.3 9.45l-7.72 7.72c-.78.78-.78 2.05 0 2.83L4 21.41c.39.39.9.59 1.41.59.51 0 1.02-.2 1.41-.59l7.78-7.78 2.81-2.81c.8-.78.8-2.07 0-2.86zM5.41 20L4 18.59l7.72-7.72 1.47 1.35L5.41 20z\"/>\n",
              "  </svg>\n",
              "      </button>\n",
              "      \n",
              "  <style>\n",
              "    .colab-df-container {\n",
              "      display:flex;\n",
              "      flex-wrap:wrap;\n",
              "      gap: 12px;\n",
              "    }\n",
              "\n",
              "    .colab-df-convert {\n",
              "      background-color: #E8F0FE;\n",
              "      border: none;\n",
              "      border-radius: 50%;\n",
              "      cursor: pointer;\n",
              "      display: none;\n",
              "      fill: #1967D2;\n",
              "      height: 32px;\n",
              "      padding: 0 0 0 0;\n",
              "      width: 32px;\n",
              "    }\n",
              "\n",
              "    .colab-df-convert:hover {\n",
              "      background-color: #E2EBFA;\n",
              "      box-shadow: 0px 1px 2px rgba(60, 64, 67, 0.3), 0px 1px 3px 1px rgba(60, 64, 67, 0.15);\n",
              "      fill: #174EA6;\n",
              "    }\n",
              "\n",
              "    [theme=dark] .colab-df-convert {\n",
              "      background-color: #3B4455;\n",
              "      fill: #D2E3FC;\n",
              "    }\n",
              "\n",
              "    [theme=dark] .colab-df-convert:hover {\n",
              "      background-color: #434B5C;\n",
              "      box-shadow: 0px 1px 3px 1px rgba(0, 0, 0, 0.15);\n",
              "      filter: drop-shadow(0px 1px 2px rgba(0, 0, 0, 0.3));\n",
              "      fill: #FFFFFF;\n",
              "    }\n",
              "  </style>\n",
              "\n",
              "      <script>\n",
              "        const buttonEl =\n",
              "          document.querySelector('#df-afdb2c69-00b2-4844-a9f4-a3e96447ba10 button.colab-df-convert');\n",
              "        buttonEl.style.display =\n",
              "          google.colab.kernel.accessAllowed ? 'block' : 'none';\n",
              "\n",
              "        async function convertToInteractive(key) {\n",
              "          const element = document.querySelector('#df-afdb2c69-00b2-4844-a9f4-a3e96447ba10');\n",
              "          const dataTable =\n",
              "            await google.colab.kernel.invokeFunction('convertToInteractive',\n",
              "                                                     [key], {});\n",
              "          if (!dataTable) return;\n",
              "\n",
              "          const docLinkHtml = 'Like what you see? Visit the ' +\n",
              "            '<a target=\"_blank\" href=https://colab.research.google.com/notebooks/data_table.ipynb>data table notebook</a>'\n",
              "            + ' to learn more about interactive tables.';\n",
              "          element.innerHTML = '';\n",
              "          dataTable['output_type'] = 'display_data';\n",
              "          await google.colab.output.renderOutput(dataTable, element);\n",
              "          const docLink = document.createElement('div');\n",
              "          docLink.innerHTML = docLinkHtml;\n",
              "          element.appendChild(docLink);\n",
              "        }\n",
              "      </script>\n",
              "    </div>\n",
              "  </div>\n",
              "  "
            ]
          },
          "metadata": {},
          "execution_count": 4
        }
      ]
    },
    {
      "cell_type": "code",
      "source": [
        "data_file=data_file.loc[data_file.max_col_len==9,\"lines\"]\n",
        "data_file.head(3)"
      ],
      "metadata": {
        "id": "pn5BRA1oBAvl",
        "outputId": "8f485bb0-0ef4-406f-f46c-3969eb8c314e",
        "execution": {
          "iopub.status.busy": "2022-03-29T04:05:44.915699Z",
          "iopub.execute_input": "2022-03-29T04:05:44.915909Z",
          "iopub.status.idle": "2022-03-29T04:05:44.933084Z",
          "shell.execute_reply.started": "2022-03-29T04:05:44.915884Z",
          "shell.execute_reply": "2022-03-29T04:05:44.932403Z"
        },
        "trusted": true,
        "colab": {
          "base_uri": "https://localhost:8080/"
        }
      },
      "execution_count": 5,
      "outputs": [
        {
          "output_type": "execute_result",
          "data": {
            "text/plain": [
              "0    [a01-000u-00-00, ok, 154, 408, 768, 27, 51, AT...\n",
              "1    [a01-000u-00-01, ok, 154, 507, 766, 213, 48, N...\n",
              "2    [a01-000u-00-02, ok, 154, 796, 764, 70, 50, TO...\n",
              "Name: lines, dtype: object"
            ]
          },
          "metadata": {},
          "execution_count": 5
        }
      ]
    },
    {
      "cell_type": "code",
      "source": [
        "def get_data_file_cols(data_cols):\n",
        "  c1,c2,c9=[],[],[]\n",
        "  for i in data_cols:\n",
        "    c1.append(i[0])\n",
        "    c2.append(i[1])\n",
        "    c9.append(i[8].replace(\"\\n\",\"\"))\n",
        "  dt=pd.DataFrame({\"id\":c1,\"status\":c2,\"text\":c9})\n",
        "  return dt\n",
        "df=get_data_file_cols(data_file)\n",
        "df.head(1000).tail(5)"
      ],
      "metadata": {
        "id": "KgbrTyjRBMGC",
        "outputId": "2215b7ba-d07b-4088-c215-842a71964b42",
        "execution": {
          "iopub.status.busy": "2022-03-29T04:05:45.528598Z",
          "iopub.execute_input": "2022-03-29T04:05:45.529237Z",
          "iopub.status.idle": "2022-03-29T04:05:45.652181Z",
          "shell.execute_reply.started": "2022-03-29T04:05:45.529199Z",
          "shell.execute_reply": "2022-03-29T04:05:45.651361Z"
        },
        "trusted": true,
        "colab": {
          "base_uri": "https://localhost:8080/",
          "height": 206
        }
      },
      "execution_count": 6,
      "outputs": [
        {
          "output_type": "execute_result",
          "data": {
            "text/plain": [
              "                id status      text\n",
              "995  a01-020-04-04     ok       the\n",
              "996  a01-020-04-05     ok  Africans\n",
              "997  a01-020-04-06     ok       the\n",
              "998  a01-020-04-07     ok   overall\n",
              "999  a01-020-05-00     ok  majority"
            ],
            "text/html": [
              "\n",
              "  <div id=\"df-81526f70-aab2-4c87-854f-cb415e2ba40f\">\n",
              "    <div class=\"colab-df-container\">\n",
              "      <div>\n",
              "<style scoped>\n",
              "    .dataframe tbody tr th:only-of-type {\n",
              "        vertical-align: middle;\n",
              "    }\n",
              "\n",
              "    .dataframe tbody tr th {\n",
              "        vertical-align: top;\n",
              "    }\n",
              "\n",
              "    .dataframe thead th {\n",
              "        text-align: right;\n",
              "    }\n",
              "</style>\n",
              "<table border=\"1\" class=\"dataframe\">\n",
              "  <thead>\n",
              "    <tr style=\"text-align: right;\">\n",
              "      <th></th>\n",
              "      <th>id</th>\n",
              "      <th>status</th>\n",
              "      <th>text</th>\n",
              "    </tr>\n",
              "  </thead>\n",
              "  <tbody>\n",
              "    <tr>\n",
              "      <th>995</th>\n",
              "      <td>a01-020-04-04</td>\n",
              "      <td>ok</td>\n",
              "      <td>the</td>\n",
              "    </tr>\n",
              "    <tr>\n",
              "      <th>996</th>\n",
              "      <td>a01-020-04-05</td>\n",
              "      <td>ok</td>\n",
              "      <td>Africans</td>\n",
              "    </tr>\n",
              "    <tr>\n",
              "      <th>997</th>\n",
              "      <td>a01-020-04-06</td>\n",
              "      <td>ok</td>\n",
              "      <td>the</td>\n",
              "    </tr>\n",
              "    <tr>\n",
              "      <th>998</th>\n",
              "      <td>a01-020-04-07</td>\n",
              "      <td>ok</td>\n",
              "      <td>overall</td>\n",
              "    </tr>\n",
              "    <tr>\n",
              "      <th>999</th>\n",
              "      <td>a01-020-05-00</td>\n",
              "      <td>ok</td>\n",
              "      <td>majority</td>\n",
              "    </tr>\n",
              "  </tbody>\n",
              "</table>\n",
              "</div>\n",
              "      <button class=\"colab-df-convert\" onclick=\"convertToInteractive('df-81526f70-aab2-4c87-854f-cb415e2ba40f')\"\n",
              "              title=\"Convert this dataframe to an interactive table.\"\n",
              "              style=\"display:none;\">\n",
              "        \n",
              "  <svg xmlns=\"http://www.w3.org/2000/svg\" height=\"24px\"viewBox=\"0 0 24 24\"\n",
              "       width=\"24px\">\n",
              "    <path d=\"M0 0h24v24H0V0z\" fill=\"none\"/>\n",
              "    <path d=\"M18.56 5.44l.94 2.06.94-2.06 2.06-.94-2.06-.94-.94-2.06-.94 2.06-2.06.94zm-11 1L8.5 8.5l.94-2.06 2.06-.94-2.06-.94L8.5 2.5l-.94 2.06-2.06.94zm10 10l.94 2.06.94-2.06 2.06-.94-2.06-.94-.94-2.06-.94 2.06-2.06.94z\"/><path d=\"M17.41 7.96l-1.37-1.37c-.4-.4-.92-.59-1.43-.59-.52 0-1.04.2-1.43.59L10.3 9.45l-7.72 7.72c-.78.78-.78 2.05 0 2.83L4 21.41c.39.39.9.59 1.41.59.51 0 1.02-.2 1.41-.59l7.78-7.78 2.81-2.81c.8-.78.8-2.07 0-2.86zM5.41 20L4 18.59l7.72-7.72 1.47 1.35L5.41 20z\"/>\n",
              "  </svg>\n",
              "      </button>\n",
              "      \n",
              "  <style>\n",
              "    .colab-df-container {\n",
              "      display:flex;\n",
              "      flex-wrap:wrap;\n",
              "      gap: 12px;\n",
              "    }\n",
              "\n",
              "    .colab-df-convert {\n",
              "      background-color: #E8F0FE;\n",
              "      border: none;\n",
              "      border-radius: 50%;\n",
              "      cursor: pointer;\n",
              "      display: none;\n",
              "      fill: #1967D2;\n",
              "      height: 32px;\n",
              "      padding: 0 0 0 0;\n",
              "      width: 32px;\n",
              "    }\n",
              "\n",
              "    .colab-df-convert:hover {\n",
              "      background-color: #E2EBFA;\n",
              "      box-shadow: 0px 1px 2px rgba(60, 64, 67, 0.3), 0px 1px 3px 1px rgba(60, 64, 67, 0.15);\n",
              "      fill: #174EA6;\n",
              "    }\n",
              "\n",
              "    [theme=dark] .colab-df-convert {\n",
              "      background-color: #3B4455;\n",
              "      fill: #D2E3FC;\n",
              "    }\n",
              "\n",
              "    [theme=dark] .colab-df-convert:hover {\n",
              "      background-color: #434B5C;\n",
              "      box-shadow: 0px 1px 3px 1px rgba(0, 0, 0, 0.15);\n",
              "      filter: drop-shadow(0px 1px 2px rgba(0, 0, 0, 0.3));\n",
              "      fill: #FFFFFF;\n",
              "    }\n",
              "  </style>\n",
              "\n",
              "      <script>\n",
              "        const buttonEl =\n",
              "          document.querySelector('#df-81526f70-aab2-4c87-854f-cb415e2ba40f button.colab-df-convert');\n",
              "        buttonEl.style.display =\n",
              "          google.colab.kernel.accessAllowed ? 'block' : 'none';\n",
              "\n",
              "        async function convertToInteractive(key) {\n",
              "          const element = document.querySelector('#df-81526f70-aab2-4c87-854f-cb415e2ba40f');\n",
              "          const dataTable =\n",
              "            await google.colab.kernel.invokeFunction('convertToInteractive',\n",
              "                                                     [key], {});\n",
              "          if (!dataTable) return;\n",
              "\n",
              "          const docLinkHtml = 'Like what you see? Visit the ' +\n",
              "            '<a target=\"_blank\" href=https://colab.research.google.com/notebooks/data_table.ipynb>data table notebook</a>'\n",
              "            + ' to learn more about interactive tables.';\n",
              "          element.innerHTML = '';\n",
              "          dataTable['output_type'] = 'display_data';\n",
              "          await google.colab.output.renderOutput(dataTable, element);\n",
              "          const docLink = document.createElement('div');\n",
              "          docLink.innerHTML = docLinkHtml;\n",
              "          element.appendChild(docLink);\n",
              "        }\n",
              "      </script>\n",
              "    </div>\n",
              "  </div>\n",
              "  "
            ]
          },
          "metadata": {},
          "execution_count": 6
        }
      ]
    },
    {
      "cell_type": "code",
      "source": [
        "df.shape"
      ],
      "metadata": {
        "id": "_XGvNzA89rUD",
        "outputId": "795023ac-f9a7-438a-f056-d055bdcc64e2",
        "execution": {
          "iopub.status.busy": "2022-03-29T04:05:46.051940Z",
          "iopub.execute_input": "2022-03-29T04:05:46.052180Z",
          "iopub.status.idle": "2022-03-29T04:05:46.058003Z",
          "shell.execute_reply.started": "2022-03-29T04:05:46.052153Z",
          "shell.execute_reply": "2022-03-29T04:05:46.057374Z"
        },
        "trusted": true,
        "colab": {
          "base_uri": "https://localhost:8080/"
        }
      },
      "execution_count": 7,
      "outputs": [
        {
          "output_type": "execute_result",
          "data": {
            "text/plain": [
              "(115284, 3)"
            ]
          },
          "metadata": {},
          "execution_count": 7
        }
      ]
    },
    {
      "cell_type": "code",
      "source": [
        "df=df.loc[df.status==\"ok\",:]"
      ],
      "metadata": {
        "id": "-tUHP4kd9lo4",
        "execution": {
          "iopub.status.busy": "2022-03-29T04:05:46.561713Z",
          "iopub.execute_input": "2022-03-29T04:05:46.562332Z",
          "iopub.status.idle": "2022-03-29T04:05:46.597084Z",
          "shell.execute_reply.started": "2022-03-29T04:05:46.562292Z",
          "shell.execute_reply": "2022-03-29T04:05:46.596428Z"
        },
        "trusted": true
      },
      "execution_count": 8,
      "outputs": []
    },
    {
      "cell_type": "code",
      "source": [
        "df.shape"
      ],
      "metadata": {
        "id": "cO1iS6KC9tTf",
        "outputId": "1ad313d0-87db-474a-c081-9acb03be4eba",
        "execution": {
          "iopub.status.busy": "2022-03-29T04:05:47.050944Z",
          "iopub.execute_input": "2022-03-29T04:05:47.051287Z",
          "iopub.status.idle": "2022-03-29T04:05:47.060533Z",
          "shell.execute_reply.started": "2022-03-29T04:05:47.051245Z",
          "shell.execute_reply": "2022-03-29T04:05:47.059677Z"
        },
        "trusted": true,
        "colab": {
          "base_uri": "https://localhost:8080/"
        }
      },
      "execution_count": 9,
      "outputs": [
        {
          "output_type": "execute_result",
          "data": {
            "text/plain": [
              "(96430, 3)"
            ]
          },
          "metadata": {},
          "execution_count": 9
        }
      ]
    },
    {
      "cell_type": "code",
      "source": [
        "df.head(19045).tail(5)"
      ],
      "metadata": {
        "id": "-jy-9Rtx_GHC",
        "outputId": "479b5f07-bee9-414f-bf73-dafb4b1cfe66",
        "execution": {
          "iopub.status.busy": "2022-03-29T04:05:47.557977Z",
          "iopub.execute_input": "2022-03-29T04:05:47.558225Z",
          "iopub.status.idle": "2022-03-29T04:05:47.571123Z",
          "shell.execute_reply.started": "2022-03-29T04:05:47.558198Z",
          "shell.execute_reply": "2022-03-29T04:05:47.570444Z"
        },
        "trusted": true,
        "colab": {
          "base_uri": "https://localhost:8080/",
          "height": 206
        }
      },
      "execution_count": 10,
      "outputs": [
        {
          "output_type": "execute_result",
          "data": {
            "text/plain": [
              "                  id status    text\n",
              "21408  b06-049-07-03     ok    with\n",
              "21409  b06-049-07-04     ok     the\n",
              "21410  b06-049-07-05     ok  Tories\n",
              "21411  b06-049-07-06     ok       .\n",
              "21412  b06-049-07-07     ok    Many"
            ],
            "text/html": [
              "\n",
              "  <div id=\"df-bc2c40c6-7532-4159-854f-92aef44c9599\">\n",
              "    <div class=\"colab-df-container\">\n",
              "      <div>\n",
              "<style scoped>\n",
              "    .dataframe tbody tr th:only-of-type {\n",
              "        vertical-align: middle;\n",
              "    }\n",
              "\n",
              "    .dataframe tbody tr th {\n",
              "        vertical-align: top;\n",
              "    }\n",
              "\n",
              "    .dataframe thead th {\n",
              "        text-align: right;\n",
              "    }\n",
              "</style>\n",
              "<table border=\"1\" class=\"dataframe\">\n",
              "  <thead>\n",
              "    <tr style=\"text-align: right;\">\n",
              "      <th></th>\n",
              "      <th>id</th>\n",
              "      <th>status</th>\n",
              "      <th>text</th>\n",
              "    </tr>\n",
              "  </thead>\n",
              "  <tbody>\n",
              "    <tr>\n",
              "      <th>21408</th>\n",
              "      <td>b06-049-07-03</td>\n",
              "      <td>ok</td>\n",
              "      <td>with</td>\n",
              "    </tr>\n",
              "    <tr>\n",
              "      <th>21409</th>\n",
              "      <td>b06-049-07-04</td>\n",
              "      <td>ok</td>\n",
              "      <td>the</td>\n",
              "    </tr>\n",
              "    <tr>\n",
              "      <th>21410</th>\n",
              "      <td>b06-049-07-05</td>\n",
              "      <td>ok</td>\n",
              "      <td>Tories</td>\n",
              "    </tr>\n",
              "    <tr>\n",
              "      <th>21411</th>\n",
              "      <td>b06-049-07-06</td>\n",
              "      <td>ok</td>\n",
              "      <td>.</td>\n",
              "    </tr>\n",
              "    <tr>\n",
              "      <th>21412</th>\n",
              "      <td>b06-049-07-07</td>\n",
              "      <td>ok</td>\n",
              "      <td>Many</td>\n",
              "    </tr>\n",
              "  </tbody>\n",
              "</table>\n",
              "</div>\n",
              "      <button class=\"colab-df-convert\" onclick=\"convertToInteractive('df-bc2c40c6-7532-4159-854f-92aef44c9599')\"\n",
              "              title=\"Convert this dataframe to an interactive table.\"\n",
              "              style=\"display:none;\">\n",
              "        \n",
              "  <svg xmlns=\"http://www.w3.org/2000/svg\" height=\"24px\"viewBox=\"0 0 24 24\"\n",
              "       width=\"24px\">\n",
              "    <path d=\"M0 0h24v24H0V0z\" fill=\"none\"/>\n",
              "    <path d=\"M18.56 5.44l.94 2.06.94-2.06 2.06-.94-2.06-.94-.94-2.06-.94 2.06-2.06.94zm-11 1L8.5 8.5l.94-2.06 2.06-.94-2.06-.94L8.5 2.5l-.94 2.06-2.06.94zm10 10l.94 2.06.94-2.06 2.06-.94-2.06-.94-.94-2.06-.94 2.06-2.06.94z\"/><path d=\"M17.41 7.96l-1.37-1.37c-.4-.4-.92-.59-1.43-.59-.52 0-1.04.2-1.43.59L10.3 9.45l-7.72 7.72c-.78.78-.78 2.05 0 2.83L4 21.41c.39.39.9.59 1.41.59.51 0 1.02-.2 1.41-.59l7.78-7.78 2.81-2.81c.8-.78.8-2.07 0-2.86zM5.41 20L4 18.59l7.72-7.72 1.47 1.35L5.41 20z\"/>\n",
              "  </svg>\n",
              "      </button>\n",
              "      \n",
              "  <style>\n",
              "    .colab-df-container {\n",
              "      display:flex;\n",
              "      flex-wrap:wrap;\n",
              "      gap: 12px;\n",
              "    }\n",
              "\n",
              "    .colab-df-convert {\n",
              "      background-color: #E8F0FE;\n",
              "      border: none;\n",
              "      border-radius: 50%;\n",
              "      cursor: pointer;\n",
              "      display: none;\n",
              "      fill: #1967D2;\n",
              "      height: 32px;\n",
              "      padding: 0 0 0 0;\n",
              "      width: 32px;\n",
              "    }\n",
              "\n",
              "    .colab-df-convert:hover {\n",
              "      background-color: #E2EBFA;\n",
              "      box-shadow: 0px 1px 2px rgba(60, 64, 67, 0.3), 0px 1px 3px 1px rgba(60, 64, 67, 0.15);\n",
              "      fill: #174EA6;\n",
              "    }\n",
              "\n",
              "    [theme=dark] .colab-df-convert {\n",
              "      background-color: #3B4455;\n",
              "      fill: #D2E3FC;\n",
              "    }\n",
              "\n",
              "    [theme=dark] .colab-df-convert:hover {\n",
              "      background-color: #434B5C;\n",
              "      box-shadow: 0px 1px 3px 1px rgba(0, 0, 0, 0.15);\n",
              "      filter: drop-shadow(0px 1px 2px rgba(0, 0, 0, 0.3));\n",
              "      fill: #FFFFFF;\n",
              "    }\n",
              "  </style>\n",
              "\n",
              "      <script>\n",
              "        const buttonEl =\n",
              "          document.querySelector('#df-bc2c40c6-7532-4159-854f-92aef44c9599 button.colab-df-convert');\n",
              "        buttonEl.style.display =\n",
              "          google.colab.kernel.accessAllowed ? 'block' : 'none';\n",
              "\n",
              "        async function convertToInteractive(key) {\n",
              "          const element = document.querySelector('#df-bc2c40c6-7532-4159-854f-92aef44c9599');\n",
              "          const dataTable =\n",
              "            await google.colab.kernel.invokeFunction('convertToInteractive',\n",
              "                                                     [key], {});\n",
              "          if (!dataTable) return;\n",
              "\n",
              "          const docLinkHtml = 'Like what you see? Visit the ' +\n",
              "            '<a target=\"_blank\" href=https://colab.research.google.com/notebooks/data_table.ipynb>data table notebook</a>'\n",
              "            + ' to learn more about interactive tables.';\n",
              "          element.innerHTML = '';\n",
              "          dataTable['output_type'] = 'display_data';\n",
              "          await google.colab.output.renderOutput(dataTable, element);\n",
              "          const docLink = document.createElement('div');\n",
              "          docLink.innerHTML = docLinkHtml;\n",
              "          element.appendChild(docLink);\n",
              "        }\n",
              "      </script>\n",
              "    </div>\n",
              "  </div>\n",
              "  "
            ]
          },
          "metadata": {},
          "execution_count": 10
        }
      ]
    },
    {
      "cell_type": "markdown",
      "source": [
        "2. Images can be of different shape thus resize all your images to have the same shape (for example = (128,32))\n",
        "\n",
        "3. Currently, the pixel values are between 0 to 255, normalize the images so that the pixel \n",
        "values are in range 0 to 1"
      ],
      "metadata": {
        "id": "6bFEOPuFUH29"
      }
    },
    {
      "cell_type": "code",
      "source": [
        "import os\n",
        "from matplotlib import image\n",
        "def getFileDF(path,files,file_names):\n",
        "    for i in os.listdir(path):\n",
        "        file_path=os.path.join(path,i)\n",
        "        if os.path.isdir(file_path):\n",
        "            getFileDF(file_path,files,file_names)\n",
        "        \n",
        "        else:\n",
        "            \n",
        "            dir_path=file_path.split(\"/\")[:-1]\n",
        "            file_name=file_path.split(\"/\")[-1]\n",
        "            file_name=file_name.split(\".\")[0]\n",
        "            dir_path=\"/\".join(dir_path)\n",
        "            file_ext=file_path.split(\".\")[-1]\n",
        "            files.append(file_path)\n",
        "            file_names.append(file_name)\n",
        "            #image_size.append(image.imread(file_path))\n",
        "    return files,file_names"
      ],
      "metadata": {
        "id": "x177MpE7Uj8u",
        "execution": {
          "iopub.status.busy": "2022-03-29T04:05:48.705071Z",
          "iopub.execute_input": "2022-03-29T04:05:48.705325Z",
          "iopub.status.idle": "2022-03-29T04:05:48.713283Z",
          "shell.execute_reply.started": "2022-03-29T04:05:48.705295Z",
          "shell.execute_reply": "2022-03-29T04:05:48.712545Z"
        },
        "trusted": true
      },
      "execution_count": 11,
      "outputs": []
    },
    {
      "cell_type": "code",
      "source": [
        "import shutil\n",
        "shutil.rmtree(\"/content/words\")\n",
        "!unzip -q words.zip\n",
        "files,file_names=getFileDF(\"/content/words\",[],[])"
      ],
      "metadata": {
        "id": "662QSAwly8tG",
        "execution": {
          "iopub.status.busy": "2022-03-29T04:05:49.457198Z",
          "iopub.execute_input": "2022-03-29T04:05:49.457610Z",
          "iopub.status.idle": "2022-03-29T04:06:02.993359Z",
          "shell.execute_reply.started": "2022-03-29T04:05:49.457576Z",
          "shell.execute_reply": "2022-03-29T04:06:02.992635Z"
        },
        "trusted": true,
        "colab": {
          "base_uri": "https://localhost:8080/"
        },
        "outputId": "e9aa4a2d-51a8-445c-dba1-61a9929d090c"
      },
      "execution_count": 16,
      "outputs": [
        {
          "output_type": "stream",
          "name": "stdout",
          "text": [
            "warning [words.zip]:  76 extra bytes at beginning or within zipfile\n",
            "  (attempting to process anyway)\n",
            "error [words.zip]:  reported length of central directory is\n",
            "  -76 bytes too long (Atari STZip zipfile?  J.H.Holm ZIPSPLIT 1.1\n",
            "  zipfile?).  Compensating...\n",
            "error:  expected central file header signature not found (file #116936).\n",
            "  (please check that you have transferred or created the zipfile in the\n",
            "  appropriate BINARY mode and that you have compiled UnZip properly)\n"
          ]
        }
      ]
    },
    {
      "cell_type": "code",
      "source": [
        "import pandas as pd\n",
        "image_df=pd.DataFrame({\"files\":files,\"file_names\":file_names})\n",
        "image_df.head(2)"
      ],
      "metadata": {
        "id": "hkBxM8-kzD5V",
        "outputId": "ba0d2245-6dfa-41a4-d0fe-8ed62ac4efff",
        "execution": {
          "iopub.status.busy": "2022-03-29T04:06:02.996621Z",
          "iopub.execute_input": "2022-03-29T04:06:02.997075Z",
          "iopub.status.idle": "2022-03-29T04:06:03.024791Z",
          "shell.execute_reply.started": "2022-03-29T04:06:02.997045Z",
          "shell.execute_reply": "2022-03-29T04:06:03.024005Z"
        },
        "trusted": true,
        "colab": {
          "base_uri": "https://localhost:8080/",
          "height": 112
        }
      },
      "execution_count": 17,
      "outputs": [
        {
          "output_type": "execute_result",
          "data": {
            "text/plain": [
              "                                          files     file_names\n",
              "0  /content/words/a02/a02-042/a02-042-06-02.png  a02-042-06-02\n",
              "1  /content/words/a02/a02-042/a02-042-05-01.png  a02-042-05-01"
            ],
            "text/html": [
              "\n",
              "  <div id=\"df-e323e85a-895b-44c2-875f-c7ee2c4c28c2\">\n",
              "    <div class=\"colab-df-container\">\n",
              "      <div>\n",
              "<style scoped>\n",
              "    .dataframe tbody tr th:only-of-type {\n",
              "        vertical-align: middle;\n",
              "    }\n",
              "\n",
              "    .dataframe tbody tr th {\n",
              "        vertical-align: top;\n",
              "    }\n",
              "\n",
              "    .dataframe thead th {\n",
              "        text-align: right;\n",
              "    }\n",
              "</style>\n",
              "<table border=\"1\" class=\"dataframe\">\n",
              "  <thead>\n",
              "    <tr style=\"text-align: right;\">\n",
              "      <th></th>\n",
              "      <th>files</th>\n",
              "      <th>file_names</th>\n",
              "    </tr>\n",
              "  </thead>\n",
              "  <tbody>\n",
              "    <tr>\n",
              "      <th>0</th>\n",
              "      <td>/content/words/a02/a02-042/a02-042-06-02.png</td>\n",
              "      <td>a02-042-06-02</td>\n",
              "    </tr>\n",
              "    <tr>\n",
              "      <th>1</th>\n",
              "      <td>/content/words/a02/a02-042/a02-042-05-01.png</td>\n",
              "      <td>a02-042-05-01</td>\n",
              "    </tr>\n",
              "  </tbody>\n",
              "</table>\n",
              "</div>\n",
              "      <button class=\"colab-df-convert\" onclick=\"convertToInteractive('df-e323e85a-895b-44c2-875f-c7ee2c4c28c2')\"\n",
              "              title=\"Convert this dataframe to an interactive table.\"\n",
              "              style=\"display:none;\">\n",
              "        \n",
              "  <svg xmlns=\"http://www.w3.org/2000/svg\" height=\"24px\"viewBox=\"0 0 24 24\"\n",
              "       width=\"24px\">\n",
              "    <path d=\"M0 0h24v24H0V0z\" fill=\"none\"/>\n",
              "    <path d=\"M18.56 5.44l.94 2.06.94-2.06 2.06-.94-2.06-.94-.94-2.06-.94 2.06-2.06.94zm-11 1L8.5 8.5l.94-2.06 2.06-.94-2.06-.94L8.5 2.5l-.94 2.06-2.06.94zm10 10l.94 2.06.94-2.06 2.06-.94-2.06-.94-.94-2.06-.94 2.06-2.06.94z\"/><path d=\"M17.41 7.96l-1.37-1.37c-.4-.4-.92-.59-1.43-.59-.52 0-1.04.2-1.43.59L10.3 9.45l-7.72 7.72c-.78.78-.78 2.05 0 2.83L4 21.41c.39.39.9.59 1.41.59.51 0 1.02-.2 1.41-.59l7.78-7.78 2.81-2.81c.8-.78.8-2.07 0-2.86zM5.41 20L4 18.59l7.72-7.72 1.47 1.35L5.41 20z\"/>\n",
              "  </svg>\n",
              "      </button>\n",
              "      \n",
              "  <style>\n",
              "    .colab-df-container {\n",
              "      display:flex;\n",
              "      flex-wrap:wrap;\n",
              "      gap: 12px;\n",
              "    }\n",
              "\n",
              "    .colab-df-convert {\n",
              "      background-color: #E8F0FE;\n",
              "      border: none;\n",
              "      border-radius: 50%;\n",
              "      cursor: pointer;\n",
              "      display: none;\n",
              "      fill: #1967D2;\n",
              "      height: 32px;\n",
              "      padding: 0 0 0 0;\n",
              "      width: 32px;\n",
              "    }\n",
              "\n",
              "    .colab-df-convert:hover {\n",
              "      background-color: #E2EBFA;\n",
              "      box-shadow: 0px 1px 2px rgba(60, 64, 67, 0.3), 0px 1px 3px 1px rgba(60, 64, 67, 0.15);\n",
              "      fill: #174EA6;\n",
              "    }\n",
              "\n",
              "    [theme=dark] .colab-df-convert {\n",
              "      background-color: #3B4455;\n",
              "      fill: #D2E3FC;\n",
              "    }\n",
              "\n",
              "    [theme=dark] .colab-df-convert:hover {\n",
              "      background-color: #434B5C;\n",
              "      box-shadow: 0px 1px 3px 1px rgba(0, 0, 0, 0.15);\n",
              "      filter: drop-shadow(0px 1px 2px rgba(0, 0, 0, 0.3));\n",
              "      fill: #FFFFFF;\n",
              "    }\n",
              "  </style>\n",
              "\n",
              "      <script>\n",
              "        const buttonEl =\n",
              "          document.querySelector('#df-e323e85a-895b-44c2-875f-c7ee2c4c28c2 button.colab-df-convert');\n",
              "        buttonEl.style.display =\n",
              "          google.colab.kernel.accessAllowed ? 'block' : 'none';\n",
              "\n",
              "        async function convertToInteractive(key) {\n",
              "          const element = document.querySelector('#df-e323e85a-895b-44c2-875f-c7ee2c4c28c2');\n",
              "          const dataTable =\n",
              "            await google.colab.kernel.invokeFunction('convertToInteractive',\n",
              "                                                     [key], {});\n",
              "          if (!dataTable) return;\n",
              "\n",
              "          const docLinkHtml = 'Like what you see? Visit the ' +\n",
              "            '<a target=\"_blank\" href=https://colab.research.google.com/notebooks/data_table.ipynb>data table notebook</a>'\n",
              "            + ' to learn more about interactive tables.';\n",
              "          element.innerHTML = '';\n",
              "          dataTable['output_type'] = 'display_data';\n",
              "          await google.colab.output.renderOutput(dataTable, element);\n",
              "          const docLink = document.createElement('div');\n",
              "          docLink.innerHTML = docLinkHtml;\n",
              "          element.appendChild(docLink);\n",
              "        }\n",
              "      </script>\n",
              "    </div>\n",
              "  </div>\n",
              "  "
            ]
          },
          "metadata": {},
          "execution_count": 17
        }
      ]
    },
    {
      "cell_type": "code",
      "source": [
        "image_df.shape"
      ],
      "metadata": {
        "id": "yHmFZ13YzUvL",
        "outputId": "2392cb14-2b63-46b4-c12d-f337c58b48f2",
        "execution": {
          "iopub.status.busy": "2022-03-29T04:06:03.026132Z",
          "iopub.execute_input": "2022-03-29T04:06:03.026445Z",
          "iopub.status.idle": "2022-03-29T04:06:03.033217Z",
          "shell.execute_reply.started": "2022-03-29T04:06:03.026409Z",
          "shell.execute_reply": "2022-03-29T04:06:03.032534Z"
        },
        "trusted": true,
        "colab": {
          "base_uri": "https://localhost:8080/"
        }
      },
      "execution_count": 18,
      "outputs": [
        {
          "output_type": "execute_result",
          "data": {
            "text/plain": [
              "(115320, 2)"
            ]
          },
          "metadata": {},
          "execution_count": 18
        }
      ]
    },
    {
      "cell_type": "code",
      "source": [
        "text_df=pd.DataFrame({\"file_names\":df[\"id\"],\"text\":df[\"text\"]})\n",
        "text_df.head(2)"
      ],
      "metadata": {
        "id": "gHMURLl8zdCb",
        "outputId": "eee110d7-72e2-442a-bd48-791d003a2758",
        "execution": {
          "iopub.status.busy": "2022-03-29T04:06:05.779962Z",
          "iopub.execute_input": "2022-03-29T04:06:05.780656Z",
          "iopub.status.idle": "2022-03-29T04:06:05.795112Z",
          "shell.execute_reply.started": "2022-03-29T04:06:05.780617Z",
          "shell.execute_reply": "2022-03-29T04:06:05.794398Z"
        },
        "trusted": true,
        "colab": {
          "base_uri": "https://localhost:8080/",
          "height": 112
        }
      },
      "execution_count": 19,
      "outputs": [
        {
          "output_type": "execute_result",
          "data": {
            "text/plain": [
              "       file_names  text\n",
              "0  a01-000u-00-00     A\n",
              "1  a01-000u-00-01  MOVE"
            ],
            "text/html": [
              "\n",
              "  <div id=\"df-7ae8ec75-e74f-4633-9db3-ca86ffef62c9\">\n",
              "    <div class=\"colab-df-container\">\n",
              "      <div>\n",
              "<style scoped>\n",
              "    .dataframe tbody tr th:only-of-type {\n",
              "        vertical-align: middle;\n",
              "    }\n",
              "\n",
              "    .dataframe tbody tr th {\n",
              "        vertical-align: top;\n",
              "    }\n",
              "\n",
              "    .dataframe thead th {\n",
              "        text-align: right;\n",
              "    }\n",
              "</style>\n",
              "<table border=\"1\" class=\"dataframe\">\n",
              "  <thead>\n",
              "    <tr style=\"text-align: right;\">\n",
              "      <th></th>\n",
              "      <th>file_names</th>\n",
              "      <th>text</th>\n",
              "    </tr>\n",
              "  </thead>\n",
              "  <tbody>\n",
              "    <tr>\n",
              "      <th>0</th>\n",
              "      <td>a01-000u-00-00</td>\n",
              "      <td>A</td>\n",
              "    </tr>\n",
              "    <tr>\n",
              "      <th>1</th>\n",
              "      <td>a01-000u-00-01</td>\n",
              "      <td>MOVE</td>\n",
              "    </tr>\n",
              "  </tbody>\n",
              "</table>\n",
              "</div>\n",
              "      <button class=\"colab-df-convert\" onclick=\"convertToInteractive('df-7ae8ec75-e74f-4633-9db3-ca86ffef62c9')\"\n",
              "              title=\"Convert this dataframe to an interactive table.\"\n",
              "              style=\"display:none;\">\n",
              "        \n",
              "  <svg xmlns=\"http://www.w3.org/2000/svg\" height=\"24px\"viewBox=\"0 0 24 24\"\n",
              "       width=\"24px\">\n",
              "    <path d=\"M0 0h24v24H0V0z\" fill=\"none\"/>\n",
              "    <path d=\"M18.56 5.44l.94 2.06.94-2.06 2.06-.94-2.06-.94-.94-2.06-.94 2.06-2.06.94zm-11 1L8.5 8.5l.94-2.06 2.06-.94-2.06-.94L8.5 2.5l-.94 2.06-2.06.94zm10 10l.94 2.06.94-2.06 2.06-.94-2.06-.94-.94-2.06-.94 2.06-2.06.94z\"/><path d=\"M17.41 7.96l-1.37-1.37c-.4-.4-.92-.59-1.43-.59-.52 0-1.04.2-1.43.59L10.3 9.45l-7.72 7.72c-.78.78-.78 2.05 0 2.83L4 21.41c.39.39.9.59 1.41.59.51 0 1.02-.2 1.41-.59l7.78-7.78 2.81-2.81c.8-.78.8-2.07 0-2.86zM5.41 20L4 18.59l7.72-7.72 1.47 1.35L5.41 20z\"/>\n",
              "  </svg>\n",
              "      </button>\n",
              "      \n",
              "  <style>\n",
              "    .colab-df-container {\n",
              "      display:flex;\n",
              "      flex-wrap:wrap;\n",
              "      gap: 12px;\n",
              "    }\n",
              "\n",
              "    .colab-df-convert {\n",
              "      background-color: #E8F0FE;\n",
              "      border: none;\n",
              "      border-radius: 50%;\n",
              "      cursor: pointer;\n",
              "      display: none;\n",
              "      fill: #1967D2;\n",
              "      height: 32px;\n",
              "      padding: 0 0 0 0;\n",
              "      width: 32px;\n",
              "    }\n",
              "\n",
              "    .colab-df-convert:hover {\n",
              "      background-color: #E2EBFA;\n",
              "      box-shadow: 0px 1px 2px rgba(60, 64, 67, 0.3), 0px 1px 3px 1px rgba(60, 64, 67, 0.15);\n",
              "      fill: #174EA6;\n",
              "    }\n",
              "\n",
              "    [theme=dark] .colab-df-convert {\n",
              "      background-color: #3B4455;\n",
              "      fill: #D2E3FC;\n",
              "    }\n",
              "\n",
              "    [theme=dark] .colab-df-convert:hover {\n",
              "      background-color: #434B5C;\n",
              "      box-shadow: 0px 1px 3px 1px rgba(0, 0, 0, 0.15);\n",
              "      filter: drop-shadow(0px 1px 2px rgba(0, 0, 0, 0.3));\n",
              "      fill: #FFFFFF;\n",
              "    }\n",
              "  </style>\n",
              "\n",
              "      <script>\n",
              "        const buttonEl =\n",
              "          document.querySelector('#df-7ae8ec75-e74f-4633-9db3-ca86ffef62c9 button.colab-df-convert');\n",
              "        buttonEl.style.display =\n",
              "          google.colab.kernel.accessAllowed ? 'block' : 'none';\n",
              "\n",
              "        async function convertToInteractive(key) {\n",
              "          const element = document.querySelector('#df-7ae8ec75-e74f-4633-9db3-ca86ffef62c9');\n",
              "          const dataTable =\n",
              "            await google.colab.kernel.invokeFunction('convertToInteractive',\n",
              "                                                     [key], {});\n",
              "          if (!dataTable) return;\n",
              "\n",
              "          const docLinkHtml = 'Like what you see? Visit the ' +\n",
              "            '<a target=\"_blank\" href=https://colab.research.google.com/notebooks/data_table.ipynb>data table notebook</a>'\n",
              "            + ' to learn more about interactive tables.';\n",
              "          element.innerHTML = '';\n",
              "          dataTable['output_type'] = 'display_data';\n",
              "          await google.colab.output.renderOutput(dataTable, element);\n",
              "          const docLink = document.createElement('div');\n",
              "          docLink.innerHTML = docLinkHtml;\n",
              "          element.appendChild(docLink);\n",
              "        }\n",
              "      </script>\n",
              "    </div>\n",
              "  </div>\n",
              "  "
            ]
          },
          "metadata": {},
          "execution_count": 19
        }
      ]
    },
    {
      "cell_type": "code",
      "source": [
        "text_df.shape"
      ],
      "metadata": {
        "id": "7pE_Trbv0TCf",
        "outputId": "dba544a6-f0eb-4e0a-9423-1f71bbc69742",
        "execution": {
          "iopub.status.busy": "2022-03-29T04:06:06.412828Z",
          "iopub.execute_input": "2022-03-29T04:06:06.413322Z",
          "iopub.status.idle": "2022-03-29T04:06:06.419357Z",
          "shell.execute_reply.started": "2022-03-29T04:06:06.413288Z",
          "shell.execute_reply": "2022-03-29T04:06:06.417616Z"
        },
        "trusted": true,
        "colab": {
          "base_uri": "https://localhost:8080/"
        }
      },
      "execution_count": 20,
      "outputs": [
        {
          "output_type": "execute_result",
          "data": {
            "text/plain": [
              "(96430, 2)"
            ]
          },
          "metadata": {},
          "execution_count": 20
        }
      ]
    },
    {
      "cell_type": "code",
      "source": [
        "data=pd.merge(text_df,image_df,on=\"file_names\",how=\"left\")\n",
        "data.head(2)"
      ],
      "metadata": {
        "id": "057Qepb41Hx0",
        "outputId": "15957535-25e6-4ece-a789-85ad24240f7b",
        "execution": {
          "iopub.status.busy": "2022-03-29T04:06:07.243252Z",
          "iopub.execute_input": "2022-03-29T04:06:07.243545Z",
          "iopub.status.idle": "2022-03-29T04:06:07.350524Z",
          "shell.execute_reply.started": "2022-03-29T04:06:07.243513Z",
          "shell.execute_reply": "2022-03-29T04:06:07.349714Z"
        },
        "trusted": true,
        "colab": {
          "base_uri": "https://localhost:8080/",
          "height": 112
        }
      },
      "execution_count": 21,
      "outputs": [
        {
          "output_type": "execute_result",
          "data": {
            "text/plain": [
              "       file_names  text                                           files\n",
              "0  a01-000u-00-00     A  /content/words/a01/a01-000u/a01-000u-00-00.png\n",
              "1  a01-000u-00-01  MOVE  /content/words/a01/a01-000u/a01-000u-00-01.png"
            ],
            "text/html": [
              "\n",
              "  <div id=\"df-6521d5be-f43f-4843-ac6b-0230be443add\">\n",
              "    <div class=\"colab-df-container\">\n",
              "      <div>\n",
              "<style scoped>\n",
              "    .dataframe tbody tr th:only-of-type {\n",
              "        vertical-align: middle;\n",
              "    }\n",
              "\n",
              "    .dataframe tbody tr th {\n",
              "        vertical-align: top;\n",
              "    }\n",
              "\n",
              "    .dataframe thead th {\n",
              "        text-align: right;\n",
              "    }\n",
              "</style>\n",
              "<table border=\"1\" class=\"dataframe\">\n",
              "  <thead>\n",
              "    <tr style=\"text-align: right;\">\n",
              "      <th></th>\n",
              "      <th>file_names</th>\n",
              "      <th>text</th>\n",
              "      <th>files</th>\n",
              "    </tr>\n",
              "  </thead>\n",
              "  <tbody>\n",
              "    <tr>\n",
              "      <th>0</th>\n",
              "      <td>a01-000u-00-00</td>\n",
              "      <td>A</td>\n",
              "      <td>/content/words/a01/a01-000u/a01-000u-00-00.png</td>\n",
              "    </tr>\n",
              "    <tr>\n",
              "      <th>1</th>\n",
              "      <td>a01-000u-00-01</td>\n",
              "      <td>MOVE</td>\n",
              "      <td>/content/words/a01/a01-000u/a01-000u-00-01.png</td>\n",
              "    </tr>\n",
              "  </tbody>\n",
              "</table>\n",
              "</div>\n",
              "      <button class=\"colab-df-convert\" onclick=\"convertToInteractive('df-6521d5be-f43f-4843-ac6b-0230be443add')\"\n",
              "              title=\"Convert this dataframe to an interactive table.\"\n",
              "              style=\"display:none;\">\n",
              "        \n",
              "  <svg xmlns=\"http://www.w3.org/2000/svg\" height=\"24px\"viewBox=\"0 0 24 24\"\n",
              "       width=\"24px\">\n",
              "    <path d=\"M0 0h24v24H0V0z\" fill=\"none\"/>\n",
              "    <path d=\"M18.56 5.44l.94 2.06.94-2.06 2.06-.94-2.06-.94-.94-2.06-.94 2.06-2.06.94zm-11 1L8.5 8.5l.94-2.06 2.06-.94-2.06-.94L8.5 2.5l-.94 2.06-2.06.94zm10 10l.94 2.06.94-2.06 2.06-.94-2.06-.94-.94-2.06-.94 2.06-2.06.94z\"/><path d=\"M17.41 7.96l-1.37-1.37c-.4-.4-.92-.59-1.43-.59-.52 0-1.04.2-1.43.59L10.3 9.45l-7.72 7.72c-.78.78-.78 2.05 0 2.83L4 21.41c.39.39.9.59 1.41.59.51 0 1.02-.2 1.41-.59l7.78-7.78 2.81-2.81c.8-.78.8-2.07 0-2.86zM5.41 20L4 18.59l7.72-7.72 1.47 1.35L5.41 20z\"/>\n",
              "  </svg>\n",
              "      </button>\n",
              "      \n",
              "  <style>\n",
              "    .colab-df-container {\n",
              "      display:flex;\n",
              "      flex-wrap:wrap;\n",
              "      gap: 12px;\n",
              "    }\n",
              "\n",
              "    .colab-df-convert {\n",
              "      background-color: #E8F0FE;\n",
              "      border: none;\n",
              "      border-radius: 50%;\n",
              "      cursor: pointer;\n",
              "      display: none;\n",
              "      fill: #1967D2;\n",
              "      height: 32px;\n",
              "      padding: 0 0 0 0;\n",
              "      width: 32px;\n",
              "    }\n",
              "\n",
              "    .colab-df-convert:hover {\n",
              "      background-color: #E2EBFA;\n",
              "      box-shadow: 0px 1px 2px rgba(60, 64, 67, 0.3), 0px 1px 3px 1px rgba(60, 64, 67, 0.15);\n",
              "      fill: #174EA6;\n",
              "    }\n",
              "\n",
              "    [theme=dark] .colab-df-convert {\n",
              "      background-color: #3B4455;\n",
              "      fill: #D2E3FC;\n",
              "    }\n",
              "\n",
              "    [theme=dark] .colab-df-convert:hover {\n",
              "      background-color: #434B5C;\n",
              "      box-shadow: 0px 1px 3px 1px rgba(0, 0, 0, 0.15);\n",
              "      filter: drop-shadow(0px 1px 2px rgba(0, 0, 0, 0.3));\n",
              "      fill: #FFFFFF;\n",
              "    }\n",
              "  </style>\n",
              "\n",
              "      <script>\n",
              "        const buttonEl =\n",
              "          document.querySelector('#df-6521d5be-f43f-4843-ac6b-0230be443add button.colab-df-convert');\n",
              "        buttonEl.style.display =\n",
              "          google.colab.kernel.accessAllowed ? 'block' : 'none';\n",
              "\n",
              "        async function convertToInteractive(key) {\n",
              "          const element = document.querySelector('#df-6521d5be-f43f-4843-ac6b-0230be443add');\n",
              "          const dataTable =\n",
              "            await google.colab.kernel.invokeFunction('convertToInteractive',\n",
              "                                                     [key], {});\n",
              "          if (!dataTable) return;\n",
              "\n",
              "          const docLinkHtml = 'Like what you see? Visit the ' +\n",
              "            '<a target=\"_blank\" href=https://colab.research.google.com/notebooks/data_table.ipynb>data table notebook</a>'\n",
              "            + ' to learn more about interactive tables.';\n",
              "          element.innerHTML = '';\n",
              "          dataTable['output_type'] = 'display_data';\n",
              "          await google.colab.output.renderOutput(dataTable, element);\n",
              "          const docLink = document.createElement('div');\n",
              "          docLink.innerHTML = docLinkHtml;\n",
              "          element.appendChild(docLink);\n",
              "        }\n",
              "      </script>\n",
              "    </div>\n",
              "  </div>\n",
              "  "
            ]
          },
          "metadata": {},
          "execution_count": 21
        }
      ]
    },
    {
      "cell_type": "code",
      "source": [
        "data.shape"
      ],
      "metadata": {
        "id": "SRLVvSHodggi",
        "outputId": "cfc8d68e-a52b-4e7b-f44c-ef743ac975ae",
        "execution": {
          "iopub.status.busy": "2022-03-29T04:06:07.896851Z",
          "iopub.execute_input": "2022-03-29T04:06:07.897102Z",
          "iopub.status.idle": "2022-03-29T04:06:07.905035Z",
          "shell.execute_reply.started": "2022-03-29T04:06:07.897075Z",
          "shell.execute_reply": "2022-03-29T04:06:07.904257Z"
        },
        "trusted": true,
        "colab": {
          "base_uri": "https://localhost:8080/"
        }
      },
      "execution_count": 22,
      "outputs": [
        {
          "output_type": "execute_result",
          "data": {
            "text/plain": [
              "(96430, 3)"
            ]
          },
          "metadata": {},
          "execution_count": 22
        }
      ]
    },
    {
      "cell_type": "code",
      "source": [
        "X=data.loc[:9999,[\"files\",\"text\"]].copy()\n",
        "print(\"X Shape: \",X.shape)"
      ],
      "metadata": {
        "id": "tYQN7kO9Paef",
        "outputId": "58c20973-bb09-40f8-a218-c75baa616a52",
        "execution": {
          "iopub.status.busy": "2022-03-29T04:06:23.944089Z",
          "iopub.execute_input": "2022-03-29T04:06:23.944346Z",
          "iopub.status.idle": "2022-03-29T04:06:23.958714Z",
          "shell.execute_reply.started": "2022-03-29T04:06:23.944317Z",
          "shell.execute_reply": "2022-03-29T04:06:23.957850Z"
        },
        "trusted": true,
        "colab": {
          "base_uri": "https://localhost:8080/"
        }
      },
      "execution_count": 23,
      "outputs": [
        {
          "output_type": "stream",
          "name": "stdout",
          "text": [
            "X Shape:  (10000, 2)\n"
          ]
        }
      ]
    },
    {
      "cell_type": "code",
      "source": [
        "X=X.reset_index()\n",
        "X.head(2)"
      ],
      "metadata": {
        "id": "GLWlUjm8FLpg",
        "outputId": "cebffce6-55c6-48cf-b317-b95266bc37c9",
        "execution": {
          "iopub.status.busy": "2022-03-29T04:06:28.124461Z",
          "iopub.execute_input": "2022-03-29T04:06:28.125058Z",
          "iopub.status.idle": "2022-03-29T04:06:28.136204Z",
          "shell.execute_reply.started": "2022-03-29T04:06:28.125020Z",
          "shell.execute_reply": "2022-03-29T04:06:28.135545Z"
        },
        "trusted": true,
        "colab": {
          "base_uri": "https://localhost:8080/",
          "height": 112
        }
      },
      "execution_count": 24,
      "outputs": [
        {
          "output_type": "execute_result",
          "data": {
            "text/plain": [
              "   index                                           files  text\n",
              "0      0  /content/words/a01/a01-000u/a01-000u-00-00.png     A\n",
              "1      1  /content/words/a01/a01-000u/a01-000u-00-01.png  MOVE"
            ],
            "text/html": [
              "\n",
              "  <div id=\"df-fe5bf87d-f741-4789-8b99-f1c14bd20a8e\">\n",
              "    <div class=\"colab-df-container\">\n",
              "      <div>\n",
              "<style scoped>\n",
              "    .dataframe tbody tr th:only-of-type {\n",
              "        vertical-align: middle;\n",
              "    }\n",
              "\n",
              "    .dataframe tbody tr th {\n",
              "        vertical-align: top;\n",
              "    }\n",
              "\n",
              "    .dataframe thead th {\n",
              "        text-align: right;\n",
              "    }\n",
              "</style>\n",
              "<table border=\"1\" class=\"dataframe\">\n",
              "  <thead>\n",
              "    <tr style=\"text-align: right;\">\n",
              "      <th></th>\n",
              "      <th>index</th>\n",
              "      <th>files</th>\n",
              "      <th>text</th>\n",
              "    </tr>\n",
              "  </thead>\n",
              "  <tbody>\n",
              "    <tr>\n",
              "      <th>0</th>\n",
              "      <td>0</td>\n",
              "      <td>/content/words/a01/a01-000u/a01-000u-00-00.png</td>\n",
              "      <td>A</td>\n",
              "    </tr>\n",
              "    <tr>\n",
              "      <th>1</th>\n",
              "      <td>1</td>\n",
              "      <td>/content/words/a01/a01-000u/a01-000u-00-01.png</td>\n",
              "      <td>MOVE</td>\n",
              "    </tr>\n",
              "  </tbody>\n",
              "</table>\n",
              "</div>\n",
              "      <button class=\"colab-df-convert\" onclick=\"convertToInteractive('df-fe5bf87d-f741-4789-8b99-f1c14bd20a8e')\"\n",
              "              title=\"Convert this dataframe to an interactive table.\"\n",
              "              style=\"display:none;\">\n",
              "        \n",
              "  <svg xmlns=\"http://www.w3.org/2000/svg\" height=\"24px\"viewBox=\"0 0 24 24\"\n",
              "       width=\"24px\">\n",
              "    <path d=\"M0 0h24v24H0V0z\" fill=\"none\"/>\n",
              "    <path d=\"M18.56 5.44l.94 2.06.94-2.06 2.06-.94-2.06-.94-.94-2.06-.94 2.06-2.06.94zm-11 1L8.5 8.5l.94-2.06 2.06-.94-2.06-.94L8.5 2.5l-.94 2.06-2.06.94zm10 10l.94 2.06.94-2.06 2.06-.94-2.06-.94-.94-2.06-.94 2.06-2.06.94z\"/><path d=\"M17.41 7.96l-1.37-1.37c-.4-.4-.92-.59-1.43-.59-.52 0-1.04.2-1.43.59L10.3 9.45l-7.72 7.72c-.78.78-.78 2.05 0 2.83L4 21.41c.39.39.9.59 1.41.59.51 0 1.02-.2 1.41-.59l7.78-7.78 2.81-2.81c.8-.78.8-2.07 0-2.86zM5.41 20L4 18.59l7.72-7.72 1.47 1.35L5.41 20z\"/>\n",
              "  </svg>\n",
              "      </button>\n",
              "      \n",
              "  <style>\n",
              "    .colab-df-container {\n",
              "      display:flex;\n",
              "      flex-wrap:wrap;\n",
              "      gap: 12px;\n",
              "    }\n",
              "\n",
              "    .colab-df-convert {\n",
              "      background-color: #E8F0FE;\n",
              "      border: none;\n",
              "      border-radius: 50%;\n",
              "      cursor: pointer;\n",
              "      display: none;\n",
              "      fill: #1967D2;\n",
              "      height: 32px;\n",
              "      padding: 0 0 0 0;\n",
              "      width: 32px;\n",
              "    }\n",
              "\n",
              "    .colab-df-convert:hover {\n",
              "      background-color: #E2EBFA;\n",
              "      box-shadow: 0px 1px 2px rgba(60, 64, 67, 0.3), 0px 1px 3px 1px rgba(60, 64, 67, 0.15);\n",
              "      fill: #174EA6;\n",
              "    }\n",
              "\n",
              "    [theme=dark] .colab-df-convert {\n",
              "      background-color: #3B4455;\n",
              "      fill: #D2E3FC;\n",
              "    }\n",
              "\n",
              "    [theme=dark] .colab-df-convert:hover {\n",
              "      background-color: #434B5C;\n",
              "      box-shadow: 0px 1px 3px 1px rgba(0, 0, 0, 0.15);\n",
              "      filter: drop-shadow(0px 1px 2px rgba(0, 0, 0, 0.3));\n",
              "      fill: #FFFFFF;\n",
              "    }\n",
              "  </style>\n",
              "\n",
              "      <script>\n",
              "        const buttonEl =\n",
              "          document.querySelector('#df-fe5bf87d-f741-4789-8b99-f1c14bd20a8e button.colab-df-convert');\n",
              "        buttonEl.style.display =\n",
              "          google.colab.kernel.accessAllowed ? 'block' : 'none';\n",
              "\n",
              "        async function convertToInteractive(key) {\n",
              "          const element = document.querySelector('#df-fe5bf87d-f741-4789-8b99-f1c14bd20a8e');\n",
              "          const dataTable =\n",
              "            await google.colab.kernel.invokeFunction('convertToInteractive',\n",
              "                                                     [key], {});\n",
              "          if (!dataTable) return;\n",
              "\n",
              "          const docLinkHtml = 'Like what you see? Visit the ' +\n",
              "            '<a target=\"_blank\" href=https://colab.research.google.com/notebooks/data_table.ipynb>data table notebook</a>'\n",
              "            + ' to learn more about interactive tables.';\n",
              "          element.innerHTML = '';\n",
              "          dataTable['output_type'] = 'display_data';\n",
              "          await google.colab.output.renderOutput(dataTable, element);\n",
              "          const docLink = document.createElement('div');\n",
              "          docLink.innerHTML = docLinkHtml;\n",
              "          element.appendChild(docLink);\n",
              "        }\n",
              "      </script>\n",
              "    </div>\n",
              "  </div>\n",
              "  "
            ]
          },
          "metadata": {},
          "execution_count": 24
        }
      ]
    },
    {
      "cell_type": "code",
      "source": [
        "X.drop([\"index\"],axis=1,inplace=True)"
      ],
      "metadata": {
        "id": "1-xU26WsHOFL",
        "execution": {
          "iopub.status.busy": "2022-03-29T04:06:29.153412Z",
          "iopub.execute_input": "2022-03-29T04:06:29.153957Z",
          "iopub.status.idle": "2022-03-29T04:06:29.159739Z",
          "shell.execute_reply.started": "2022-03-29T04:06:29.153920Z",
          "shell.execute_reply": "2022-03-29T04:06:29.158952Z"
        },
        "trusted": true
      },
      "execution_count": 25,
      "outputs": []
    },
    {
      "cell_type": "code",
      "source": [
        "X.head(7010).tail(5)\n",
        "X=X.loc[:,:]"
      ],
      "metadata": {
        "id": "zXYZTlahPpIQ",
        "execution": {
          "iopub.status.busy": "2022-03-29T04:06:30.019051Z",
          "iopub.execute_input": "2022-03-29T04:06:30.019918Z",
          "iopub.status.idle": "2022-03-29T04:06:30.029935Z",
          "shell.execute_reply.started": "2022-03-29T04:06:30.019872Z",
          "shell.execute_reply": "2022-03-29T04:06:30.029188Z"
        },
        "trusted": true
      },
      "execution_count": 26,
      "outputs": []
    },
    {
      "cell_type": "code",
      "source": [
        "import matplotlib.image as image\n",
        "import numpy as np\n",
        "import matplotlib.pyplot as plt\n",
        "import cv2\n",
        "img=image.imread(\"/content/words/b01/b01-049/b01-049-01-07.png\",format=\"RGB\")\n",
        "print(img.shape)\n",
        "plt.imshow(img)"
      ],
      "metadata": {
        "id": "MMXRD2RkC-kf",
        "outputId": "849662a4-95c1-413a-ee63-ad11268ff169",
        "execution": {
          "iopub.status.busy": "2022-03-29T04:06:31.020623Z",
          "iopub.execute_input": "2022-03-29T04:06:31.021192Z",
          "iopub.status.idle": "2022-03-29T04:06:31.589839Z",
          "shell.execute_reply.started": "2022-03-29T04:06:31.021151Z",
          "shell.execute_reply": "2022-03-29T04:06:31.589125Z"
        },
        "trusted": true,
        "colab": {
          "base_uri": "https://localhost:8080/",
          "height": 300
        }
      },
      "execution_count": 30,
      "outputs": [
        {
          "output_type": "stream",
          "name": "stdout",
          "text": [
            "(6, 5)\n"
          ]
        },
        {
          "output_type": "execute_result",
          "data": {
            "text/plain": [
              "<matplotlib.image.AxesImage at 0x7fd9d1ee6dd0>"
            ]
          },
          "metadata": {},
          "execution_count": 30
        },
        {
          "output_type": "display_data",
          "data": {
            "text/plain": [
              "<Figure size 432x288 with 1 Axes>"
            ],
            "image/png": "[encoded data removed]"
          },
          "metadata": {
            "needs_background": "light"
          }
        }
      ]
    },
    {
      "cell_type": "code",
      "source": [
        "img=cv2.resize(img,(128,32),interpolation=cv2.INTER_AREA)\n",
        "print(img.shape)\n",
        "#img=cv2.cvtColor(img,cv2.COLOR_RGB2GRAY)\n",
        "img=np.transpose(img)\n",
        "plt.imshow(img)\n",
        "print(img.shape)"
      ],
      "metadata": {
        "id": "XOt1Y_pkDMek",
        "outputId": "00c3e572-5f4b-410b-87fa-09b079dc3764",
        "execution": {
          "iopub.status.busy": "2022-03-29T04:06:46.131000Z",
          "iopub.execute_input": "2022-03-29T04:06:46.131267Z",
          "iopub.status.idle": "2022-03-29T04:06:46.306917Z",
          "shell.execute_reply.started": "2022-03-29T04:06:46.131237Z",
          "shell.execute_reply": "2022-03-29T04:06:46.306261Z"
        },
        "trusted": true,
        "colab": {
          "base_uri": "https://localhost:8080/",
          "height": 303
        }
      },
      "execution_count": 31,
      "outputs": [
        {
          "output_type": "stream",
          "name": "stdout",
          "text": [
            "(32, 128)\n",
            "(128, 32)\n"
          ]
        },
        {
          "output_type": "display_data",
          "data": {
            "text/plain": [
              "<Figure size 432x288 with 1 Axes>"
            ],
            "image/png": "[encoded data removed]"
          },
          "metadata": {
            "needs_background": "light"
          }
        }
      ]
    },
    {
      "cell_type": "code",
      "source": [
        "image.imsave(\"/content/images_test.png\",img)"
      ],
      "metadata": {
        "id": "q-0jBV0VIUCj",
        "execution": {
          "iopub.status.busy": "2022-03-29T04:06:47.606189Z",
          "iopub.execute_input": "2022-03-29T04:06:47.606453Z",
          "iopub.status.idle": "2022-03-29T04:06:47.612881Z",
          "shell.execute_reply.started": "2022-03-29T04:06:47.606425Z",
          "shell.execute_reply": "2022-03-29T04:06:47.611704Z"
        },
        "trusted": true
      },
      "execution_count": 32,
      "outputs": []
    },
    {
      "cell_type": "code",
      "source": [
        "img=image.imread(\"/content/images_test.png\")\n",
        "plt.imshow(img)"
      ],
      "metadata": {
        "id": "bztiSr7tIeB2",
        "outputId": "c45f36c6-736a-44cf-c68b-717a94c57d10",
        "execution": {
          "iopub.status.busy": "2022-03-29T04:06:49.024886Z",
          "iopub.execute_input": "2022-03-29T04:06:49.025160Z",
          "iopub.status.idle": "2022-03-29T04:06:49.206067Z",
          "shell.execute_reply.started": "2022-03-29T04:06:49.025132Z",
          "shell.execute_reply": "2022-03-29T04:06:49.205324Z"
        },
        "trusted": true,
        "colab": {
          "base_uri": "https://localhost:8080/",
          "height": 285
        }
      },
      "execution_count": 33,
      "outputs": [
        {
          "output_type": "execute_result",
          "data": {
            "text/plain": [
              "<matplotlib.image.AxesImage at 0x7fd9d229d2d0>"
            ]
          },
          "metadata": {},
          "execution_count": 33
        },
        {
          "output_type": "display_data",
          "data": {
            "text/plain": [
              "<Figure size 432x288 with 1 Axes>"
            ],
            "image/png": "[encoded data removed]"
          },
          "metadata": {
            "needs_background": "light"
          }
        }
      ]
    },
    {
      "cell_type": "code",
      "source": [
        "def transform(image):\n",
        "    image=cv2.resize(image,(128,32),interpolation=cv2.INTER_AREA)\n",
        "    #image=cv2.cvtColor(image,cv2.COLOR_RGB2GRAY)\n",
        "    image=np.transpose(image)\n",
        "    return image"
      ],
      "metadata": {
        "id": "FUlPoKjXRb5k",
        "execution": {
          "iopub.status.busy": "2022-03-29T04:06:50.462092Z",
          "iopub.execute_input": "2022-03-29T04:06:50.462356Z",
          "iopub.status.idle": "2022-03-29T04:06:50.466612Z",
          "shell.execute_reply.started": "2022-03-29T04:06:50.462327Z",
          "shell.execute_reply": "2022-03-29T04:06:50.465776Z"
        },
        "trusted": true
      },
      "execution_count": 34,
      "outputs": []
    },
    {
      "cell_type": "code",
      "source": [
        "new_files=[]\n",
        "import shutil\n",
        "#shutil.rmtree(\"/kaggle/working/new_words\")\n",
        "for i in X.files:\n",
        "  try:\n",
        "    img=image.imread(i)\n",
        "    img=transform(img)\n",
        "    new_file=i.split(\"/\")[-1]\n",
        "    if os.path.isdir(\"/content/new_words\"):\n",
        "        pass\n",
        "    else:\n",
        "        os.mkdir(\"/content/new_words\")\n",
        "    new_path=\"/content/new_words/\"+new_file\n",
        "    new_files.append(new_path)\n",
        "    image.imsave(new_path,img)\n",
        "  except:\n",
        "    print(i)"
      ],
      "metadata": {
        "id": "basZoOFYR-rO",
        "outputId": "822ec725-f3a1-49f3-d404-7765706cf5e7",
        "execution": {
          "iopub.status.busy": "2022-03-29T04:06:52.587392Z",
          "iopub.execute_input": "2022-03-29T04:06:52.587976Z",
          "iopub.status.idle": "2022-03-29T04:07:40.066130Z",
          "shell.execute_reply.started": "2022-03-29T04:06:52.587937Z",
          "shell.execute_reply": "2022-03-29T04:07:40.065389Z"
        },
        "trusted": true,
        "colab": {
          "base_uri": "https://localhost:8080/"
        }
      },
      "execution_count": 36,
      "outputs": [
        {
          "output_type": "stream",
          "name": "stdout",
          "text": [
            "/content/words/a01/a01-117/a01-117-05-02.png\n"
          ]
        }
      ]
    },
    {
      "cell_type": "code",
      "source": [
        "#X.loc[X.files==\"/content/words/r06/r06-022/r06-022-03-05.png\",:]  "
      ],
      "metadata": {
        "id": "cBzxgaQ2emNq",
        "execution": {
          "iopub.status.busy": "2022-03-25T11:34:21.031101Z",
          "iopub.execute_input": "2022-03-25T11:34:21.031312Z",
          "iopub.status.idle": "2022-03-25T11:34:21.037905Z",
          "shell.execute_reply.started": "2022-03-25T11:34:21.031287Z",
          "shell.execute_reply": "2022-03-25T11:34:21.036968Z"
        },
        "trusted": true
      },
      "execution_count": null,
      "outputs": []
    },
    {
      "cell_type": "code",
      "source": [
        "X.loc[X.files==\"/content/words/a01/a01-117/a01-117-05-02.png\",:]  "
      ],
      "metadata": {
        "id": "KiEHcmDPe2zU",
        "outputId": "f4116b13-7852-4a93-cff5-be12ff67d257",
        "execution": {
          "iopub.status.busy": "2022-03-29T04:07:42.966379Z",
          "iopub.execute_input": "2022-03-29T04:07:42.966757Z",
          "iopub.status.idle": "2022-03-29T04:07:42.977981Z",
          "shell.execute_reply.started": "2022-03-29T04:07:42.966723Z",
          "shell.execute_reply": "2022-03-29T04:07:42.977171Z"
        },
        "trusted": true,
        "colab": {
          "base_uri": "https://localhost:8080/",
          "height": 81
        }
      },
      "execution_count": 37,
      "outputs": [
        {
          "output_type": "execute_result",
          "data": {
            "text/plain": [
              "                                             files    text\n",
              "3588  /content/words/a01/a01-117/a01-117-05-02.png  Powell"
            ],
            "text/html": [
              "\n",
              "  <div id=\"df-16da0924-2fbc-404a-b684-74f7b9a908b2\">\n",
              "    <div class=\"colab-df-container\">\n",
              "      <div>\n",
              "<style scoped>\n",
              "    .dataframe tbody tr th:only-of-type {\n",
              "        vertical-align: middle;\n",
              "    }\n",
              "\n",
              "    .dataframe tbody tr th {\n",
              "        vertical-align: top;\n",
              "    }\n",
              "\n",
              "    .dataframe thead th {\n",
              "        text-align: right;\n",
              "    }\n",
              "</style>\n",
              "<table border=\"1\" class=\"dataframe\">\n",
              "  <thead>\n",
              "    <tr style=\"text-align: right;\">\n",
              "      <th></th>\n",
              "      <th>files</th>\n",
              "      <th>text</th>\n",
              "    </tr>\n",
              "  </thead>\n",
              "  <tbody>\n",
              "    <tr>\n",
              "      <th>3588</th>\n",
              "      <td>/content/words/a01/a01-117/a01-117-05-02.png</td>\n",
              "      <td>Powell</td>\n",
              "    </tr>\n",
              "  </tbody>\n",
              "</table>\n",
              "</div>\n",
              "      <button class=\"colab-df-convert\" onclick=\"convertToInteractive('df-16da0924-2fbc-404a-b684-74f7b9a908b2')\"\n",
              "              title=\"Convert this dataframe to an interactive table.\"\n",
              "              style=\"display:none;\">\n",
              "        \n",
              "  <svg xmlns=\"http://www.w3.org/2000/svg\" height=\"24px\"viewBox=\"0 0 24 24\"\n",
              "       width=\"24px\">\n",
              "    <path d=\"M0 0h24v24H0V0z\" fill=\"none\"/>\n",
              "    <path d=\"M18.56 5.44l.94 2.06.94-2.06 2.06-.94-2.06-.94-.94-2.06-.94 2.06-2.06.94zm-11 1L8.5 8.5l.94-2.06 2.06-.94-2.06-.94L8.5 2.5l-.94 2.06-2.06.94zm10 10l.94 2.06.94-2.06 2.06-.94-2.06-.94-.94-2.06-.94 2.06-2.06.94z\"/><path d=\"M17.41 7.96l-1.37-1.37c-.4-.4-.92-.59-1.43-.59-.52 0-1.04.2-1.43.59L10.3 9.45l-7.72 7.72c-.78.78-.78 2.05 0 2.83L4 21.41c.39.39.9.59 1.41.59.51 0 1.02-.2 1.41-.59l7.78-7.78 2.81-2.81c.8-.78.8-2.07 0-2.86zM5.41 20L4 18.59l7.72-7.72 1.47 1.35L5.41 20z\"/>\n",
              "  </svg>\n",
              "      </button>\n",
              "      \n",
              "  <style>\n",
              "    .colab-df-container {\n",
              "      display:flex;\n",
              "      flex-wrap:wrap;\n",
              "      gap: 12px;\n",
              "    }\n",
              "\n",
              "    .colab-df-convert {\n",
              "      background-color: #E8F0FE;\n",
              "      border: none;\n",
              "      border-radius: 50%;\n",
              "      cursor: pointer;\n",
              "      display: none;\n",
              "      fill: #1967D2;\n",
              "      height: 32px;\n",
              "      padding: 0 0 0 0;\n",
              "      width: 32px;\n",
              "    }\n",
              "\n",
              "    .colab-df-convert:hover {\n",
              "      background-color: #E2EBFA;\n",
              "      box-shadow: 0px 1px 2px rgba(60, 64, 67, 0.3), 0px 1px 3px 1px rgba(60, 64, 67, 0.15);\n",
              "      fill: #174EA6;\n",
              "    }\n",
              "\n",
              "    [theme=dark] .colab-df-convert {\n",
              "      background-color: #3B4455;\n",
              "      fill: #D2E3FC;\n",
              "    }\n",
              "\n",
              "    [theme=dark] .colab-df-convert:hover {\n",
              "      background-color: #434B5C;\n",
              "      box-shadow: 0px 1px 3px 1px rgba(0, 0, 0, 0.15);\n",
              "      filter: drop-shadow(0px 1px 2px rgba(0, 0, 0, 0.3));\n",
              "      fill: #FFFFFF;\n",
              "    }\n",
              "  </style>\n",
              "\n",
              "      <script>\n",
              "        const buttonEl =\n",
              "          document.querySelector('#df-16da0924-2fbc-404a-b684-74f7b9a908b2 button.colab-df-convert');\n",
              "        buttonEl.style.display =\n",
              "          google.colab.kernel.accessAllowed ? 'block' : 'none';\n",
              "\n",
              "        async function convertToInteractive(key) {\n",
              "          const element = document.querySelector('#df-16da0924-2fbc-404a-b684-74f7b9a908b2');\n",
              "          const dataTable =\n",
              "            await google.colab.kernel.invokeFunction('convertToInteractive',\n",
              "                                                     [key], {});\n",
              "          if (!dataTable) return;\n",
              "\n",
              "          const docLinkHtml = 'Like what you see? Visit the ' +\n",
              "            '<a target=\"_blank\" href=https://colab.research.google.com/notebooks/data_table.ipynb>data table notebook</a>'\n",
              "            + ' to learn more about interactive tables.';\n",
              "          element.innerHTML = '';\n",
              "          dataTable['output_type'] = 'display_data';\n",
              "          await google.colab.output.renderOutput(dataTable, element);\n",
              "          const docLink = document.createElement('div');\n",
              "          docLink.innerHTML = docLinkHtml;\n",
              "          element.appendChild(docLink);\n",
              "        }\n",
              "      </script>\n",
              "    </div>\n",
              "  </div>\n",
              "  "
            ]
          },
          "metadata": {},
          "execution_count": 37
        }
      ]
    },
    {
      "cell_type": "code",
      "source": [
        "X.drop([3588],axis=0,inplace=True)"
      ],
      "metadata": {
        "id": "TC_UWJRLeuqy",
        "execution": {
          "iopub.status.busy": "2022-03-29T04:07:46.515710Z",
          "iopub.execute_input": "2022-03-29T04:07:46.516384Z",
          "iopub.status.idle": "2022-03-29T04:07:46.522987Z",
          "shell.execute_reply.started": "2022-03-29T04:07:46.516334Z",
          "shell.execute_reply": "2022-03-29T04:07:46.522351Z"
        },
        "trusted": true
      },
      "execution_count": 38,
      "outputs": []
    },
    {
      "cell_type": "code",
      "source": [
        "X.shape"
      ],
      "metadata": {
        "id": "GORjJv6ie-Ol",
        "outputId": "29470c0a-3583-4c80-be15-263d62b5a1e8",
        "execution": {
          "iopub.status.busy": "2022-03-29T04:07:50.232134Z",
          "iopub.execute_input": "2022-03-29T04:07:50.232387Z",
          "iopub.status.idle": "2022-03-29T04:07:50.238150Z",
          "shell.execute_reply.started": "2022-03-29T04:07:50.232359Z",
          "shell.execute_reply": "2022-03-29T04:07:50.237343Z"
        },
        "trusted": true,
        "colab": {
          "base_uri": "https://localhost:8080/"
        }
      },
      "execution_count": 39,
      "outputs": [
        {
          "output_type": "execute_result",
          "data": {
            "text/plain": [
              "(9999, 2)"
            ]
          },
          "metadata": {},
          "execution_count": 39
        }
      ]
    },
    {
      "cell_type": "code",
      "source": [
        "print(new_files[0],X.files.head(1)) "
      ],
      "metadata": {
        "id": "p7tM73kbGeu1",
        "outputId": "4e76118d-62cd-4e30-9cae-32e29338f94d",
        "execution": {
          "iopub.status.busy": "2022-03-29T04:07:53.133595Z",
          "iopub.execute_input": "2022-03-29T04:07:53.134391Z",
          "iopub.status.idle": "2022-03-29T04:07:53.142103Z",
          "shell.execute_reply.started": "2022-03-29T04:07:53.134345Z",
          "shell.execute_reply": "2022-03-29T04:07:53.141217Z"
        },
        "trusted": true,
        "colab": {
          "base_uri": "https://localhost:8080/"
        }
      },
      "execution_count": 40,
      "outputs": [
        {
          "output_type": "stream",
          "name": "stdout",
          "text": [
            "/content/new_words/a01-000u-00-00.png 0    /content/words/a01/a01-000u/a01-000u-00-00.png\n",
            "Name: files, dtype: object\n"
          ]
        }
      ]
    },
    {
      "cell_type": "code",
      "source": [
        "X=X.reset_index()\n",
        "X.head(2)"
      ],
      "metadata": {
        "id": "ZDSzW6H0fHWz",
        "outputId": "61fb735e-b767-4f70-c06c-892d65f5e59c",
        "execution": {
          "iopub.status.busy": "2022-03-29T04:07:53.487730Z",
          "iopub.execute_input": "2022-03-29T04:07:53.488397Z",
          "iopub.status.idle": "2022-03-29T04:07:53.500690Z",
          "shell.execute_reply.started": "2022-03-29T04:07:53.488351Z",
          "shell.execute_reply": "2022-03-29T04:07:53.499901Z"
        },
        "trusted": true,
        "colab": {
          "base_uri": "https://localhost:8080/",
          "height": 112
        }
      },
      "execution_count": 41,
      "outputs": [
        {
          "output_type": "execute_result",
          "data": {
            "text/plain": [
              "   index                                           files  text\n",
              "0      0  /content/words/a01/a01-000u/a01-000u-00-00.png     A\n",
              "1      1  /content/words/a01/a01-000u/a01-000u-00-01.png  MOVE"
            ],
            "text/html": [
              "\n",
              "  <div id=\"df-9c07d7d4-882e-441b-a69d-95a34af1d9c2\">\n",
              "    <div class=\"colab-df-container\">\n",
              "      <div>\n",
              "<style scoped>\n",
              "    .dataframe tbody tr th:only-of-type {\n",
              "        vertical-align: middle;\n",
              "    }\n",
              "\n",
              "    .dataframe tbody tr th {\n",
              "        vertical-align: top;\n",
              "    }\n",
              "\n",
              "    .dataframe thead th {\n",
              "        text-align: right;\n",
              "    }\n",
              "</style>\n",
              "<table border=\"1\" class=\"dataframe\">\n",
              "  <thead>\n",
              "    <tr style=\"text-align: right;\">\n",
              "      <th></th>\n",
              "      <th>index</th>\n",
              "      <th>files</th>\n",
              "      <th>text</th>\n",
              "    </tr>\n",
              "  </thead>\n",
              "  <tbody>\n",
              "    <tr>\n",
              "      <th>0</th>\n",
              "      <td>0</td>\n",
              "      <td>/content/words/a01/a01-000u/a01-000u-00-00.png</td>\n",
              "      <td>A</td>\n",
              "    </tr>\n",
              "    <tr>\n",
              "      <th>1</th>\n",
              "      <td>1</td>\n",
              "      <td>/content/words/a01/a01-000u/a01-000u-00-01.png</td>\n",
              "      <td>MOVE</td>\n",
              "    </tr>\n",
              "  </tbody>\n",
              "</table>\n",
              "</div>\n",
              "      <button class=\"colab-df-convert\" onclick=\"convertToInteractive('df-9c07d7d4-882e-441b-a69d-95a34af1d9c2')\"\n",
              "              title=\"Convert this dataframe to an interactive table.\"\n",
              "              style=\"display:none;\">\n",
              "        \n",
              "  <svg xmlns=\"http://www.w3.org/2000/svg\" height=\"24px\"viewBox=\"0 0 24 24\"\n",
              "       width=\"24px\">\n",
              "    <path d=\"M0 0h24v24H0V0z\" fill=\"none\"/>\n",
              "    <path d=\"M18.56 5.44l.94 2.06.94-2.06 2.06-.94-2.06-.94-.94-2.06-.94 2.06-2.06.94zm-11 1L8.5 8.5l.94-2.06 2.06-.94-2.06-.94L8.5 2.5l-.94 2.06-2.06.94zm10 10l.94 2.06.94-2.06 2.06-.94-2.06-.94-.94-2.06-.94 2.06-2.06.94z\"/><path d=\"M17.41 7.96l-1.37-1.37c-.4-.4-.92-.59-1.43-.59-.52 0-1.04.2-1.43.59L10.3 9.45l-7.72 7.72c-.78.78-.78 2.05 0 2.83L4 21.41c.39.39.9.59 1.41.59.51 0 1.02-.2 1.41-.59l7.78-7.78 2.81-2.81c.8-.78.8-2.07 0-2.86zM5.41 20L4 18.59l7.72-7.72 1.47 1.35L5.41 20z\"/>\n",
              "  </svg>\n",
              "      </button>\n",
              "      \n",
              "  <style>\n",
              "    .colab-df-container {\n",
              "      display:flex;\n",
              "      flex-wrap:wrap;\n",
              "      gap: 12px;\n",
              "    }\n",
              "\n",
              "    .colab-df-convert {\n",
              "      background-color: #E8F0FE;\n",
              "      border: none;\n",
              "      border-radius: 50%;\n",
              "      cursor: pointer;\n",
              "      display: none;\n",
              "      fill: #1967D2;\n",
              "      height: 32px;\n",
              "      padding: 0 0 0 0;\n",
              "      width: 32px;\n",
              "    }\n",
              "\n",
              "    .colab-df-convert:hover {\n",
              "      background-color: #E2EBFA;\n",
              "      box-shadow: 0px 1px 2px rgba(60, 64, 67, 0.3), 0px 1px 3px 1px rgba(60, 64, 67, 0.15);\n",
              "      fill: #174EA6;\n",
              "    }\n",
              "\n",
              "    [theme=dark] .colab-df-convert {\n",
              "      background-color: #3B4455;\n",
              "      fill: #D2E3FC;\n",
              "    }\n",
              "\n",
              "    [theme=dark] .colab-df-convert:hover {\n",
              "      background-color: #434B5C;\n",
              "      box-shadow: 0px 1px 3px 1px rgba(0, 0, 0, 0.15);\n",
              "      filter: drop-shadow(0px 1px 2px rgba(0, 0, 0, 0.3));\n",
              "      fill: #FFFFFF;\n",
              "    }\n",
              "  </style>\n",
              "\n",
              "      <script>\n",
              "        const buttonEl =\n",
              "          document.querySelector('#df-9c07d7d4-882e-441b-a69d-95a34af1d9c2 button.colab-df-convert');\n",
              "        buttonEl.style.display =\n",
              "          google.colab.kernel.accessAllowed ? 'block' : 'none';\n",
              "\n",
              "        async function convertToInteractive(key) {\n",
              "          const element = document.querySelector('#df-9c07d7d4-882e-441b-a69d-95a34af1d9c2');\n",
              "          const dataTable =\n",
              "            await google.colab.kernel.invokeFunction('convertToInteractive',\n",
              "                                                     [key], {});\n",
              "          if (!dataTable) return;\n",
              "\n",
              "          const docLinkHtml = 'Like what you see? Visit the ' +\n",
              "            '<a target=\"_blank\" href=https://colab.research.google.com/notebooks/data_table.ipynb>data table notebook</a>'\n",
              "            + ' to learn more about interactive tables.';\n",
              "          element.innerHTML = '';\n",
              "          dataTable['output_type'] = 'display_data';\n",
              "          await google.colab.output.renderOutput(dataTable, element);\n",
              "          const docLink = document.createElement('div');\n",
              "          docLink.innerHTML = docLinkHtml;\n",
              "          element.appendChild(docLink);\n",
              "        }\n",
              "      </script>\n",
              "    </div>\n",
              "  </div>\n",
              "  "
            ]
          },
          "metadata": {},
          "execution_count": 41
        }
      ]
    },
    {
      "cell_type": "code",
      "source": [
        "X.drop([\"index\"],axis=1,inplace=True)\n",
        "print(X.shape)\n",
        "X.head(3)"
      ],
      "metadata": {
        "id": "JkiVnehdfMpB",
        "outputId": "58153958-6bd7-4cd8-9a29-0165dcec69a7",
        "execution": {
          "iopub.status.busy": "2022-03-29T04:07:54.569293Z",
          "iopub.execute_input": "2022-03-29T04:07:54.569556Z",
          "iopub.status.idle": "2022-03-29T04:07:54.581129Z",
          "shell.execute_reply.started": "2022-03-29T04:07:54.569529Z",
          "shell.execute_reply": "2022-03-29T04:07:54.580283Z"
        },
        "trusted": true,
        "colab": {
          "base_uri": "https://localhost:8080/",
          "height": 161
        }
      },
      "execution_count": 42,
      "outputs": [
        {
          "output_type": "stream",
          "name": "stdout",
          "text": [
            "(9999, 2)\n"
          ]
        },
        {
          "output_type": "execute_result",
          "data": {
            "text/plain": [
              "                                            files  text\n",
              "0  /content/words/a01/a01-000u/a01-000u-00-00.png     A\n",
              "1  /content/words/a01/a01-000u/a01-000u-00-01.png  MOVE\n",
              "2  /content/words/a01/a01-000u/a01-000u-00-02.png    to"
            ],
            "text/html": [
              "\n",
              "  <div id=\"df-f484871c-947d-4bc1-8c30-30ee110f9e84\">\n",
              "    <div class=\"colab-df-container\">\n",
              "      <div>\n",
              "<style scoped>\n",
              "    .dataframe tbody tr th:only-of-type {\n",
              "        vertical-align: middle;\n",
              "    }\n",
              "\n",
              "    .dataframe tbody tr th {\n",
              "        vertical-align: top;\n",
              "    }\n",
              "\n",
              "    .dataframe thead th {\n",
              "        text-align: right;\n",
              "    }\n",
              "</style>\n",
              "<table border=\"1\" class=\"dataframe\">\n",
              "  <thead>\n",
              "    <tr style=\"text-align: right;\">\n",
              "      <th></th>\n",
              "      <th>files</th>\n",
              "      <th>text</th>\n",
              "    </tr>\n",
              "  </thead>\n",
              "  <tbody>\n",
              "    <tr>\n",
              "      <th>0</th>\n",
              "      <td>/content/words/a01/a01-000u/a01-000u-00-00.png</td>\n",
              "      <td>A</td>\n",
              "    </tr>\n",
              "    <tr>\n",
              "      <th>1</th>\n",
              "      <td>/content/words/a01/a01-000u/a01-000u-00-01.png</td>\n",
              "      <td>MOVE</td>\n",
              "    </tr>\n",
              "    <tr>\n",
              "      <th>2</th>\n",
              "      <td>/content/words/a01/a01-000u/a01-000u-00-02.png</td>\n",
              "      <td>to</td>\n",
              "    </tr>\n",
              "  </tbody>\n",
              "</table>\n",
              "</div>\n",
              "      <button class=\"colab-df-convert\" onclick=\"convertToInteractive('df-f484871c-947d-4bc1-8c30-30ee110f9e84')\"\n",
              "              title=\"Convert this dataframe to an interactive table.\"\n",
              "              style=\"display:none;\">\n",
              "        \n",
              "  <svg xmlns=\"http://www.w3.org/2000/svg\" height=\"24px\"viewBox=\"0 0 24 24\"\n",
              "       width=\"24px\">\n",
              "    <path d=\"M0 0h24v24H0V0z\" fill=\"none\"/>\n",
              "    <path d=\"M18.56 5.44l.94 2.06.94-2.06 2.06-.94-2.06-.94-.94-2.06-.94 2.06-2.06.94zm-11 1L8.5 8.5l.94-2.06 2.06-.94-2.06-.94L8.5 2.5l-.94 2.06-2.06.94zm10 10l.94 2.06.94-2.06 2.06-.94-2.06-.94-.94-2.06-.94 2.06-2.06.94z\"/><path d=\"M17.41 7.96l-1.37-1.37c-.4-.4-.92-.59-1.43-.59-.52 0-1.04.2-1.43.59L10.3 9.45l-7.72 7.72c-.78.78-.78 2.05 0 2.83L4 21.41c.39.39.9.59 1.41.59.51 0 1.02-.2 1.41-.59l7.78-7.78 2.81-2.81c.8-.78.8-2.07 0-2.86zM5.41 20L4 18.59l7.72-7.72 1.47 1.35L5.41 20z\"/>\n",
              "  </svg>\n",
              "      </button>\n",
              "      \n",
              "  <style>\n",
              "    .colab-df-container {\n",
              "      display:flex;\n",
              "      flex-wrap:wrap;\n",
              "      gap: 12px;\n",
              "    }\n",
              "\n",
              "    .colab-df-convert {\n",
              "      background-color: #E8F0FE;\n",
              "      border: none;\n",
              "      border-radius: 50%;\n",
              "      cursor: pointer;\n",
              "      display: none;\n",
              "      fill: #1967D2;\n",
              "      height: 32px;\n",
              "      padding: 0 0 0 0;\n",
              "      width: 32px;\n",
              "    }\n",
              "\n",
              "    .colab-df-convert:hover {\n",
              "      background-color: #E2EBFA;\n",
              "      box-shadow: 0px 1px 2px rgba(60, 64, 67, 0.3), 0px 1px 3px 1px rgba(60, 64, 67, 0.15);\n",
              "      fill: #174EA6;\n",
              "    }\n",
              "\n",
              "    [theme=dark] .colab-df-convert {\n",
              "      background-color: #3B4455;\n",
              "      fill: #D2E3FC;\n",
              "    }\n",
              "\n",
              "    [theme=dark] .colab-df-convert:hover {\n",
              "      background-color: #434B5C;\n",
              "      box-shadow: 0px 1px 3px 1px rgba(0, 0, 0, 0.15);\n",
              "      filter: drop-shadow(0px 1px 2px rgba(0, 0, 0, 0.3));\n",
              "      fill: #FFFFFF;\n",
              "    }\n",
              "  </style>\n",
              "\n",
              "      <script>\n",
              "        const buttonEl =\n",
              "          document.querySelector('#df-f484871c-947d-4bc1-8c30-30ee110f9e84 button.colab-df-convert');\n",
              "        buttonEl.style.display =\n",
              "          google.colab.kernel.accessAllowed ? 'block' : 'none';\n",
              "\n",
              "        async function convertToInteractive(key) {\n",
              "          const element = document.querySelector('#df-f484871c-947d-4bc1-8c30-30ee110f9e84');\n",
              "          const dataTable =\n",
              "            await google.colab.kernel.invokeFunction('convertToInteractive',\n",
              "                                                     [key], {});\n",
              "          if (!dataTable) return;\n",
              "\n",
              "          const docLinkHtml = 'Like what you see? Visit the ' +\n",
              "            '<a target=\"_blank\" href=https://colab.research.google.com/notebooks/data_table.ipynb>data table notebook</a>'\n",
              "            + ' to learn more about interactive tables.';\n",
              "          element.innerHTML = '';\n",
              "          dataTable['output_type'] = 'display_data';\n",
              "          await google.colab.output.renderOutput(dataTable, element);\n",
              "          const docLink = document.createElement('div');\n",
              "          docLink.innerHTML = docLinkHtml;\n",
              "          element.appendChild(docLink);\n",
              "        }\n",
              "      </script>\n",
              "    </div>\n",
              "  </div>\n",
              "  "
            ]
          },
          "metadata": {},
          "execution_count": 42
        }
      ]
    },
    {
      "cell_type": "code",
      "source": [
        "X=pd.concat([X,pd.Series(new_files)],axis=1)\n",
        "X.head(3)"
      ],
      "metadata": {
        "id": "uj3lQWm-G1F5",
        "outputId": "82db9eb7-8b54-4fcd-994c-40d44265c36f",
        "execution": {
          "iopub.status.busy": "2022-03-29T04:07:56.162149Z",
          "iopub.execute_input": "2022-03-29T04:07:56.162836Z",
          "iopub.status.idle": "2022-03-29T04:07:56.176803Z",
          "shell.execute_reply.started": "2022-03-29T04:07:56.162798Z",
          "shell.execute_reply": "2022-03-29T04:07:56.175895Z"
        },
        "trusted": true,
        "colab": {
          "base_uri": "https://localhost:8080/",
          "height": 143
        }
      },
      "execution_count": 43,
      "outputs": [
        {
          "output_type": "execute_result",
          "data": {
            "text/plain": [
              "                                            files  text  \\\n",
              "0  /content/words/a01/a01-000u/a01-000u-00-00.png     A   \n",
              "1  /content/words/a01/a01-000u/a01-000u-00-01.png  MOVE   \n",
              "2  /content/words/a01/a01-000u/a01-000u-00-02.png    to   \n",
              "\n",
              "                                       0  \n",
              "0  /content/new_words/a01-000u-00-00.png  \n",
              "1  /content/new_words/a01-000u-00-01.png  \n",
              "2  /content/new_words/a01-000u-00-02.png  "
            ],
            "text/html": [
              "\n",
              "  <div id=\"df-cc23ddc0-a7e4-42cd-a751-81657181d3a1\">\n",
              "    <div class=\"colab-df-container\">\n",
              "      <div>\n",
              "<style scoped>\n",
              "    .dataframe tbody tr th:only-of-type {\n",
              "        vertical-align: middle;\n",
              "    }\n",
              "\n",
              "    .dataframe tbody tr th {\n",
              "        vertical-align: top;\n",
              "    }\n",
              "\n",
              "    .dataframe thead th {\n",
              "        text-align: right;\n",
              "    }\n",
              "</style>\n",
              "<table border=\"1\" class=\"dataframe\">\n",
              "  <thead>\n",
              "    <tr style=\"text-align: right;\">\n",
              "      <th></th>\n",
              "      <th>files</th>\n",
              "      <th>text</th>\n",
              "      <th>0</th>\n",
              "    </tr>\n",
              "  </thead>\n",
              "  <tbody>\n",
              "    <tr>\n",
              "      <th>0</th>\n",
              "      <td>/content/words/a01/a01-000u/a01-000u-00-00.png</td>\n",
              "      <td>A</td>\n",
              "      <td>/content/new_words/a01-000u-00-00.png</td>\n",
              "    </tr>\n",
              "    <tr>\n",
              "      <th>1</th>\n",
              "      <td>/content/words/a01/a01-000u/a01-000u-00-01.png</td>\n",
              "      <td>MOVE</td>\n",
              "      <td>/content/new_words/a01-000u-00-01.png</td>\n",
              "    </tr>\n",
              "    <tr>\n",
              "      <th>2</th>\n",
              "      <td>/content/words/a01/a01-000u/a01-000u-00-02.png</td>\n",
              "      <td>to</td>\n",
              "      <td>/content/new_words/a01-000u-00-02.png</td>\n",
              "    </tr>\n",
              "  </tbody>\n",
              "</table>\n",
              "</div>\n",
              "      <button class=\"colab-df-convert\" onclick=\"convertToInteractive('df-cc23ddc0-a7e4-42cd-a751-81657181d3a1')\"\n",
              "              title=\"Convert this dataframe to an interactive table.\"\n",
              "              style=\"display:none;\">\n",
              "        \n",
              "  <svg xmlns=\"http://www.w3.org/2000/svg\" height=\"24px\"viewBox=\"0 0 24 24\"\n",
              "       width=\"24px\">\n",
              "    <path d=\"M0 0h24v24H0V0z\" fill=\"none\"/>\n",
              "    <path d=\"M18.56 5.44l.94 2.06.94-2.06 2.06-.94-2.06-.94-.94-2.06-.94 2.06-2.06.94zm-11 1L8.5 8.5l.94-2.06 2.06-.94-2.06-.94L8.5 2.5l-.94 2.06-2.06.94zm10 10l.94 2.06.94-2.06 2.06-.94-2.06-.94-.94-2.06-.94 2.06-2.06.94z\"/><path d=\"M17.41 7.96l-1.37-1.37c-.4-.4-.92-.59-1.43-.59-.52 0-1.04.2-1.43.59L10.3 9.45l-7.72 7.72c-.78.78-.78 2.05 0 2.83L4 21.41c.39.39.9.59 1.41.59.51 0 1.02-.2 1.41-.59l7.78-7.78 2.81-2.81c.8-.78.8-2.07 0-2.86zM5.41 20L4 18.59l7.72-7.72 1.47 1.35L5.41 20z\"/>\n",
              "  </svg>\n",
              "      </button>\n",
              "      \n",
              "  <style>\n",
              "    .colab-df-container {\n",
              "      display:flex;\n",
              "      flex-wrap:wrap;\n",
              "      gap: 12px;\n",
              "    }\n",
              "\n",
              "    .colab-df-convert {\n",
              "      background-color: #E8F0FE;\n",
              "      border: none;\n",
              "      border-radius: 50%;\n",
              "      cursor: pointer;\n",
              "      display: none;\n",
              "      fill: #1967D2;\n",
              "      height: 32px;\n",
              "      padding: 0 0 0 0;\n",
              "      width: 32px;\n",
              "    }\n",
              "\n",
              "    .colab-df-convert:hover {\n",
              "      background-color: #E2EBFA;\n",
              "      box-shadow: 0px 1px 2px rgba(60, 64, 67, 0.3), 0px 1px 3px 1px rgba(60, 64, 67, 0.15);\n",
              "      fill: #174EA6;\n",
              "    }\n",
              "\n",
              "    [theme=dark] .colab-df-convert {\n",
              "      background-color: #3B4455;\n",
              "      fill: #D2E3FC;\n",
              "    }\n",
              "\n",
              "    [theme=dark] .colab-df-convert:hover {\n",
              "      background-color: #434B5C;\n",
              "      box-shadow: 0px 1px 3px 1px rgba(0, 0, 0, 0.15);\n",
              "      filter: drop-shadow(0px 1px 2px rgba(0, 0, 0, 0.3));\n",
              "      fill: #FFFFFF;\n",
              "    }\n",
              "  </style>\n",
              "\n",
              "      <script>\n",
              "        const buttonEl =\n",
              "          document.querySelector('#df-cc23ddc0-a7e4-42cd-a751-81657181d3a1 button.colab-df-convert');\n",
              "        buttonEl.style.display =\n",
              "          google.colab.kernel.accessAllowed ? 'block' : 'none';\n",
              "\n",
              "        async function convertToInteractive(key) {\n",
              "          const element = document.querySelector('#df-cc23ddc0-a7e4-42cd-a751-81657181d3a1');\n",
              "          const dataTable =\n",
              "            await google.colab.kernel.invokeFunction('convertToInteractive',\n",
              "                                                     [key], {});\n",
              "          if (!dataTable) return;\n",
              "\n",
              "          const docLinkHtml = 'Like what you see? Visit the ' +\n",
              "            '<a target=\"_blank\" href=https://colab.research.google.com/notebooks/data_table.ipynb>data table notebook</a>'\n",
              "            + ' to learn more about interactive tables.';\n",
              "          element.innerHTML = '';\n",
              "          dataTable['output_type'] = 'display_data';\n",
              "          await google.colab.output.renderOutput(dataTable, element);\n",
              "          const docLink = document.createElement('div');\n",
              "          docLink.innerHTML = docLinkHtml;\n",
              "          element.appendChild(docLink);\n",
              "        }\n",
              "      </script>\n",
              "    </div>\n",
              "  </div>\n",
              "  "
            ]
          },
          "metadata": {},
          "execution_count": 43
        }
      ]
    },
    {
      "cell_type": "code",
      "source": [
        "X.columns=[\"files\",\"text\",\"new_files\"]\n",
        "X.drop([\"files\"],axis=1,inplace=True)\n",
        "X.head(3)"
      ],
      "metadata": {
        "id": "3aPZZvqzJMwv",
        "outputId": "1da3f237-17cf-48dd-d329-c68308add704",
        "execution": {
          "iopub.status.busy": "2022-03-29T04:07:58.395624Z",
          "iopub.execute_input": "2022-03-29T04:07:58.396302Z",
          "iopub.status.idle": "2022-03-29T04:07:58.409839Z",
          "shell.execute_reply.started": "2022-03-29T04:07:58.396266Z",
          "shell.execute_reply": "2022-03-29T04:07:58.409129Z"
        },
        "trusted": true,
        "colab": {
          "base_uri": "https://localhost:8080/",
          "height": 143
        }
      },
      "execution_count": 44,
      "outputs": [
        {
          "output_type": "execute_result",
          "data": {
            "text/plain": [
              "   text                              new_files\n",
              "0     A  /content/new_words/a01-000u-00-00.png\n",
              "1  MOVE  /content/new_words/a01-000u-00-01.png\n",
              "2    to  /content/new_words/a01-000u-00-02.png"
            ],
            "text/html": [
              "\n",
              "  <div id=\"df-7fdb3fb4-1c2e-44ec-bf05-dab5df7d3ac9\">\n",
              "    <div class=\"colab-df-container\">\n",
              "      <div>\n",
              "<style scoped>\n",
              "    .dataframe tbody tr th:only-of-type {\n",
              "        vertical-align: middle;\n",
              "    }\n",
              "\n",
              "    .dataframe tbody tr th {\n",
              "        vertical-align: top;\n",
              "    }\n",
              "\n",
              "    .dataframe thead th {\n",
              "        text-align: right;\n",
              "    }\n",
              "</style>\n",
              "<table border=\"1\" class=\"dataframe\">\n",
              "  <thead>\n",
              "    <tr style=\"text-align: right;\">\n",
              "      <th></th>\n",
              "      <th>text</th>\n",
              "      <th>new_files</th>\n",
              "    </tr>\n",
              "  </thead>\n",
              "  <tbody>\n",
              "    <tr>\n",
              "      <th>0</th>\n",
              "      <td>A</td>\n",
              "      <td>/content/new_words/a01-000u-00-00.png</td>\n",
              "    </tr>\n",
              "    <tr>\n",
              "      <th>1</th>\n",
              "      <td>MOVE</td>\n",
              "      <td>/content/new_words/a01-000u-00-01.png</td>\n",
              "    </tr>\n",
              "    <tr>\n",
              "      <th>2</th>\n",
              "      <td>to</td>\n",
              "      <td>/content/new_words/a01-000u-00-02.png</td>\n",
              "    </tr>\n",
              "  </tbody>\n",
              "</table>\n",
              "</div>\n",
              "      <button class=\"colab-df-convert\" onclick=\"convertToInteractive('df-7fdb3fb4-1c2e-44ec-bf05-dab5df7d3ac9')\"\n",
              "              title=\"Convert this dataframe to an interactive table.\"\n",
              "              style=\"display:none;\">\n",
              "        \n",
              "  <svg xmlns=\"http://www.w3.org/2000/svg\" height=\"24px\"viewBox=\"0 0 24 24\"\n",
              "       width=\"24px\">\n",
              "    <path d=\"M0 0h24v24H0V0z\" fill=\"none\"/>\n",
              "    <path d=\"M18.56 5.44l.94 2.06.94-2.06 2.06-.94-2.06-.94-.94-2.06-.94 2.06-2.06.94zm-11 1L8.5 8.5l.94-2.06 2.06-.94-2.06-.94L8.5 2.5l-.94 2.06-2.06.94zm10 10l.94 2.06.94-2.06 2.06-.94-2.06-.94-.94-2.06-.94 2.06-2.06.94z\"/><path d=\"M17.41 7.96l-1.37-1.37c-.4-.4-.92-.59-1.43-.59-.52 0-1.04.2-1.43.59L10.3 9.45l-7.72 7.72c-.78.78-.78 2.05 0 2.83L4 21.41c.39.39.9.59 1.41.59.51 0 1.02-.2 1.41-.59l7.78-7.78 2.81-2.81c.8-.78.8-2.07 0-2.86zM5.41 20L4 18.59l7.72-7.72 1.47 1.35L5.41 20z\"/>\n",
              "  </svg>\n",
              "      </button>\n",
              "      \n",
              "  <style>\n",
              "    .colab-df-container {\n",
              "      display:flex;\n",
              "      flex-wrap:wrap;\n",
              "      gap: 12px;\n",
              "    }\n",
              "\n",
              "    .colab-df-convert {\n",
              "      background-color: #E8F0FE;\n",
              "      border: none;\n",
              "      border-radius: 50%;\n",
              "      cursor: pointer;\n",
              "      display: none;\n",
              "      fill: #1967D2;\n",
              "      height: 32px;\n",
              "      padding: 0 0 0 0;\n",
              "      width: 32px;\n",
              "    }\n",
              "\n",
              "    .colab-df-convert:hover {\n",
              "      background-color: #E2EBFA;\n",
              "      box-shadow: 0px 1px 2px rgba(60, 64, 67, 0.3), 0px 1px 3px 1px rgba(60, 64, 67, 0.15);\n",
              "      fill: #174EA6;\n",
              "    }\n",
              "\n",
              "    [theme=dark] .colab-df-convert {\n",
              "      background-color: #3B4455;\n",
              "      fill: #D2E3FC;\n",
              "    }\n",
              "\n",
              "    [theme=dark] .colab-df-convert:hover {\n",
              "      background-color: #434B5C;\n",
              "      box-shadow: 0px 1px 3px 1px rgba(0, 0, 0, 0.15);\n",
              "      filter: drop-shadow(0px 1px 2px rgba(0, 0, 0, 0.3));\n",
              "      fill: #FFFFFF;\n",
              "    }\n",
              "  </style>\n",
              "\n",
              "      <script>\n",
              "        const buttonEl =\n",
              "          document.querySelector('#df-7fdb3fb4-1c2e-44ec-bf05-dab5df7d3ac9 button.colab-df-convert');\n",
              "        buttonEl.style.display =\n",
              "          google.colab.kernel.accessAllowed ? 'block' : 'none';\n",
              "\n",
              "        async function convertToInteractive(key) {\n",
              "          const element = document.querySelector('#df-7fdb3fb4-1c2e-44ec-bf05-dab5df7d3ac9');\n",
              "          const dataTable =\n",
              "            await google.colab.kernel.invokeFunction('convertToInteractive',\n",
              "                                                     [key], {});\n",
              "          if (!dataTable) return;\n",
              "\n",
              "          const docLinkHtml = 'Like what you see? Visit the ' +\n",
              "            '<a target=\"_blank\" href=https://colab.research.google.com/notebooks/data_table.ipynb>data table notebook</a>'\n",
              "            + ' to learn more about interactive tables.';\n",
              "          element.innerHTML = '';\n",
              "          dataTable['output_type'] = 'display_data';\n",
              "          await google.colab.output.renderOutput(dataTable, element);\n",
              "          const docLink = document.createElement('div');\n",
              "          docLink.innerHTML = docLinkHtml;\n",
              "          element.appendChild(docLink);\n",
              "        }\n",
              "      </script>\n",
              "    </div>\n",
              "  </div>\n",
              "  "
            ]
          },
          "metadata": {},
          "execution_count": 44
        }
      ]
    },
    {
      "cell_type": "code",
      "source": [
        "img=image.imread(\"/content/new_words/a01-000u-00-00.png\")\n",
        "print(img[0,0,0])\n",
        "plt.imshow(img)\n",
        "plt.show()"
      ],
      "metadata": {
        "id": "Lnr6Eb9JHX6N",
        "outputId": "88861ce4-3b30-46d1-9646-1da84926652a",
        "execution": {
          "iopub.status.busy": "2022-03-29T04:08:00.995405Z",
          "iopub.execute_input": "2022-03-29T04:08:00.996149Z",
          "iopub.status.idle": "2022-03-29T04:08:01.157700Z",
          "shell.execute_reply.started": "2022-03-29T04:08:00.996111Z",
          "shell.execute_reply": "2022-03-29T04:08:01.157009Z"
        },
        "trusted": true,
        "colab": {
          "base_uri": "https://localhost:8080/",
          "height": 285
        }
      },
      "execution_count": 45,
      "outputs": [
        {
          "output_type": "stream",
          "name": "stdout",
          "text": [
            "0.98039216\n"
          ]
        },
        {
          "output_type": "display_data",
          "data": {
            "text/plain": [
              "<Figure size 432x288 with 1 Axes>"
            ],
            "image/png": "[encoded data removed]"
          },
          "metadata": {
            "needs_background": "light"
          }
        }
      ]
    },
    {
      "cell_type": "code",
      "source": [
        "X.head(2)"
      ],
      "metadata": {
        "id": "bboEHQa4KM9o",
        "outputId": "b1ddf70c-ae79-43cb-b5ac-5339f1b112c8",
        "execution": {
          "iopub.status.busy": "2022-03-29T04:08:03.865251Z",
          "iopub.execute_input": "2022-03-29T04:08:03.865533Z",
          "iopub.status.idle": "2022-03-29T04:08:03.874222Z",
          "shell.execute_reply.started": "2022-03-29T04:08:03.865499Z",
          "shell.execute_reply": "2022-03-29T04:08:03.873552Z"
        },
        "trusted": true,
        "colab": {
          "base_uri": "https://localhost:8080/",
          "height": 112
        }
      },
      "execution_count": 46,
      "outputs": [
        {
          "output_type": "execute_result",
          "data": {
            "text/plain": [
              "   text                              new_files\n",
              "0     A  /content/new_words/a01-000u-00-00.png\n",
              "1  MOVE  /content/new_words/a01-000u-00-01.png"
            ],
            "text/html": [
              "\n",
              "  <div id=\"df-67193e6f-d7ba-4cb3-836a-d2cb9f387f79\">\n",
              "    <div class=\"colab-df-container\">\n",
              "      <div>\n",
              "<style scoped>\n",
              "    .dataframe tbody tr th:only-of-type {\n",
              "        vertical-align: middle;\n",
              "    }\n",
              "\n",
              "    .dataframe tbody tr th {\n",
              "        vertical-align: top;\n",
              "    }\n",
              "\n",
              "    .dataframe thead th {\n",
              "        text-align: right;\n",
              "    }\n",
              "</style>\n",
              "<table border=\"1\" class=\"dataframe\">\n",
              "  <thead>\n",
              "    <tr style=\"text-align: right;\">\n",
              "      <th></th>\n",
              "      <th>text</th>\n",
              "      <th>new_files</th>\n",
              "    </tr>\n",
              "  </thead>\n",
              "  <tbody>\n",
              "    <tr>\n",
              "      <th>0</th>\n",
              "      <td>A</td>\n",
              "      <td>/content/new_words/a01-000u-00-00.png</td>\n",
              "    </tr>\n",
              "    <tr>\n",
              "      <th>1</th>\n",
              "      <td>MOVE</td>\n",
              "      <td>/content/new_words/a01-000u-00-01.png</td>\n",
              "    </tr>\n",
              "  </tbody>\n",
              "</table>\n",
              "</div>\n",
              "      <button class=\"colab-df-convert\" onclick=\"convertToInteractive('df-67193e6f-d7ba-4cb3-836a-d2cb9f387f79')\"\n",
              "              title=\"Convert this dataframe to an interactive table.\"\n",
              "              style=\"display:none;\">\n",
              "        \n",
              "  <svg xmlns=\"http://www.w3.org/2000/svg\" height=\"24px\"viewBox=\"0 0 24 24\"\n",
              "       width=\"24px\">\n",
              "    <path d=\"M0 0h24v24H0V0z\" fill=\"none\"/>\n",
              "    <path d=\"M18.56 5.44l.94 2.06.94-2.06 2.06-.94-2.06-.94-.94-2.06-.94 2.06-2.06.94zm-11 1L8.5 8.5l.94-2.06 2.06-.94-2.06-.94L8.5 2.5l-.94 2.06-2.06.94zm10 10l.94 2.06.94-2.06 2.06-.94-2.06-.94-.94-2.06-.94 2.06-2.06.94z\"/><path d=\"M17.41 7.96l-1.37-1.37c-.4-.4-.92-.59-1.43-.59-.52 0-1.04.2-1.43.59L10.3 9.45l-7.72 7.72c-.78.78-.78 2.05 0 2.83L4 21.41c.39.39.9.59 1.41.59.51 0 1.02-.2 1.41-.59l7.78-7.78 2.81-2.81c.8-.78.8-2.07 0-2.86zM5.41 20L4 18.59l7.72-7.72 1.47 1.35L5.41 20z\"/>\n",
              "  </svg>\n",
              "      </button>\n",
              "      \n",
              "  <style>\n",
              "    .colab-df-container {\n",
              "      display:flex;\n",
              "      flex-wrap:wrap;\n",
              "      gap: 12px;\n",
              "    }\n",
              "\n",
              "    .colab-df-convert {\n",
              "      background-color: #E8F0FE;\n",
              "      border: none;\n",
              "      border-radius: 50%;\n",
              "      cursor: pointer;\n",
              "      display: none;\n",
              "      fill: #1967D2;\n",
              "      height: 32px;\n",
              "      padding: 0 0 0 0;\n",
              "      width: 32px;\n",
              "    }\n",
              "\n",
              "    .colab-df-convert:hover {\n",
              "      background-color: #E2EBFA;\n",
              "      box-shadow: 0px 1px 2px rgba(60, 64, 67, 0.3), 0px 1px 3px 1px rgba(60, 64, 67, 0.15);\n",
              "      fill: #174EA6;\n",
              "    }\n",
              "\n",
              "    [theme=dark] .colab-df-convert {\n",
              "      background-color: #3B4455;\n",
              "      fill: #D2E3FC;\n",
              "    }\n",
              "\n",
              "    [theme=dark] .colab-df-convert:hover {\n",
              "      background-color: #434B5C;\n",
              "      box-shadow: 0px 1px 3px 1px rgba(0, 0, 0, 0.15);\n",
              "      filter: drop-shadow(0px 1px 2px rgba(0, 0, 0, 0.3));\n",
              "      fill: #FFFFFF;\n",
              "    }\n",
              "  </style>\n",
              "\n",
              "      <script>\n",
              "        const buttonEl =\n",
              "          document.querySelector('#df-67193e6f-d7ba-4cb3-836a-d2cb9f387f79 button.colab-df-convert');\n",
              "        buttonEl.style.display =\n",
              "          google.colab.kernel.accessAllowed ? 'block' : 'none';\n",
              "\n",
              "        async function convertToInteractive(key) {\n",
              "          const element = document.querySelector('#df-67193e6f-d7ba-4cb3-836a-d2cb9f387f79');\n",
              "          const dataTable =\n",
              "            await google.colab.kernel.invokeFunction('convertToInteractive',\n",
              "                                                     [key], {});\n",
              "          if (!dataTable) return;\n",
              "\n",
              "          const docLinkHtml = 'Like what you see? Visit the ' +\n",
              "            '<a target=\"_blank\" href=https://colab.research.google.com/notebooks/data_table.ipynb>data table notebook</a>'\n",
              "            + ' to learn more about interactive tables.';\n",
              "          element.innerHTML = '';\n",
              "          dataTable['output_type'] = 'display_data';\n",
              "          await google.colab.output.renderOutput(dataTable, element);\n",
              "          const docLink = document.createElement('div');\n",
              "          docLink.innerHTML = docLinkHtml;\n",
              "          element.appendChild(docLink);\n",
              "        }\n",
              "      </script>\n",
              "    </div>\n",
              "  </div>\n",
              "  "
            ]
          },
          "metadata": {},
          "execution_count": 46
        }
      ]
    },
    {
      "cell_type": "code",
      "source": [
        "X.tail(5)"
      ],
      "metadata": {
        "id": "F9QV35Wf4PEO",
        "outputId": "31ee1ea3-f722-469a-8c76-a019f4430962",
        "execution": {
          "iopub.status.busy": "2022-03-29T04:08:04.408198Z",
          "iopub.execute_input": "2022-03-29T04:08:04.408728Z",
          "iopub.status.idle": "2022-03-29T04:08:04.416790Z",
          "shell.execute_reply.started": "2022-03-29T04:08:04.408690Z",
          "shell.execute_reply": "2022-03-29T04:08:04.416041Z"
        },
        "trusted": true,
        "colab": {
          "base_uri": "https://localhost:8080/",
          "height": 206
        }
      },
      "execution_count": 47,
      "outputs": [
        {
          "output_type": "execute_result",
          "data": {
            "text/plain": [
              "            text                             new_files\n",
              "9994      debate  /content/new_words/a05-053-08-00.png\n",
              "9995           ,  /content/new_words/a05-053-08-01.png\n",
              "9996        said  /content/new_words/a05-053-08-02.png\n",
              "9997         the  /content/new_words/a05-053-08-03.png\n",
              "9998  Government  /content/new_words/a05-053-08-04.png"
            ],
            "text/html": [
              "\n",
              "  <div id=\"df-0a389ad3-9a34-4456-b840-5c73094210fe\">\n",
              "    <div class=\"colab-df-container\">\n",
              "      <div>\n",
              "<style scoped>\n",
              "    .dataframe tbody tr th:only-of-type {\n",
              "        vertical-align: middle;\n",
              "    }\n",
              "\n",
              "    .dataframe tbody tr th {\n",
              "        vertical-align: top;\n",
              "    }\n",
              "\n",
              "    .dataframe thead th {\n",
              "        text-align: right;\n",
              "    }\n",
              "</style>\n",
              "<table border=\"1\" class=\"dataframe\">\n",
              "  <thead>\n",
              "    <tr style=\"text-align: right;\">\n",
              "      <th></th>\n",
              "      <th>text</th>\n",
              "      <th>new_files</th>\n",
              "    </tr>\n",
              "  </thead>\n",
              "  <tbody>\n",
              "    <tr>\n",
              "      <th>9994</th>\n",
              "      <td>debate</td>\n",
              "      <td>/content/new_words/a05-053-08-00.png</td>\n",
              "    </tr>\n",
              "    <tr>\n",
              "      <th>9995</th>\n",
              "      <td>,</td>\n",
              "      <td>/content/new_words/a05-053-08-01.png</td>\n",
              "    </tr>\n",
              "    <tr>\n",
              "      <th>9996</th>\n",
              "      <td>said</td>\n",
              "      <td>/content/new_words/a05-053-08-02.png</td>\n",
              "    </tr>\n",
              "    <tr>\n",
              "      <th>9997</th>\n",
              "      <td>the</td>\n",
              "      <td>/content/new_words/a05-053-08-03.png</td>\n",
              "    </tr>\n",
              "    <tr>\n",
              "      <th>9998</th>\n",
              "      <td>Government</td>\n",
              "      <td>/content/new_words/a05-053-08-04.png</td>\n",
              "    </tr>\n",
              "  </tbody>\n",
              "</table>\n",
              "</div>\n",
              "      <button class=\"colab-df-convert\" onclick=\"convertToInteractive('df-0a389ad3-9a34-4456-b840-5c73094210fe')\"\n",
              "              title=\"Convert this dataframe to an interactive table.\"\n",
              "              style=\"display:none;\">\n",
              "        \n",
              "  <svg xmlns=\"http://www.w3.org/2000/svg\" height=\"24px\"viewBox=\"0 0 24 24\"\n",
              "       width=\"24px\">\n",
              "    <path d=\"M0 0h24v24H0V0z\" fill=\"none\"/>\n",
              "    <path d=\"M18.56 5.44l.94 2.06.94-2.06 2.06-.94-2.06-.94-.94-2.06-.94 2.06-2.06.94zm-11 1L8.5 8.5l.94-2.06 2.06-.94-2.06-.94L8.5 2.5l-.94 2.06-2.06.94zm10 10l.94 2.06.94-2.06 2.06-.94-2.06-.94-.94-2.06-.94 2.06-2.06.94z\"/><path d=\"M17.41 7.96l-1.37-1.37c-.4-.4-.92-.59-1.43-.59-.52 0-1.04.2-1.43.59L10.3 9.45l-7.72 7.72c-.78.78-.78 2.05 0 2.83L4 21.41c.39.39.9.59 1.41.59.51 0 1.02-.2 1.41-.59l7.78-7.78 2.81-2.81c.8-.78.8-2.07 0-2.86zM5.41 20L4 18.59l7.72-7.72 1.47 1.35L5.41 20z\"/>\n",
              "  </svg>\n",
              "      </button>\n",
              "      \n",
              "  <style>\n",
              "    .colab-df-container {\n",
              "      display:flex;\n",
              "      flex-wrap:wrap;\n",
              "      gap: 12px;\n",
              "    }\n",
              "\n",
              "    .colab-df-convert {\n",
              "      background-color: #E8F0FE;\n",
              "      border: none;\n",
              "      border-radius: 50%;\n",
              "      cursor: pointer;\n",
              "      display: none;\n",
              "      fill: #1967D2;\n",
              "      height: 32px;\n",
              "      padding: 0 0 0 0;\n",
              "      width: 32px;\n",
              "    }\n",
              "\n",
              "    .colab-df-convert:hover {\n",
              "      background-color: #E2EBFA;\n",
              "      box-shadow: 0px 1px 2px rgba(60, 64, 67, 0.3), 0px 1px 3px 1px rgba(60, 64, 67, 0.15);\n",
              "      fill: #174EA6;\n",
              "    }\n",
              "\n",
              "    [theme=dark] .colab-df-convert {\n",
              "      background-color: #3B4455;\n",
              "      fill: #D2E3FC;\n",
              "    }\n",
              "\n",
              "    [theme=dark] .colab-df-convert:hover {\n",
              "      background-color: #434B5C;\n",
              "      box-shadow: 0px 1px 3px 1px rgba(0, 0, 0, 0.15);\n",
              "      filter: drop-shadow(0px 1px 2px rgba(0, 0, 0, 0.3));\n",
              "      fill: #FFFFFF;\n",
              "    }\n",
              "  </style>\n",
              "\n",
              "      <script>\n",
              "        const buttonEl =\n",
              "          document.querySelector('#df-0a389ad3-9a34-4456-b840-5c73094210fe button.colab-df-convert');\n",
              "        buttonEl.style.display =\n",
              "          google.colab.kernel.accessAllowed ? 'block' : 'none';\n",
              "\n",
              "        async function convertToInteractive(key) {\n",
              "          const element = document.querySelector('#df-0a389ad3-9a34-4456-b840-5c73094210fe');\n",
              "          const dataTable =\n",
              "            await google.colab.kernel.invokeFunction('convertToInteractive',\n",
              "                                                     [key], {});\n",
              "          if (!dataTable) return;\n",
              "\n",
              "          const docLinkHtml = 'Like what you see? Visit the ' +\n",
              "            '<a target=\"_blank\" href=https://colab.research.google.com/notebooks/data_table.ipynb>data table notebook</a>'\n",
              "            + ' to learn more about interactive tables.';\n",
              "          element.innerHTML = '';\n",
              "          dataTable['output_type'] = 'display_data';\n",
              "          await google.colab.output.renderOutput(dataTable, element);\n",
              "          const docLink = document.createElement('div');\n",
              "          docLink.innerHTML = docLinkHtml;\n",
              "          element.appendChild(docLink);\n",
              "        }\n",
              "      </script>\n",
              "    </div>\n",
              "  </div>\n",
              "  "
            ]
          },
          "metadata": {},
          "execution_count": 47
        }
      ]
    },
    {
      "cell_type": "markdown",
      "source": [
        "4. Create a list of all characters and use the character’s index to encode the actual words into digits\n"
      ],
      "metadata": {
        "id": "MdnejSgoUasx"
      }
    },
    {
      "cell_type": "code",
      "source": [
        "char_list=\"ABCDEFGHIJKLMNOPQRSTUVWXYZabcdefghijklmnopqrstuvwxyz0123456789 ,;.!?:'\\\"/\\|_@#&*+-=()\"\n",
        "char_tokens=[char for char in char_list]\n",
        "def get_token_text(text,char_token):\n",
        "  tokens=[token for token in text]\n",
        "  token_ids=[char_tokens.index(token) for token in tokens]\n",
        "  token_text=\",\".join([str(tkn) for tkn in token_ids])\n",
        "  max_len=len(token_ids)\n",
        "  return token_text,max_len"
      ],
      "metadata": {
        "id": "-RAGS8ds0LH0",
        "execution": {
          "iopub.status.busy": "2022-03-29T04:08:16.773948Z",
          "iopub.execute_input": "2022-03-29T04:08:16.774204Z",
          "iopub.status.idle": "2022-03-29T04:08:16.779950Z",
          "shell.execute_reply.started": "2022-03-29T04:08:16.774175Z",
          "shell.execute_reply": "2022-03-29T04:08:16.779256Z"
        },
        "trusted": true
      },
      "execution_count": 48,
      "outputs": []
    },
    {
      "cell_type": "code",
      "source": [
        "token_list=[]\n",
        "max_lens=[]\n",
        "for i in X.text:\n",
        "  token_text,max_len=get_token_text(i,char_tokens)\n",
        "  token_list.append(token_text)\n",
        "  max_lens.append(max_len)\n",
        "tokenization_data=pd.DataFrame({\"tokens\":token_list,\"max_len\":max_lens})\n",
        "tokenization_data.head(3)"
      ],
      "metadata": {
        "id": "V5UvNmYw1JC6",
        "outputId": "519bf5a7-3d2d-4d1e-ea19-f9fc4c1c6748",
        "execution": {
          "iopub.status.busy": "2022-03-29T04:08:18.171682Z",
          "iopub.execute_input": "2022-03-29T04:08:18.172284Z",
          "iopub.status.idle": "2022-03-29T04:08:18.262104Z",
          "shell.execute_reply.started": "2022-03-29T04:08:18.172249Z",
          "shell.execute_reply": "2022-03-29T04:08:18.261461Z"
        },
        "trusted": true,
        "colab": {
          "base_uri": "https://localhost:8080/",
          "height": 143
        }
      },
      "execution_count": 49,
      "outputs": [
        {
          "output_type": "execute_result",
          "data": {
            "text/plain": [
              "       tokens  max_len\n",
              "0           0        1\n",
              "1  12,14,21,4        4\n",
              "2       45,40        2"
            ],
            "text/html": [
              "\n",
              "  <div id=\"df-63fa1deb-209f-47c5-84f7-5a18bf109baa\">\n",
              "    <div class=\"colab-df-container\">\n",
              "      <div>\n",
              "<style scoped>\n",
              "    .dataframe tbody tr th:only-of-type {\n",
              "        vertical-align: middle;\n",
              "    }\n",
              "\n",
              "    .dataframe tbody tr th {\n",
              "        vertical-align: top;\n",
              "    }\n",
              "\n",
              "    .dataframe thead th {\n",
              "        text-align: right;\n",
              "    }\n",
              "</style>\n",
              "<table border=\"1\" class=\"dataframe\">\n",
              "  <thead>\n",
              "    <tr style=\"text-align: right;\">\n",
              "      <th></th>\n",
              "      <th>tokens</th>\n",
              "      <th>max_len</th>\n",
              "    </tr>\n",
              "  </thead>\n",
              "  <tbody>\n",
              "    <tr>\n",
              "      <th>0</th>\n",
              "      <td>0</td>\n",
              "      <td>1</td>\n",
              "    </tr>\n",
              "    <tr>\n",
              "      <th>1</th>\n",
              "      <td>12,14,21,4</td>\n",
              "      <td>4</td>\n",
              "    </tr>\n",
              "    <tr>\n",
              "      <th>2</th>\n",
              "      <td>45,40</td>\n",
              "      <td>2</td>\n",
              "    </tr>\n",
              "  </tbody>\n",
              "</table>\n",
              "</div>\n",
              "      <button class=\"colab-df-convert\" onclick=\"convertToInteractive('df-63fa1deb-209f-47c5-84f7-5a18bf109baa')\"\n",
              "              title=\"Convert this dataframe to an interactive table.\"\n",
              "              style=\"display:none;\">\n",
              "        \n",
              "  <svg xmlns=\"http://www.w3.org/2000/svg\" height=\"24px\"viewBox=\"0 0 24 24\"\n",
              "       width=\"24px\">\n",
              "    <path d=\"M0 0h24v24H0V0z\" fill=\"none\"/>\n",
              "    <path d=\"M18.56 5.44l.94 2.06.94-2.06 2.06-.94-2.06-.94-.94-2.06-.94 2.06-2.06.94zm-11 1L8.5 8.5l.94-2.06 2.06-.94-2.06-.94L8.5 2.5l-.94 2.06-2.06.94zm10 10l.94 2.06.94-2.06 2.06-.94-2.06-.94-.94-2.06-.94 2.06-2.06.94z\"/><path d=\"M17.41 7.96l-1.37-1.37c-.4-.4-.92-.59-1.43-.59-.52 0-1.04.2-1.43.59L10.3 9.45l-7.72 7.72c-.78.78-.78 2.05 0 2.83L4 21.41c.39.39.9.59 1.41.59.51 0 1.02-.2 1.41-.59l7.78-7.78 2.81-2.81c.8-.78.8-2.07 0-2.86zM5.41 20L4 18.59l7.72-7.72 1.47 1.35L5.41 20z\"/>\n",
              "  </svg>\n",
              "      </button>\n",
              "      \n",
              "  <style>\n",
              "    .colab-df-container {\n",
              "      display:flex;\n",
              "      flex-wrap:wrap;\n",
              "      gap: 12px;\n",
              "    }\n",
              "\n",
              "    .colab-df-convert {\n",
              "      background-color: #E8F0FE;\n",
              "      border: none;\n",
              "      border-radius: 50%;\n",
              "      cursor: pointer;\n",
              "      display: none;\n",
              "      fill: #1967D2;\n",
              "      height: 32px;\n",
              "      padding: 0 0 0 0;\n",
              "      width: 32px;\n",
              "    }\n",
              "\n",
              "    .colab-df-convert:hover {\n",
              "      background-color: #E2EBFA;\n",
              "      box-shadow: 0px 1px 2px rgba(60, 64, 67, 0.3), 0px 1px 3px 1px rgba(60, 64, 67, 0.15);\n",
              "      fill: #174EA6;\n",
              "    }\n",
              "\n",
              "    [theme=dark] .colab-df-convert {\n",
              "      background-color: #3B4455;\n",
              "      fill: #D2E3FC;\n",
              "    }\n",
              "\n",
              "    [theme=dark] .colab-df-convert:hover {\n",
              "      background-color: #434B5C;\n",
              "      box-shadow: 0px 1px 3px 1px rgba(0, 0, 0, 0.15);\n",
              "      filter: drop-shadow(0px 1px 2px rgba(0, 0, 0, 0.3));\n",
              "      fill: #FFFFFF;\n",
              "    }\n",
              "  </style>\n",
              "\n",
              "      <script>\n",
              "        const buttonEl =\n",
              "          document.querySelector('#df-63fa1deb-209f-47c5-84f7-5a18bf109baa button.colab-df-convert');\n",
              "        buttonEl.style.display =\n",
              "          google.colab.kernel.accessAllowed ? 'block' : 'none';\n",
              "\n",
              "        async function convertToInteractive(key) {\n",
              "          const element = document.querySelector('#df-63fa1deb-209f-47c5-84f7-5a18bf109baa');\n",
              "          const dataTable =\n",
              "            await google.colab.kernel.invokeFunction('convertToInteractive',\n",
              "                                                     [key], {});\n",
              "          if (!dataTable) return;\n",
              "\n",
              "          const docLinkHtml = 'Like what you see? Visit the ' +\n",
              "            '<a target=\"_blank\" href=https://colab.research.google.com/notebooks/data_table.ipynb>data table notebook</a>'\n",
              "            + ' to learn more about interactive tables.';\n",
              "          element.innerHTML = '';\n",
              "          dataTable['output_type'] = 'display_data';\n",
              "          await google.colab.output.renderOutput(dataTable, element);\n",
              "          const docLink = document.createElement('div');\n",
              "          docLink.innerHTML = docLinkHtml;\n",
              "          element.appendChild(docLink);\n",
              "        }\n",
              "      </script>\n",
              "    </div>\n",
              "  </div>\n",
              "  "
            ]
          },
          "metadata": {},
          "execution_count": 49
        }
      ]
    },
    {
      "cell_type": "code",
      "source": [
        "X.text.head(3)"
      ],
      "metadata": {
        "id": "WaNi9C8Q6uv8",
        "outputId": "a77eabc2-ed33-4e7a-e641-1721e1c42ba8",
        "execution": {
          "iopub.status.busy": "2022-03-29T04:08:19.154010Z",
          "iopub.execute_input": "2022-03-29T04:08:19.154303Z",
          "iopub.status.idle": "2022-03-29T04:08:19.162857Z",
          "shell.execute_reply.started": "2022-03-29T04:08:19.154260Z",
          "shell.execute_reply": "2022-03-29T04:08:19.162091Z"
        },
        "trusted": true,
        "colab": {
          "base_uri": "https://localhost:8080/"
        }
      },
      "execution_count": 50,
      "outputs": [
        {
          "output_type": "execute_result",
          "data": {
            "text/plain": [
              "0       A\n",
              "1    MOVE\n",
              "2      to\n",
              "Name: text, dtype: object"
            ]
          },
          "metadata": {},
          "execution_count": 50
        }
      ]
    },
    {
      "cell_type": "code",
      "source": [
        "X.text.tail(4)"
      ],
      "metadata": {
        "id": "dIACi_R361d6",
        "outputId": "1bd4875d-6556-4c46-b4a5-5dcbbaec4857",
        "execution": {
          "iopub.status.busy": "2022-03-29T04:08:20.213451Z",
          "iopub.execute_input": "2022-03-29T04:08:20.214017Z",
          "iopub.status.idle": "2022-03-29T04:08:20.221408Z",
          "shell.execute_reply.started": "2022-03-29T04:08:20.213980Z",
          "shell.execute_reply": "2022-03-29T04:08:20.220610Z"
        },
        "trusted": true,
        "colab": {
          "base_uri": "https://localhost:8080/"
        }
      },
      "execution_count": 51,
      "outputs": [
        {
          "output_type": "execute_result",
          "data": {
            "text/plain": [
              "9995             ,\n",
              "9996          said\n",
              "9997           the\n",
              "9998    Government\n",
              "Name: text, dtype: object"
            ]
          },
          "metadata": {},
          "execution_count": 51
        }
      ]
    },
    {
      "cell_type": "code",
      "source": [
        "tokenization_data.tail(4)"
      ],
      "metadata": {
        "id": "lxzK52z96q2X",
        "outputId": "fa5c7ad8-982d-48f5-ed3c-10f0c6059f21",
        "execution": {
          "iopub.status.busy": "2022-03-29T04:08:23.041329Z",
          "iopub.execute_input": "2022-03-29T04:08:23.041869Z",
          "iopub.status.idle": "2022-03-29T04:08:23.051174Z",
          "shell.execute_reply.started": "2022-03-29T04:08:23.041826Z",
          "shell.execute_reply": "2022-03-29T04:08:23.050341Z"
        },
        "trusted": true,
        "colab": {
          "base_uri": "https://localhost:8080/",
          "height": 175
        }
      },
      "execution_count": 52,
      "outputs": [
        {
          "output_type": "execute_result",
          "data": {
            "text/plain": [
              "                            tokens  max_len\n",
              "9995                            63        1\n",
              "9996                   44,26,34,29        4\n",
              "9997                      45,33,30        3\n",
              "9998  6,40,47,30,43,39,38,30,39,45       10"
            ],
            "text/html": [
              "\n",
              "  <div id=\"df-59a85093-932e-4759-93cc-494f5789bc32\">\n",
              "    <div class=\"colab-df-container\">\n",
              "      <div>\n",
              "<style scoped>\n",
              "    .dataframe tbody tr th:only-of-type {\n",
              "        vertical-align: middle;\n",
              "    }\n",
              "\n",
              "    .dataframe tbody tr th {\n",
              "        vertical-align: top;\n",
              "    }\n",
              "\n",
              "    .dataframe thead th {\n",
              "        text-align: right;\n",
              "    }\n",
              "</style>\n",
              "<table border=\"1\" class=\"dataframe\">\n",
              "  <thead>\n",
              "    <tr style=\"text-align: right;\">\n",
              "      <th></th>\n",
              "      <th>tokens</th>\n",
              "      <th>max_len</th>\n",
              "    </tr>\n",
              "  </thead>\n",
              "  <tbody>\n",
              "    <tr>\n",
              "      <th>9995</th>\n",
              "      <td>63</td>\n",
              "      <td>1</td>\n",
              "    </tr>\n",
              "    <tr>\n",
              "      <th>9996</th>\n",
              "      <td>44,26,34,29</td>\n",
              "      <td>4</td>\n",
              "    </tr>\n",
              "    <tr>\n",
              "      <th>9997</th>\n",
              "      <td>45,33,30</td>\n",
              "      <td>3</td>\n",
              "    </tr>\n",
              "    <tr>\n",
              "      <th>9998</th>\n",
              "      <td>6,40,47,30,43,39,38,30,39,45</td>\n",
              "      <td>10</td>\n",
              "    </tr>\n",
              "  </tbody>\n",
              "</table>\n",
              "</div>\n",
              "      <button class=\"colab-df-convert\" onclick=\"convertToInteractive('df-59a85093-932e-4759-93cc-494f5789bc32')\"\n",
              "              title=\"Convert this dataframe to an interactive table.\"\n",
              "              style=\"display:none;\">\n",
              "        \n",
              "  <svg xmlns=\"http://www.w3.org/2000/svg\" height=\"24px\"viewBox=\"0 0 24 24\"\n",
              "       width=\"24px\">\n",
              "    <path d=\"M0 0h24v24H0V0z\" fill=\"none\"/>\n",
              "    <path d=\"M18.56 5.44l.94 2.06.94-2.06 2.06-.94-2.06-.94-.94-2.06-.94 2.06-2.06.94zm-11 1L8.5 8.5l.94-2.06 2.06-.94-2.06-.94L8.5 2.5l-.94 2.06-2.06.94zm10 10l.94 2.06.94-2.06 2.06-.94-2.06-.94-.94-2.06-.94 2.06-2.06.94z\"/><path d=\"M17.41 7.96l-1.37-1.37c-.4-.4-.92-.59-1.43-.59-.52 0-1.04.2-1.43.59L10.3 9.45l-7.72 7.72c-.78.78-.78 2.05 0 2.83L4 21.41c.39.39.9.59 1.41.59.51 0 1.02-.2 1.41-.59l7.78-7.78 2.81-2.81c.8-.78.8-2.07 0-2.86zM5.41 20L4 18.59l7.72-7.72 1.47 1.35L5.41 20z\"/>\n",
              "  </svg>\n",
              "      </button>\n",
              "      \n",
              "  <style>\n",
              "    .colab-df-container {\n",
              "      display:flex;\n",
              "      flex-wrap:wrap;\n",
              "      gap: 12px;\n",
              "    }\n",
              "\n",
              "    .colab-df-convert {\n",
              "      background-color: #E8F0FE;\n",
              "      border: none;\n",
              "      border-radius: 50%;\n",
              "      cursor: pointer;\n",
              "      display: none;\n",
              "      fill: #1967D2;\n",
              "      height: 32px;\n",
              "      padding: 0 0 0 0;\n",
              "      width: 32px;\n",
              "    }\n",
              "\n",
              "    .colab-df-convert:hover {\n",
              "      background-color: #E2EBFA;\n",
              "      box-shadow: 0px 1px 2px rgba(60, 64, 67, 0.3), 0px 1px 3px 1px rgba(60, 64, 67, 0.15);\n",
              "      fill: #174EA6;\n",
              "    }\n",
              "\n",
              "    [theme=dark] .colab-df-convert {\n",
              "      background-color: #3B4455;\n",
              "      fill: #D2E3FC;\n",
              "    }\n",
              "\n",
              "    [theme=dark] .colab-df-convert:hover {\n",
              "      background-color: #434B5C;\n",
              "      box-shadow: 0px 1px 3px 1px rgba(0, 0, 0, 0.15);\n",
              "      filter: drop-shadow(0px 1px 2px rgba(0, 0, 0, 0.3));\n",
              "      fill: #FFFFFF;\n",
              "    }\n",
              "  </style>\n",
              "\n",
              "      <script>\n",
              "        const buttonEl =\n",
              "          document.querySelector('#df-59a85093-932e-4759-93cc-494f5789bc32 button.colab-df-convert');\n",
              "        buttonEl.style.display =\n",
              "          google.colab.kernel.accessAllowed ? 'block' : 'none';\n",
              "\n",
              "        async function convertToInteractive(key) {\n",
              "          const element = document.querySelector('#df-59a85093-932e-4759-93cc-494f5789bc32');\n",
              "          const dataTable =\n",
              "            await google.colab.kernel.invokeFunction('convertToInteractive',\n",
              "                                                     [key], {});\n",
              "          if (!dataTable) return;\n",
              "\n",
              "          const docLinkHtml = 'Like what you see? Visit the ' +\n",
              "            '<a target=\"_blank\" href=https://colab.research.google.com/notebooks/data_table.ipynb>data table notebook</a>'\n",
              "            + ' to learn more about interactive tables.';\n",
              "          element.innerHTML = '';\n",
              "          dataTable['output_type'] = 'display_data';\n",
              "          await google.colab.output.renderOutput(dataTable, element);\n",
              "          const docLink = document.createElement('div');\n",
              "          docLink.innerHTML = docLinkHtml;\n",
              "          element.appendChild(docLink);\n",
              "        }\n",
              "      </script>\n",
              "    </div>\n",
              "  </div>\n",
              "  "
            ]
          },
          "metadata": {},
          "execution_count": 52
        }
      ]
    },
    {
      "cell_type": "code",
      "source": [
        "max_length=tokenization_data.max_len.max()"
      ],
      "metadata": {
        "id": "8fbmUrPg-epL",
        "execution": {
          "iopub.status.busy": "2022-03-29T04:08:25.778344Z",
          "iopub.execute_input": "2022-03-29T04:08:25.778778Z",
          "iopub.status.idle": "2022-03-29T04:08:25.784137Z",
          "shell.execute_reply.started": "2022-03-29T04:08:25.778742Z",
          "shell.execute_reply": "2022-03-29T04:08:25.783399Z"
        },
        "trusted": true
      },
      "execution_count": 53,
      "outputs": []
    },
    {
      "cell_type": "code",
      "source": [
        "max_length"
      ],
      "metadata": {
        "id": "Oqy0SCf7Mbs6",
        "outputId": "13198ea0-2493-4068-b27c-9b836656392e",
        "execution": {
          "iopub.status.busy": "2022-03-29T04:08:45.232974Z",
          "iopub.execute_input": "2022-03-29T04:08:45.233246Z",
          "iopub.status.idle": "2022-03-29T04:08:45.241075Z",
          "shell.execute_reply.started": "2022-03-29T04:08:45.233218Z",
          "shell.execute_reply": "2022-03-29T04:08:45.240177Z"
        },
        "trusted": true,
        "colab": {
          "base_uri": "https://localhost:8080/"
        }
      },
      "execution_count": 54,
      "outputs": [
        {
          "output_type": "execute_result",
          "data": {
            "text/plain": [
              "16"
            ]
          },
          "metadata": {},
          "execution_count": 54
        }
      ]
    },
    {
      "cell_type": "code",
      "source": [
        "X.loc[tokenization_data.max_len==16,\"text\"]"
      ],
      "metadata": {
        "id": "CL_hahpe70i3",
        "outputId": "236fdb31-2258-4d9a-fa12-73bb38e29bad",
        "execution": {
          "iopub.status.busy": "2022-03-29T04:08:53.000285Z",
          "iopub.execute_input": "2022-03-29T04:08:53.000583Z",
          "iopub.status.idle": "2022-03-29T04:08:53.007992Z",
          "shell.execute_reply.started": "2022-03-29T04:08:53.000553Z",
          "shell.execute_reply": "2022-03-29T04:08:53.007334Z"
        },
        "trusted": true,
        "colab": {
          "base_uri": "https://localhost:8080/"
        }
      },
      "execution_count": 55,
      "outputs": [
        {
          "output_type": "execute_result",
          "data": {
            "text/plain": [
              "1495    unconstitutional\n",
              "2558    once-and-for-all\n",
              "2624    once-and-for-all\n",
              "Name: text, dtype: object"
            ]
          },
          "metadata": {},
          "execution_count": 55
        }
      ]
    },
    {
      "cell_type": "code",
      "source": [
        "X.loc[[1495,2558,2624],:]"
      ],
      "metadata": {
        "id": "qT6bS4Dn8juA",
        "outputId": "503a74c3-0fdb-452f-8bba-733663cf2b14",
        "execution": {
          "iopub.status.busy": "2022-03-29T04:08:59.259985Z",
          "iopub.execute_input": "2022-03-29T04:08:59.260245Z",
          "iopub.status.idle": "2022-03-29T04:08:59.270334Z",
          "shell.execute_reply.started": "2022-03-29T04:08:59.260215Z",
          "shell.execute_reply": "2022-03-29T04:08:59.269641Z"
        },
        "trusted": true,
        "colab": {
          "base_uri": "https://localhost:8080/",
          "height": 143
        }
      },
      "execution_count": 56,
      "outputs": [
        {
          "output_type": "execute_result",
          "data": {
            "text/plain": [
              "                  text                              new_files\n",
              "1495  unconstitutional   /content/new_words/a01-038-10-01.png\n",
              "2558  once-and-for-all  /content/new_words/a01-072u-02-03.png\n",
              "2624  once-and-for-all  /content/new_words/a01-072x-02-00.png"
            ],
            "text/html": [
              "\n",
              "  <div id=\"df-39f66d99-c4d7-4536-9269-d379eae17461\">\n",
              "    <div class=\"colab-df-container\">\n",
              "      <div>\n",
              "<style scoped>\n",
              "    .dataframe tbody tr th:only-of-type {\n",
              "        vertical-align: middle;\n",
              "    }\n",
              "\n",
              "    .dataframe tbody tr th {\n",
              "        vertical-align: top;\n",
              "    }\n",
              "\n",
              "    .dataframe thead th {\n",
              "        text-align: right;\n",
              "    }\n",
              "</style>\n",
              "<table border=\"1\" class=\"dataframe\">\n",
              "  <thead>\n",
              "    <tr style=\"text-align: right;\">\n",
              "      <th></th>\n",
              "      <th>text</th>\n",
              "      <th>new_files</th>\n",
              "    </tr>\n",
              "  </thead>\n",
              "  <tbody>\n",
              "    <tr>\n",
              "      <th>1495</th>\n",
              "      <td>unconstitutional</td>\n",
              "      <td>/content/new_words/a01-038-10-01.png</td>\n",
              "    </tr>\n",
              "    <tr>\n",
              "      <th>2558</th>\n",
              "      <td>once-and-for-all</td>\n",
              "      <td>/content/new_words/a01-072u-02-03.png</td>\n",
              "    </tr>\n",
              "    <tr>\n",
              "      <th>2624</th>\n",
              "      <td>once-and-for-all</td>\n",
              "      <td>/content/new_words/a01-072x-02-00.png</td>\n",
              "    </tr>\n",
              "  </tbody>\n",
              "</table>\n",
              "</div>\n",
              "      <button class=\"colab-df-convert\" onclick=\"convertToInteractive('df-39f66d99-c4d7-4536-9269-d379eae17461')\"\n",
              "              title=\"Convert this dataframe to an interactive table.\"\n",
              "              style=\"display:none;\">\n",
              "        \n",
              "  <svg xmlns=\"http://www.w3.org/2000/svg\" height=\"24px\"viewBox=\"0 0 24 24\"\n",
              "       width=\"24px\">\n",
              "    <path d=\"M0 0h24v24H0V0z\" fill=\"none\"/>\n",
              "    <path d=\"M18.56 5.44l.94 2.06.94-2.06 2.06-.94-2.06-.94-.94-2.06-.94 2.06-2.06.94zm-11 1L8.5 8.5l.94-2.06 2.06-.94-2.06-.94L8.5 2.5l-.94 2.06-2.06.94zm10 10l.94 2.06.94-2.06 2.06-.94-2.06-.94-.94-2.06-.94 2.06-2.06.94z\"/><path d=\"M17.41 7.96l-1.37-1.37c-.4-.4-.92-.59-1.43-.59-.52 0-1.04.2-1.43.59L10.3 9.45l-7.72 7.72c-.78.78-.78 2.05 0 2.83L4 21.41c.39.39.9.59 1.41.59.51 0 1.02-.2 1.41-.59l7.78-7.78 2.81-2.81c.8-.78.8-2.07 0-2.86zM5.41 20L4 18.59l7.72-7.72 1.47 1.35L5.41 20z\"/>\n",
              "  </svg>\n",
              "      </button>\n",
              "      \n",
              "  <style>\n",
              "    .colab-df-container {\n",
              "      display:flex;\n",
              "      flex-wrap:wrap;\n",
              "      gap: 12px;\n",
              "    }\n",
              "\n",
              "    .colab-df-convert {\n",
              "      background-color: #E8F0FE;\n",
              "      border: none;\n",
              "      border-radius: 50%;\n",
              "      cursor: pointer;\n",
              "      display: none;\n",
              "      fill: #1967D2;\n",
              "      height: 32px;\n",
              "      padding: 0 0 0 0;\n",
              "      width: 32px;\n",
              "    }\n",
              "\n",
              "    .colab-df-convert:hover {\n",
              "      background-color: #E2EBFA;\n",
              "      box-shadow: 0px 1px 2px rgba(60, 64, 67, 0.3), 0px 1px 3px 1px rgba(60, 64, 67, 0.15);\n",
              "      fill: #174EA6;\n",
              "    }\n",
              "\n",
              "    [theme=dark] .colab-df-convert {\n",
              "      background-color: #3B4455;\n",
              "      fill: #D2E3FC;\n",
              "    }\n",
              "\n",
              "    [theme=dark] .colab-df-convert:hover {\n",
              "      background-color: #434B5C;\n",
              "      box-shadow: 0px 1px 3px 1px rgba(0, 0, 0, 0.15);\n",
              "      filter: drop-shadow(0px 1px 2px rgba(0, 0, 0, 0.3));\n",
              "      fill: #FFFFFF;\n",
              "    }\n",
              "  </style>\n",
              "\n",
              "      <script>\n",
              "        const buttonEl =\n",
              "          document.querySelector('#df-39f66d99-c4d7-4536-9269-d379eae17461 button.colab-df-convert');\n",
              "        buttonEl.style.display =\n",
              "          google.colab.kernel.accessAllowed ? 'block' : 'none';\n",
              "\n",
              "        async function convertToInteractive(key) {\n",
              "          const element = document.querySelector('#df-39f66d99-c4d7-4536-9269-d379eae17461');\n",
              "          const dataTable =\n",
              "            await google.colab.kernel.invokeFunction('convertToInteractive',\n",
              "                                                     [key], {});\n",
              "          if (!dataTable) return;\n",
              "\n",
              "          const docLinkHtml = 'Like what you see? Visit the ' +\n",
              "            '<a target=\"_blank\" href=https://colab.research.google.com/notebooks/data_table.ipynb>data table notebook</a>'\n",
              "            + ' to learn more about interactive tables.';\n",
              "          element.innerHTML = '';\n",
              "          dataTable['output_type'] = 'display_data';\n",
              "          await google.colab.output.renderOutput(dataTable, element);\n",
              "          const docLink = document.createElement('div');\n",
              "          docLink.innerHTML = docLinkHtml;\n",
              "          element.appendChild(docLink);\n",
              "        }\n",
              "      </script>\n",
              "    </div>\n",
              "  </div>\n",
              "  "
            ]
          },
          "metadata": {},
          "execution_count": 56
        }
      ]
    },
    {
      "cell_type": "markdown",
      "source": [
        "5. Pad all the words to have a similar length"
      ],
      "metadata": {
        "id": "yuTwr56tUgvW"
      }
    },
    {
      "cell_type": "code",
      "source": [
        "def get_padded_data(token_list,max_len):\n",
        "  tokens=token_list.split(\",\")\n",
        "  len_tokens=len(tokens)\n",
        "  padding=[99 for i in range(max_len-len_tokens)]\n",
        "  tokens.extend(padding)\n",
        "  token_text=\",\".join([str(token) for token in tokens])\n",
        "  return token_text"
      ],
      "metadata": {
        "id": "Z9EWnCW_67UV",
        "execution": {
          "iopub.status.busy": "2022-03-29T04:09:04.200439Z",
          "iopub.execute_input": "2022-03-29T04:09:04.201001Z",
          "iopub.status.idle": "2022-03-29T04:09:04.206438Z",
          "shell.execute_reply.started": "2022-03-29T04:09:04.200964Z",
          "shell.execute_reply": "2022-03-29T04:09:04.205401Z"
        },
        "trusted": true
      },
      "execution_count": 57,
      "outputs": []
    },
    {
      "cell_type": "code",
      "source": [
        "tokens_padded=[get_padded_data(token,max_length+1) for token in tokenization_data.tokens]\n",
        "tokenization_data=pd.concat([tokenization_data,pd.Series(tokens_padded),X.text],axis=1)\n",
        "tokenization_data.head(1004).tail(5)"
      ],
      "metadata": {
        "id": "3262BGc77mVj",
        "outputId": "9f1fe1f0-ff52-43d5-ff2d-cef1d51802c7",
        "execution": {
          "iopub.status.busy": "2022-03-29T04:09:08.588952Z",
          "iopub.execute_input": "2022-03-29T04:09:08.589224Z",
          "iopub.status.idle": "2022-03-29T04:09:08.658143Z",
          "shell.execute_reply.started": "2022-03-29T04:09:08.589196Z",
          "shell.execute_reply": "2022-03-29T04:09:08.657366Z"
        },
        "trusted": true,
        "colab": {
          "base_uri": "https://localhost:8080/",
          "height": 206
        }
      },
      "execution_count": 58,
      "outputs": [
        {
          "output_type": "execute_result",
          "data": {
            "text/plain": [
              "                          tokens  max_len  \\\n",
              "999                     26,43,30        3   \n",
              "1000        44,30,30,36,34,39,32        7   \n",
              "1001                          65        1   \n",
              "1002         0,31,43,34,28,26,39        7   \n",
              "1003  29,30,37,30,32,26,45,30,44        9   \n",
              "\n",
              "                                                      0       text  \n",
              "999   26,43,30,99,99,99,99,99,99,99,99,99,99,99,99,9...        are  \n",
              "1000  44,30,30,36,34,39,32,99,99,99,99,99,99,99,99,9...    seeking  \n",
              "1001  65,99,99,99,99,99,99,99,99,99,99,99,99,99,99,9...          .  \n",
              "1002  0,31,43,34,28,26,39,99,99,99,99,99,99,99,99,99,99    African  \n",
              "1003  29,30,37,30,32,26,45,30,44,99,99,99,99,99,99,9...  delegates  "
            ],
            "text/html": [
              "\n",
              "  <div id=\"df-2bbf2151-bc4c-4897-b31f-e74efc1d6df9\">\n",
              "    <div class=\"colab-df-container\">\n",
              "      <div>\n",
              "<style scoped>\n",
              "    .dataframe tbody tr th:only-of-type {\n",
              "        vertical-align: middle;\n",
              "    }\n",
              "\n",
              "    .dataframe tbody tr th {\n",
              "        vertical-align: top;\n",
              "    }\n",
              "\n",
              "    .dataframe thead th {\n",
              "        text-align: right;\n",
              "    }\n",
              "</style>\n",
              "<table border=\"1\" class=\"dataframe\">\n",
              "  <thead>\n",
              "    <tr style=\"text-align: right;\">\n",
              "      <th></th>\n",
              "      <th>tokens</th>\n",
              "      <th>max_len</th>\n",
              "      <th>0</th>\n",
              "      <th>text</th>\n",
              "    </tr>\n",
              "  </thead>\n",
              "  <tbody>\n",
              "    <tr>\n",
              "      <th>999</th>\n",
              "      <td>26,43,30</td>\n",
              "      <td>3</td>\n",
              "      <td>26,43,30,99,99,99,99,99,99,99,99,99,99,99,99,9...</td>\n",
              "      <td>are</td>\n",
              "    </tr>\n",
              "    <tr>\n",
              "      <th>1000</th>\n",
              "      <td>44,30,30,36,34,39,32</td>\n",
              "      <td>7</td>\n",
              "      <td>44,30,30,36,34,39,32,99,99,99,99,99,99,99,99,9...</td>\n",
              "      <td>seeking</td>\n",
              "    </tr>\n",
              "    <tr>\n",
              "      <th>1001</th>\n",
              "      <td>65</td>\n",
              "      <td>1</td>\n",
              "      <td>65,99,99,99,99,99,99,99,99,99,99,99,99,99,99,9...</td>\n",
              "      <td>.</td>\n",
              "    </tr>\n",
              "    <tr>\n",
              "      <th>1002</th>\n",
              "      <td>0,31,43,34,28,26,39</td>\n",
              "      <td>7</td>\n",
              "      <td>0,31,43,34,28,26,39,99,99,99,99,99,99,99,99,99,99</td>\n",
              "      <td>African</td>\n",
              "    </tr>\n",
              "    <tr>\n",
              "      <th>1003</th>\n",
              "      <td>29,30,37,30,32,26,45,30,44</td>\n",
              "      <td>9</td>\n",
              "      <td>29,30,37,30,32,26,45,30,44,99,99,99,99,99,99,9...</td>\n",
              "      <td>delegates</td>\n",
              "    </tr>\n",
              "  </tbody>\n",
              "</table>\n",
              "</div>\n",
              "      <button class=\"colab-df-convert\" onclick=\"convertToInteractive('df-2bbf2151-bc4c-4897-b31f-e74efc1d6df9')\"\n",
              "              title=\"Convert this dataframe to an interactive table.\"\n",
              "              style=\"display:none;\">\n",
              "        \n",
              "  <svg xmlns=\"http://www.w3.org/2000/svg\" height=\"24px\"viewBox=\"0 0 24 24\"\n",
              "       width=\"24px\">\n",
              "    <path d=\"M0 0h24v24H0V0z\" fill=\"none\"/>\n",
              "    <path d=\"M18.56 5.44l.94 2.06.94-2.06 2.06-.94-2.06-.94-.94-2.06-.94 2.06-2.06.94zm-11 1L8.5 8.5l.94-2.06 2.06-.94-2.06-.94L8.5 2.5l-.94 2.06-2.06.94zm10 10l.94 2.06.94-2.06 2.06-.94-2.06-.94-.94-2.06-.94 2.06-2.06.94z\"/><path d=\"M17.41 7.96l-1.37-1.37c-.4-.4-.92-.59-1.43-.59-.52 0-1.04.2-1.43.59L10.3 9.45l-7.72 7.72c-.78.78-.78 2.05 0 2.83L4 21.41c.39.39.9.59 1.41.59.51 0 1.02-.2 1.41-.59l7.78-7.78 2.81-2.81c.8-.78.8-2.07 0-2.86zM5.41 20L4 18.59l7.72-7.72 1.47 1.35L5.41 20z\"/>\n",
              "  </svg>\n",
              "      </button>\n",
              "      \n",
              "  <style>\n",
              "    .colab-df-container {\n",
              "      display:flex;\n",
              "      flex-wrap:wrap;\n",
              "      gap: 12px;\n",
              "    }\n",
              "\n",
              "    .colab-df-convert {\n",
              "      background-color: #E8F0FE;\n",
              "      border: none;\n",
              "      border-radius: 50%;\n",
              "      cursor: pointer;\n",
              "      display: none;\n",
              "      fill: #1967D2;\n",
              "      height: 32px;\n",
              "      padding: 0 0 0 0;\n",
              "      width: 32px;\n",
              "    }\n",
              "\n",
              "    .colab-df-convert:hover {\n",
              "      background-color: #E2EBFA;\n",
              "      box-shadow: 0px 1px 2px rgba(60, 64, 67, 0.3), 0px 1px 3px 1px rgba(60, 64, 67, 0.15);\n",
              "      fill: #174EA6;\n",
              "    }\n",
              "\n",
              "    [theme=dark] .colab-df-convert {\n",
              "      background-color: #3B4455;\n",
              "      fill: #D2E3FC;\n",
              "    }\n",
              "\n",
              "    [theme=dark] .colab-df-convert:hover {\n",
              "      background-color: #434B5C;\n",
              "      box-shadow: 0px 1px 3px 1px rgba(0, 0, 0, 0.15);\n",
              "      filter: drop-shadow(0px 1px 2px rgba(0, 0, 0, 0.3));\n",
              "      fill: #FFFFFF;\n",
              "    }\n",
              "  </style>\n",
              "\n",
              "      <script>\n",
              "        const buttonEl =\n",
              "          document.querySelector('#df-2bbf2151-bc4c-4897-b31f-e74efc1d6df9 button.colab-df-convert');\n",
              "        buttonEl.style.display =\n",
              "          google.colab.kernel.accessAllowed ? 'block' : 'none';\n",
              "\n",
              "        async function convertToInteractive(key) {\n",
              "          const element = document.querySelector('#df-2bbf2151-bc4c-4897-b31f-e74efc1d6df9');\n",
              "          const dataTable =\n",
              "            await google.colab.kernel.invokeFunction('convertToInteractive',\n",
              "                                                     [key], {});\n",
              "          if (!dataTable) return;\n",
              "\n",
              "          const docLinkHtml = 'Like what you see? Visit the ' +\n",
              "            '<a target=\"_blank\" href=https://colab.research.google.com/notebooks/data_table.ipynb>data table notebook</a>'\n",
              "            + ' to learn more about interactive tables.';\n",
              "          element.innerHTML = '';\n",
              "          dataTable['output_type'] = 'display_data';\n",
              "          await google.colab.output.renderOutput(dataTable, element);\n",
              "          const docLink = document.createElement('div');\n",
              "          docLink.innerHTML = docLinkHtml;\n",
              "          element.appendChild(docLink);\n",
              "        }\n",
              "      </script>\n",
              "    </div>\n",
              "  </div>\n",
              "  "
            ]
          },
          "metadata": {},
          "execution_count": 58
        }
      ]
    },
    {
      "cell_type": "code",
      "source": [
        "tokenization_data.columns=[\"tokens\",\"max_len\",\"padded_tokens\",\"text\"]\n",
        "tokenization_data.head(4)"
      ],
      "metadata": {
        "id": "B7dseL1rEpnC",
        "outputId": "09570739-cf2b-42e6-e6b1-cecb3e699a32",
        "execution": {
          "iopub.status.busy": "2022-03-29T04:09:11.431738Z",
          "iopub.execute_input": "2022-03-29T04:09:11.432133Z",
          "iopub.status.idle": "2022-03-29T04:09:11.445267Z",
          "shell.execute_reply.started": "2022-03-29T04:09:11.432097Z",
          "shell.execute_reply": "2022-03-29T04:09:11.444647Z"
        },
        "trusted": true,
        "colab": {
          "base_uri": "https://localhost:8080/",
          "height": 175
        }
      },
      "execution_count": 59,
      "outputs": [
        {
          "output_type": "execute_result",
          "data": {
            "text/plain": [
              "        tokens  max_len                                      padded_tokens  \\\n",
              "0            0        1  0,99,99,99,99,99,99,99,99,99,99,99,99,99,99,99,99   \n",
              "1   12,14,21,4        4  12,14,21,4,99,99,99,99,99,99,99,99,99,99,99,99,99   \n",
              "2        45,40        2  45,40,99,99,99,99,99,99,99,99,99,99,99,99,99,9...   \n",
              "3  44,45,40,41        4  44,45,40,41,99,99,99,99,99,99,99,99,99,99,99,9...   \n",
              "\n",
              "   text  \n",
              "0     A  \n",
              "1  MOVE  \n",
              "2    to  \n",
              "3  stop  "
            ],
            "text/html": [
              "\n",
              "  <div id=\"df-084955c3-16f5-49bf-b157-ac84dbe031fa\">\n",
              "    <div class=\"colab-df-container\">\n",
              "      <div>\n",
              "<style scoped>\n",
              "    .dataframe tbody tr th:only-of-type {\n",
              "        vertical-align: middle;\n",
              "    }\n",
              "\n",
              "    .dataframe tbody tr th {\n",
              "        vertical-align: top;\n",
              "    }\n",
              "\n",
              "    .dataframe thead th {\n",
              "        text-align: right;\n",
              "    }\n",
              "</style>\n",
              "<table border=\"1\" class=\"dataframe\">\n",
              "  <thead>\n",
              "    <tr style=\"text-align: right;\">\n",
              "      <th></th>\n",
              "      <th>tokens</th>\n",
              "      <th>max_len</th>\n",
              "      <th>padded_tokens</th>\n",
              "      <th>text</th>\n",
              "    </tr>\n",
              "  </thead>\n",
              "  <tbody>\n",
              "    <tr>\n",
              "      <th>0</th>\n",
              "      <td>0</td>\n",
              "      <td>1</td>\n",
              "      <td>0,99,99,99,99,99,99,99,99,99,99,99,99,99,99,99,99</td>\n",
              "      <td>A</td>\n",
              "    </tr>\n",
              "    <tr>\n",
              "      <th>1</th>\n",
              "      <td>12,14,21,4</td>\n",
              "      <td>4</td>\n",
              "      <td>12,14,21,4,99,99,99,99,99,99,99,99,99,99,99,99,99</td>\n",
              "      <td>MOVE</td>\n",
              "    </tr>\n",
              "    <tr>\n",
              "      <th>2</th>\n",
              "      <td>45,40</td>\n",
              "      <td>2</td>\n",
              "      <td>45,40,99,99,99,99,99,99,99,99,99,99,99,99,99,9...</td>\n",
              "      <td>to</td>\n",
              "    </tr>\n",
              "    <tr>\n",
              "      <th>3</th>\n",
              "      <td>44,45,40,41</td>\n",
              "      <td>4</td>\n",
              "      <td>44,45,40,41,99,99,99,99,99,99,99,99,99,99,99,9...</td>\n",
              "      <td>stop</td>\n",
              "    </tr>\n",
              "  </tbody>\n",
              "</table>\n",
              "</div>\n",
              "      <button class=\"colab-df-convert\" onclick=\"convertToInteractive('df-084955c3-16f5-49bf-b157-ac84dbe031fa')\"\n",
              "              title=\"Convert this dataframe to an interactive table.\"\n",
              "              style=\"display:none;\">\n",
              "        \n",
              "  <svg xmlns=\"http://www.w3.org/2000/svg\" height=\"24px\"viewBox=\"0 0 24 24\"\n",
              "       width=\"24px\">\n",
              "    <path d=\"M0 0h24v24H0V0z\" fill=\"none\"/>\n",
              "    <path d=\"M18.56 5.44l.94 2.06.94-2.06 2.06-.94-2.06-.94-.94-2.06-.94 2.06-2.06.94zm-11 1L8.5 8.5l.94-2.06 2.06-.94-2.06-.94L8.5 2.5l-.94 2.06-2.06.94zm10 10l.94 2.06.94-2.06 2.06-.94-2.06-.94-.94-2.06-.94 2.06-2.06.94z\"/><path d=\"M17.41 7.96l-1.37-1.37c-.4-.4-.92-.59-1.43-.59-.52 0-1.04.2-1.43.59L10.3 9.45l-7.72 7.72c-.78.78-.78 2.05 0 2.83L4 21.41c.39.39.9.59 1.41.59.51 0 1.02-.2 1.41-.59l7.78-7.78 2.81-2.81c.8-.78.8-2.07 0-2.86zM5.41 20L4 18.59l7.72-7.72 1.47 1.35L5.41 20z\"/>\n",
              "  </svg>\n",
              "      </button>\n",
              "      \n",
              "  <style>\n",
              "    .colab-df-container {\n",
              "      display:flex;\n",
              "      flex-wrap:wrap;\n",
              "      gap: 12px;\n",
              "    }\n",
              "\n",
              "    .colab-df-convert {\n",
              "      background-color: #E8F0FE;\n",
              "      border: none;\n",
              "      border-radius: 50%;\n",
              "      cursor: pointer;\n",
              "      display: none;\n",
              "      fill: #1967D2;\n",
              "      height: 32px;\n",
              "      padding: 0 0 0 0;\n",
              "      width: 32px;\n",
              "    }\n",
              "\n",
              "    .colab-df-convert:hover {\n",
              "      background-color: #E2EBFA;\n",
              "      box-shadow: 0px 1px 2px rgba(60, 64, 67, 0.3), 0px 1px 3px 1px rgba(60, 64, 67, 0.15);\n",
              "      fill: #174EA6;\n",
              "    }\n",
              "\n",
              "    [theme=dark] .colab-df-convert {\n",
              "      background-color: #3B4455;\n",
              "      fill: #D2E3FC;\n",
              "    }\n",
              "\n",
              "    [theme=dark] .colab-df-convert:hover {\n",
              "      background-color: #434B5C;\n",
              "      box-shadow: 0px 1px 3px 1px rgba(0, 0, 0, 0.15);\n",
              "      filter: drop-shadow(0px 1px 2px rgba(0, 0, 0, 0.3));\n",
              "      fill: #FFFFFF;\n",
              "    }\n",
              "  </style>\n",
              "\n",
              "      <script>\n",
              "        const buttonEl =\n",
              "          document.querySelector('#df-084955c3-16f5-49bf-b157-ac84dbe031fa button.colab-df-convert');\n",
              "        buttonEl.style.display =\n",
              "          google.colab.kernel.accessAllowed ? 'block' : 'none';\n",
              "\n",
              "        async function convertToInteractive(key) {\n",
              "          const element = document.querySelector('#df-084955c3-16f5-49bf-b157-ac84dbe031fa');\n",
              "          const dataTable =\n",
              "            await google.colab.kernel.invokeFunction('convertToInteractive',\n",
              "                                                     [key], {});\n",
              "          if (!dataTable) return;\n",
              "\n",
              "          const docLinkHtml = 'Like what you see? Visit the ' +\n",
              "            '<a target=\"_blank\" href=https://colab.research.google.com/notebooks/data_table.ipynb>data table notebook</a>'\n",
              "            + ' to learn more about interactive tables.';\n",
              "          element.innerHTML = '';\n",
              "          dataTable['output_type'] = 'display_data';\n",
              "          await google.colab.output.renderOutput(dataTable, element);\n",
              "          const docLink = document.createElement('div');\n",
              "          docLink.innerHTML = docLinkHtml;\n",
              "          element.appendChild(docLink);\n",
              "        }\n",
              "      </script>\n",
              "    </div>\n",
              "  </div>\n",
              "  "
            ]
          },
          "metadata": {},
          "execution_count": 59
        }
      ]
    },
    {
      "cell_type": "code",
      "source": [
        "tokenization_data.loc[0,\"padded_tokens\"]"
      ],
      "metadata": {
        "id": "HeBvdtOQETnL",
        "outputId": "42ea48f6-add0-47c6-fe84-0b9086a65820",
        "execution": {
          "iopub.status.busy": "2022-03-29T04:09:12.051758Z",
          "iopub.execute_input": "2022-03-29T04:09:12.052010Z",
          "iopub.status.idle": "2022-03-29T04:09:12.060284Z",
          "shell.execute_reply.started": "2022-03-29T04:09:12.051983Z",
          "shell.execute_reply": "2022-03-29T04:09:12.058546Z"
        },
        "trusted": true,
        "colab": {
          "base_uri": "https://localhost:8080/",
          "height": 35
        }
      },
      "execution_count": 60,
      "outputs": [
        {
          "output_type": "execute_result",
          "data": {
            "text/plain": [
              "'0,99,99,99,99,99,99,99,99,99,99,99,99,99,99,99,99'"
            ],
            "application/vnd.google.colaboratory.intrinsic+json": {
              "type": "string"
            }
          },
          "metadata": {},
          "execution_count": 60
        }
      ]
    },
    {
      "cell_type": "markdown",
      "source": [
        "6. Split your dataset for training and testing "
      ],
      "metadata": {
        "id": "RTqiJfAEUk5b"
      }
    },
    {
      "cell_type": "code",
      "source": [
        "from sklearn.model_selection import train_test_split\n",
        "x_values=X.new_files[:]\n",
        "y_values=tokenization_data.loc[:,[\"max_len\",\"padded_tokens\",\"text\"]]\n",
        "\n",
        "x_train,x_test,y_train,y_test=train_test_split(x_values,y_values,test_size=0.20,random_state=100)\n",
        "x_test,x_final_test,y_test,y_final_test=train_test_split(x_test,y_test,test_size=0.50,random_state=100)\n",
        "print(\" Train shapes X\",x_train.shape, \" Y: \",y_train.shape)\n",
        "print(\" Test shapes X\",x_test.shape, \" Y : \",y_test.shape)\n",
        "print(\" Test shapes X\",x_final_test.shape, \" Y : \",y_final_test.shape)"
      ],
      "metadata": {
        "id": "VZNhdc_PEewb",
        "outputId": "b4746f69-4285-4ba8-c501-e7543d87e452",
        "execution": {
          "iopub.status.busy": "2022-03-29T04:09:16.917258Z",
          "iopub.execute_input": "2022-03-29T04:09:16.917534Z",
          "iopub.status.idle": "2022-03-29T04:09:17.788724Z",
          "shell.execute_reply.started": "2022-03-29T04:09:16.917498Z",
          "shell.execute_reply": "2022-03-29T04:09:17.787318Z"
        },
        "trusted": true,
        "colab": {
          "base_uri": "https://localhost:8080/"
        }
      },
      "execution_count": 61,
      "outputs": [
        {
          "output_type": "stream",
          "name": "stdout",
          "text": [
            " Train shapes X (7999,)  Y:  (7999, 3)\n",
            " Test shapes X (1000,)  Y :  (1000, 3)\n",
            " Test shapes X (1000,)  Y :  (1000, 3)\n"
          ]
        }
      ]
    },
    {
      "cell_type": "code",
      "source": [
        "import numpy as np\n",
        "import cv2\n",
        "def get_images_matrix(files):\n",
        "  arr=[]\n",
        "  for i,file in enumerate(files):\n",
        "    img=image.imread(file,format=\"RGB\")\n",
        "    img = cv2.cvtColor(img, cv2.COLOR_RGB2GRAY)\n",
        "    img=img/255\n",
        "    if i==0:\n",
        "      print(img.shape)\n",
        "      arr.append(np.reshape(img,(32,128,1)))\n",
        "    else:\n",
        "      if i%5000==0:\n",
        "        print(i,\" files processed..\")\n",
        "      arr.append(np.reshape(img,(32,128,1)))\n",
        "  return arr\n",
        "x_test_arr=get_images_matrix(x_test)"
      ],
      "metadata": {
        "id": "dU1vGurF4Yp_",
        "outputId": "1f87031a-f70e-4cc9-fab8-f0daa2178f59",
        "execution": {
          "iopub.status.busy": "2022-03-29T04:09:32.071645Z",
          "iopub.execute_input": "2022-03-29T04:09:32.072326Z",
          "iopub.status.idle": "2022-03-29T04:09:32.560682Z",
          "shell.execute_reply.started": "2022-03-29T04:09:32.072290Z",
          "shell.execute_reply": "2022-03-29T04:09:32.559930Z"
        },
        "trusted": true,
        "colab": {
          "base_uri": "https://localhost:8080/"
        }
      },
      "execution_count": 62,
      "outputs": [
        {
          "output_type": "stream",
          "name": "stdout",
          "text": [
            "(128, 32)\n"
          ]
        }
      ]
    },
    {
      "cell_type": "code",
      "source": [
        "del x_test"
      ],
      "metadata": {
        "execution": {
          "iopub.status.busy": "2022-03-29T04:09:35.468447Z",
          "iopub.execute_input": "2022-03-29T04:09:35.468831Z",
          "iopub.status.idle": "2022-03-29T04:09:35.472577Z",
          "shell.execute_reply.started": "2022-03-29T04:09:35.468799Z",
          "shell.execute_reply": "2022-03-29T04:09:35.471787Z"
        },
        "trusted": true,
        "id": "7b2aG_D6BVS0"
      },
      "execution_count": 63,
      "outputs": []
    },
    {
      "cell_type": "code",
      "source": [
        "print(len(x_test_arr))\n",
        "print(x_test_arr[0][0,0,0])"
      ],
      "metadata": {
        "id": "Lh79p2GbAgi_",
        "outputId": "7bfb8996-6885-4b7b-8924-24142ccc1355",
        "execution": {
          "iopub.status.busy": "2022-03-29T04:09:36.841152Z",
          "iopub.execute_input": "2022-03-29T04:09:36.841429Z",
          "iopub.status.idle": "2022-03-29T04:09:36.846629Z",
          "shell.execute_reply.started": "2022-03-29T04:09:36.841399Z",
          "shell.execute_reply": "2022-03-29T04:09:36.845547Z"
        },
        "trusted": true,
        "colab": {
          "base_uri": "https://localhost:8080/"
        }
      },
      "execution_count": 64,
      "outputs": [
        {
          "output_type": "stream",
          "name": "stdout",
          "text": [
            "1000\n",
            "0.5254901960784314\n"
          ]
        }
      ]
    },
    {
      "cell_type": "code",
      "source": [
        "x_train_arr=get_images_matrix(x_train)    "
      ],
      "metadata": {
        "id": "cOaXBZGr8IYV",
        "outputId": "2d5ffb40-4b7f-48b7-8dfe-f0c78b2bb43d",
        "execution": {
          "iopub.status.busy": "2022-03-29T04:09:39.461799Z",
          "iopub.execute_input": "2022-03-29T04:09:39.462046Z",
          "iopub.status.idle": "2022-03-29T04:09:43.296043Z",
          "shell.execute_reply.started": "2022-03-29T04:09:39.462018Z",
          "shell.execute_reply": "2022-03-29T04:09:43.295320Z"
        },
        "trusted": true,
        "colab": {
          "base_uri": "https://localhost:8080/"
        }
      },
      "execution_count": 65,
      "outputs": [
        {
          "output_type": "stream",
          "name": "stdout",
          "text": [
            "(128, 32)\n",
            "5000  files processed..\n"
          ]
        }
      ]
    },
    {
      "cell_type": "code",
      "source": [
        "del x_train"
      ],
      "metadata": {
        "execution": {
          "iopub.status.busy": "2022-03-29T04:09:44.922642Z",
          "iopub.execute_input": "2022-03-29T04:09:44.923416Z",
          "iopub.status.idle": "2022-03-29T04:09:44.927701Z",
          "shell.execute_reply.started": "2022-03-29T04:09:44.923368Z",
          "shell.execute_reply": "2022-03-29T04:09:44.926949Z"
        },
        "trusted": true,
        "id": "ZGeJzXhBBVS1"
      },
      "execution_count": 66,
      "outputs": []
    },
    {
      "cell_type": "code",
      "source": [
        "x_final_test_arr=get_images_matrix(x_final_test)"
      ],
      "metadata": {
        "execution": {
          "iopub.status.busy": "2022-03-29T04:09:46.244545Z",
          "iopub.execute_input": "2022-03-29T04:09:46.245096Z",
          "iopub.status.idle": "2022-03-29T04:09:46.950069Z",
          "shell.execute_reply.started": "2022-03-29T04:09:46.245058Z",
          "shell.execute_reply": "2022-03-29T04:09:46.946309Z"
        },
        "trusted": true,
        "colab": {
          "base_uri": "https://localhost:8080/"
        },
        "id": "yP2llxisBVS1",
        "outputId": "fdbfd317-a24f-4227-9a86-0ed9368ca0b6"
      },
      "execution_count": 67,
      "outputs": [
        {
          "output_type": "stream",
          "name": "stdout",
          "text": [
            "(128, 32)\n"
          ]
        }
      ]
    },
    {
      "cell_type": "code",
      "source": [
        "del x_final_test"
      ],
      "metadata": {
        "execution": {
          "iopub.status.busy": "2022-03-29T04:09:50.020377Z",
          "iopub.execute_input": "2022-03-29T04:09:50.023392Z",
          "iopub.status.idle": "2022-03-29T04:09:50.027985Z",
          "shell.execute_reply.started": "2022-03-29T04:09:50.023343Z",
          "shell.execute_reply": "2022-03-29T04:09:50.027136Z"
        },
        "trusted": true,
        "id": "ByXgx74qBVS1"
      },
      "execution_count": 68,
      "outputs": []
    },
    {
      "cell_type": "code",
      "source": [
        "print(len(x_train_arr))         \n",
        "print(x_train_arr[0][0,0,0])       "
      ],
      "metadata": {
        "id": "_6oDfwI4CeBQ",
        "outputId": "5d06c4c8-7943-4480-fb52-85e51aa7dfdd",
        "execution": {
          "iopub.status.busy": "2022-03-29T04:09:51.623260Z",
          "iopub.execute_input": "2022-03-29T04:09:51.623535Z",
          "iopub.status.idle": "2022-03-29T04:09:51.628470Z",
          "shell.execute_reply.started": "2022-03-29T04:09:51.623504Z",
          "shell.execute_reply": "2022-03-29T04:09:51.627792Z"
        },
        "trusted": true,
        "colab": {
          "base_uri": "https://localhost:8080/"
        }
      },
      "execution_count": 69,
      "outputs": [
        {
          "output_type": "stream",
          "name": "stdout",
          "text": [
            "7999\n",
            "0.8431372549019608\n"
          ]
        }
      ]
    },
    {
      "cell_type": "code",
      "source": [
        "y_train.head(3)   "
      ],
      "metadata": {
        "id": "uFzbUSC8P2NA",
        "outputId": "afbbfc34-e883-4909-a63e-5da02ad378b1",
        "execution": {
          "iopub.status.busy": "2022-03-29T04:09:54.522975Z",
          "iopub.execute_input": "2022-03-29T04:09:54.523645Z",
          "iopub.status.idle": "2022-03-29T04:09:54.532024Z",
          "shell.execute_reply.started": "2022-03-29T04:09:54.523607Z",
          "shell.execute_reply": "2022-03-29T04:09:54.531359Z"
        },
        "trusted": true,
        "colab": {
          "base_uri": "https://localhost:8080/",
          "height": 143
        }
      },
      "execution_count": 70,
      "outputs": [
        {
          "output_type": "execute_result",
          "data": {
            "text/plain": [
              "      max_len                                      padded_tokens        text\n",
              "9387        3  26,39,29,99,99,99,99,99,99,99,99,99,99,99,99,9...         and\n",
              "7538        3  31,40,43,99,99,99,99,99,99,99,99,99,99,99,99,9...         for\n",
              "6949       10  4,47,30,43,50,45,33,34,39,32,99,99,99,99,99,99,99  Everything"
            ],
            "text/html": [
              "\n",
              "  <div id=\"df-aee4dcff-c924-4648-b804-34962377e3d3\">\n",
              "    <div class=\"colab-df-container\">\n",
              "      <div>\n",
              "<style scoped>\n",
              "    .dataframe tbody tr th:only-of-type {\n",
              "        vertical-align: middle;\n",
              "    }\n",
              "\n",
              "    .dataframe tbody tr th {\n",
              "        vertical-align: top;\n",
              "    }\n",
              "\n",
              "    .dataframe thead th {\n",
              "        text-align: right;\n",
              "    }\n",
              "</style>\n",
              "<table border=\"1\" class=\"dataframe\">\n",
              "  <thead>\n",
              "    <tr style=\"text-align: right;\">\n",
              "      <th></th>\n",
              "      <th>max_len</th>\n",
              "      <th>padded_tokens</th>\n",
              "      <th>text</th>\n",
              "    </tr>\n",
              "  </thead>\n",
              "  <tbody>\n",
              "    <tr>\n",
              "      <th>9387</th>\n",
              "      <td>3</td>\n",
              "      <td>26,39,29,99,99,99,99,99,99,99,99,99,99,99,99,9...</td>\n",
              "      <td>and</td>\n",
              "    </tr>\n",
              "    <tr>\n",
              "      <th>7538</th>\n",
              "      <td>3</td>\n",
              "      <td>31,40,43,99,99,99,99,99,99,99,99,99,99,99,99,9...</td>\n",
              "      <td>for</td>\n",
              "    </tr>\n",
              "    <tr>\n",
              "      <th>6949</th>\n",
              "      <td>10</td>\n",
              "      <td>4,47,30,43,50,45,33,34,39,32,99,99,99,99,99,99,99</td>\n",
              "      <td>Everything</td>\n",
              "    </tr>\n",
              "  </tbody>\n",
              "</table>\n",
              "</div>\n",
              "      <button class=\"colab-df-convert\" onclick=\"convertToInteractive('df-aee4dcff-c924-4648-b804-34962377e3d3')\"\n",
              "              title=\"Convert this dataframe to an interactive table.\"\n",
              "              style=\"display:none;\">\n",
              "        \n",
              "  <svg xmlns=\"http://www.w3.org/2000/svg\" height=\"24px\"viewBox=\"0 0 24 24\"\n",
              "       width=\"24px\">\n",
              "    <path d=\"M0 0h24v24H0V0z\" fill=\"none\"/>\n",
              "    <path d=\"M18.56 5.44l.94 2.06.94-2.06 2.06-.94-2.06-.94-.94-2.06-.94 2.06-2.06.94zm-11 1L8.5 8.5l.94-2.06 2.06-.94-2.06-.94L8.5 2.5l-.94 2.06-2.06.94zm10 10l.94 2.06.94-2.06 2.06-.94-2.06-.94-.94-2.06-.94 2.06-2.06.94z\"/><path d=\"M17.41 7.96l-1.37-1.37c-.4-.4-.92-.59-1.43-.59-.52 0-1.04.2-1.43.59L10.3 9.45l-7.72 7.72c-.78.78-.78 2.05 0 2.83L4 21.41c.39.39.9.59 1.41.59.51 0 1.02-.2 1.41-.59l7.78-7.78 2.81-2.81c.8-.78.8-2.07 0-2.86zM5.41 20L4 18.59l7.72-7.72 1.47 1.35L5.41 20z\"/>\n",
              "  </svg>\n",
              "      </button>\n",
              "      \n",
              "  <style>\n",
              "    .colab-df-container {\n",
              "      display:flex;\n",
              "      flex-wrap:wrap;\n",
              "      gap: 12px;\n",
              "    }\n",
              "\n",
              "    .colab-df-convert {\n",
              "      background-color: #E8F0FE;\n",
              "      border: none;\n",
              "      border-radius: 50%;\n",
              "      cursor: pointer;\n",
              "      display: none;\n",
              "      fill: #1967D2;\n",
              "      height: 32px;\n",
              "      padding: 0 0 0 0;\n",
              "      width: 32px;\n",
              "    }\n",
              "\n",
              "    .colab-df-convert:hover {\n",
              "      background-color: #E2EBFA;\n",
              "      box-shadow: 0px 1px 2px rgba(60, 64, 67, 0.3), 0px 1px 3px 1px rgba(60, 64, 67, 0.15);\n",
              "      fill: #174EA6;\n",
              "    }\n",
              "\n",
              "    [theme=dark] .colab-df-convert {\n",
              "      background-color: #3B4455;\n",
              "      fill: #D2E3FC;\n",
              "    }\n",
              "\n",
              "    [theme=dark] .colab-df-convert:hover {\n",
              "      background-color: #434B5C;\n",
              "      box-shadow: 0px 1px 3px 1px rgba(0, 0, 0, 0.15);\n",
              "      filter: drop-shadow(0px 1px 2px rgba(0, 0, 0, 0.3));\n",
              "      fill: #FFFFFF;\n",
              "    }\n",
              "  </style>\n",
              "\n",
              "      <script>\n",
              "        const buttonEl =\n",
              "          document.querySelector('#df-aee4dcff-c924-4648-b804-34962377e3d3 button.colab-df-convert');\n",
              "        buttonEl.style.display =\n",
              "          google.colab.kernel.accessAllowed ? 'block' : 'none';\n",
              "\n",
              "        async function convertToInteractive(key) {\n",
              "          const element = document.querySelector('#df-aee4dcff-c924-4648-b804-34962377e3d3');\n",
              "          const dataTable =\n",
              "            await google.colab.kernel.invokeFunction('convertToInteractive',\n",
              "                                                     [key], {});\n",
              "          if (!dataTable) return;\n",
              "\n",
              "          const docLinkHtml = 'Like what you see? Visit the ' +\n",
              "            '<a target=\"_blank\" href=https://colab.research.google.com/notebooks/data_table.ipynb>data table notebook</a>'\n",
              "            + ' to learn more about interactive tables.';\n",
              "          element.innerHTML = '';\n",
              "          dataTable['output_type'] = 'display_data';\n",
              "          await google.colab.output.renderOutput(dataTable, element);\n",
              "          const docLink = document.createElement('div');\n",
              "          docLink.innerHTML = docLinkHtml;\n",
              "          element.appendChild(docLink);\n",
              "        }\n",
              "      </script>\n",
              "    </div>\n",
              "  </div>\n",
              "  "
            ]
          },
          "metadata": {},
          "execution_count": 70
        }
      ]
    },
    {
      "cell_type": "code",
      "source": [
        "y_test.head(3)"
      ],
      "metadata": {
        "id": "jb0-QOT9P4gh",
        "outputId": "0005c4d6-cdc4-4a5b-e1a5-7141c4a66e01",
        "execution": {
          "iopub.status.busy": "2022-03-29T04:09:58.327893Z",
          "iopub.execute_input": "2022-03-29T04:09:58.328530Z",
          "iopub.status.idle": "2022-03-29T04:09:58.337589Z",
          "shell.execute_reply.started": "2022-03-29T04:09:58.328466Z",
          "shell.execute_reply": "2022-03-29T04:09:58.336892Z"
        },
        "trusted": true,
        "colab": {
          "base_uri": "https://localhost:8080/",
          "height": 143
        }
      },
      "execution_count": 71,
      "outputs": [
        {
          "output_type": "execute_result",
          "data": {
            "text/plain": [
              "      max_len                                      padded_tokens          text\n",
              "6615        3  45,48,40,99,99,99,99,99,99,99,99,99,99,99,99,9...           two\n",
              "4704        3  33,34,38,99,99,99,99,99,99,99,99,99,99,99,99,9...           him\n",
              "9843       12  13,26,45,34,40,39,26,37,34,44,45,44,99,99,99,9...  Nationalists"
            ],
            "text/html": [
              "\n",
              "  <div id=\"df-1303e180-579a-4873-8819-3a0dc7a9088d\">\n",
              "    <div class=\"colab-df-container\">\n",
              "      <div>\n",
              "<style scoped>\n",
              "    .dataframe tbody tr th:only-of-type {\n",
              "        vertical-align: middle;\n",
              "    }\n",
              "\n",
              "    .dataframe tbody tr th {\n",
              "        vertical-align: top;\n",
              "    }\n",
              "\n",
              "    .dataframe thead th {\n",
              "        text-align: right;\n",
              "    }\n",
              "</style>\n",
              "<table border=\"1\" class=\"dataframe\">\n",
              "  <thead>\n",
              "    <tr style=\"text-align: right;\">\n",
              "      <th></th>\n",
              "      <th>max_len</th>\n",
              "      <th>padded_tokens</th>\n",
              "      <th>text</th>\n",
              "    </tr>\n",
              "  </thead>\n",
              "  <tbody>\n",
              "    <tr>\n",
              "      <th>6615</th>\n",
              "      <td>3</td>\n",
              "      <td>45,48,40,99,99,99,99,99,99,99,99,99,99,99,99,9...</td>\n",
              "      <td>two</td>\n",
              "    </tr>\n",
              "    <tr>\n",
              "      <th>4704</th>\n",
              "      <td>3</td>\n",
              "      <td>33,34,38,99,99,99,99,99,99,99,99,99,99,99,99,9...</td>\n",
              "      <td>him</td>\n",
              "    </tr>\n",
              "    <tr>\n",
              "      <th>9843</th>\n",
              "      <td>12</td>\n",
              "      <td>13,26,45,34,40,39,26,37,34,44,45,44,99,99,99,9...</td>\n",
              "      <td>Nationalists</td>\n",
              "    </tr>\n",
              "  </tbody>\n",
              "</table>\n",
              "</div>\n",
              "      <button class=\"colab-df-convert\" onclick=\"convertToInteractive('df-1303e180-579a-4873-8819-3a0dc7a9088d')\"\n",
              "              title=\"Convert this dataframe to an interactive table.\"\n",
              "              style=\"display:none;\">\n",
              "        \n",
              "  <svg xmlns=\"http://www.w3.org/2000/svg\" height=\"24px\"viewBox=\"0 0 24 24\"\n",
              "       width=\"24px\">\n",
              "    <path d=\"M0 0h24v24H0V0z\" fill=\"none\"/>\n",
              "    <path d=\"M18.56 5.44l.94 2.06.94-2.06 2.06-.94-2.06-.94-.94-2.06-.94 2.06-2.06.94zm-11 1L8.5 8.5l.94-2.06 2.06-.94-2.06-.94L8.5 2.5l-.94 2.06-2.06.94zm10 10l.94 2.06.94-2.06 2.06-.94-2.06-.94-.94-2.06-.94 2.06-2.06.94z\"/><path d=\"M17.41 7.96l-1.37-1.37c-.4-.4-.92-.59-1.43-.59-.52 0-1.04.2-1.43.59L10.3 9.45l-7.72 7.72c-.78.78-.78 2.05 0 2.83L4 21.41c.39.39.9.59 1.41.59.51 0 1.02-.2 1.41-.59l7.78-7.78 2.81-2.81c.8-.78.8-2.07 0-2.86zM5.41 20L4 18.59l7.72-7.72 1.47 1.35L5.41 20z\"/>\n",
              "  </svg>\n",
              "      </button>\n",
              "      \n",
              "  <style>\n",
              "    .colab-df-container {\n",
              "      display:flex;\n",
              "      flex-wrap:wrap;\n",
              "      gap: 12px;\n",
              "    }\n",
              "\n",
              "    .colab-df-convert {\n",
              "      background-color: #E8F0FE;\n",
              "      border: none;\n",
              "      border-radius: 50%;\n",
              "      cursor: pointer;\n",
              "      display: none;\n",
              "      fill: #1967D2;\n",
              "      height: 32px;\n",
              "      padding: 0 0 0 0;\n",
              "      width: 32px;\n",
              "    }\n",
              "\n",
              "    .colab-df-convert:hover {\n",
              "      background-color: #E2EBFA;\n",
              "      box-shadow: 0px 1px 2px rgba(60, 64, 67, 0.3), 0px 1px 3px 1px rgba(60, 64, 67, 0.15);\n",
              "      fill: #174EA6;\n",
              "    }\n",
              "\n",
              "    [theme=dark] .colab-df-convert {\n",
              "      background-color: #3B4455;\n",
              "      fill: #D2E3FC;\n",
              "    }\n",
              "\n",
              "    [theme=dark] .colab-df-convert:hover {\n",
              "      background-color: #434B5C;\n",
              "      box-shadow: 0px 1px 3px 1px rgba(0, 0, 0, 0.15);\n",
              "      filter: drop-shadow(0px 1px 2px rgba(0, 0, 0, 0.3));\n",
              "      fill: #FFFFFF;\n",
              "    }\n",
              "  </style>\n",
              "\n",
              "      <script>\n",
              "        const buttonEl =\n",
              "          document.querySelector('#df-1303e180-579a-4873-8819-3a0dc7a9088d button.colab-df-convert');\n",
              "        buttonEl.style.display =\n",
              "          google.colab.kernel.accessAllowed ? 'block' : 'none';\n",
              "\n",
              "        async function convertToInteractive(key) {\n",
              "          const element = document.querySelector('#df-1303e180-579a-4873-8819-3a0dc7a9088d');\n",
              "          const dataTable =\n",
              "            await google.colab.kernel.invokeFunction('convertToInteractive',\n",
              "                                                     [key], {});\n",
              "          if (!dataTable) return;\n",
              "\n",
              "          const docLinkHtml = 'Like what you see? Visit the ' +\n",
              "            '<a target=\"_blank\" href=https://colab.research.google.com/notebooks/data_table.ipynb>data table notebook</a>'\n",
              "            + ' to learn more about interactive tables.';\n",
              "          element.innerHTML = '';\n",
              "          dataTable['output_type'] = 'display_data';\n",
              "          await google.colab.output.renderOutput(dataTable, element);\n",
              "          const docLink = document.createElement('div');\n",
              "          docLink.innerHTML = docLinkHtml;\n",
              "          element.appendChild(docLink);\n",
              "        }\n",
              "      </script>\n",
              "    </div>\n",
              "  </div>\n",
              "  "
            ]
          },
          "metadata": {},
          "execution_count": 71
        }
      ]
    },
    {
      "cell_type": "code",
      "source": [
        "y_train=y_train.reset_index()\n",
        "y_train.drop([\"index\"],axis=1,inplace=True)\n",
        "y_test=y_test.reset_index()\n",
        "y_test.drop([\"index\"],axis=1,inplace=True)\n",
        "y_final_test=y_final_test.reset_index()\n",
        "y_final_test.drop([\"index\"],axis=1,inplace=True)"
      ],
      "metadata": {
        "id": "c32fg7ztIn6E",
        "execution": {
          "iopub.status.busy": "2022-03-29T04:10:02.359070Z",
          "iopub.execute_input": "2022-03-29T04:10:02.359937Z",
          "iopub.status.idle": "2022-03-29T04:10:02.371657Z",
          "shell.execute_reply.started": "2022-03-29T04:10:02.359879Z",
          "shell.execute_reply": "2022-03-29T04:10:02.371000Z"
        },
        "trusted": true
      },
      "execution_count": 72,
      "outputs": []
    },
    {
      "cell_type": "code",
      "source": [
        "y_train.head(3)"
      ],
      "metadata": {
        "id": "8mMbsMYyI4wI",
        "outputId": "d5062099-9283-4539-8947-006e3c0ea48c",
        "execution": {
          "iopub.status.busy": "2022-03-29T04:10:04.152335Z",
          "iopub.execute_input": "2022-03-29T04:10:04.152907Z",
          "iopub.status.idle": "2022-03-29T04:10:04.162105Z",
          "shell.execute_reply.started": "2022-03-29T04:10:04.152866Z",
          "shell.execute_reply": "2022-03-29T04:10:04.161338Z"
        },
        "trusted": true,
        "colab": {
          "base_uri": "https://localhost:8080/",
          "height": 143
        }
      },
      "execution_count": 73,
      "outputs": [
        {
          "output_type": "execute_result",
          "data": {
            "text/plain": [
              "   max_len                                      padded_tokens        text\n",
              "0        3  26,39,29,99,99,99,99,99,99,99,99,99,99,99,99,9...         and\n",
              "1        3  31,40,43,99,99,99,99,99,99,99,99,99,99,99,99,9...         for\n",
              "2       10  4,47,30,43,50,45,33,34,39,32,99,99,99,99,99,99,99  Everything"
            ],
            "text/html": [
              "\n",
              "  <div id=\"df-bf2dda2c-69a9-438a-9fee-57b2163aea5d\">\n",
              "    <div class=\"colab-df-container\">\n",
              "      <div>\n",
              "<style scoped>\n",
              "    .dataframe tbody tr th:only-of-type {\n",
              "        vertical-align: middle;\n",
              "    }\n",
              "\n",
              "    .dataframe tbody tr th {\n",
              "        vertical-align: top;\n",
              "    }\n",
              "\n",
              "    .dataframe thead th {\n",
              "        text-align: right;\n",
              "    }\n",
              "</style>\n",
              "<table border=\"1\" class=\"dataframe\">\n",
              "  <thead>\n",
              "    <tr style=\"text-align: right;\">\n",
              "      <th></th>\n",
              "      <th>max_len</th>\n",
              "      <th>padded_tokens</th>\n",
              "      <th>text</th>\n",
              "    </tr>\n",
              "  </thead>\n",
              "  <tbody>\n",
              "    <tr>\n",
              "      <th>0</th>\n",
              "      <td>3</td>\n",
              "      <td>26,39,29,99,99,99,99,99,99,99,99,99,99,99,99,9...</td>\n",
              "      <td>and</td>\n",
              "    </tr>\n",
              "    <tr>\n",
              "      <th>1</th>\n",
              "      <td>3</td>\n",
              "      <td>31,40,43,99,99,99,99,99,99,99,99,99,99,99,99,9...</td>\n",
              "      <td>for</td>\n",
              "    </tr>\n",
              "    <tr>\n",
              "      <th>2</th>\n",
              "      <td>10</td>\n",
              "      <td>4,47,30,43,50,45,33,34,39,32,99,99,99,99,99,99,99</td>\n",
              "      <td>Everything</td>\n",
              "    </tr>\n",
              "  </tbody>\n",
              "</table>\n",
              "</div>\n",
              "      <button class=\"colab-df-convert\" onclick=\"convertToInteractive('df-bf2dda2c-69a9-438a-9fee-57b2163aea5d')\"\n",
              "              title=\"Convert this dataframe to an interactive table.\"\n",
              "              style=\"display:none;\">\n",
              "        \n",
              "  <svg xmlns=\"http://www.w3.org/2000/svg\" height=\"24px\"viewBox=\"0 0 24 24\"\n",
              "       width=\"24px\">\n",
              "    <path d=\"M0 0h24v24H0V0z\" fill=\"none\"/>\n",
              "    <path d=\"M18.56 5.44l.94 2.06.94-2.06 2.06-.94-2.06-.94-.94-2.06-.94 2.06-2.06.94zm-11 1L8.5 8.5l.94-2.06 2.06-.94-2.06-.94L8.5 2.5l-.94 2.06-2.06.94zm10 10l.94 2.06.94-2.06 2.06-.94-2.06-.94-.94-2.06-.94 2.06-2.06.94z\"/><path d=\"M17.41 7.96l-1.37-1.37c-.4-.4-.92-.59-1.43-.59-.52 0-1.04.2-1.43.59L10.3 9.45l-7.72 7.72c-.78.78-.78 2.05 0 2.83L4 21.41c.39.39.9.59 1.41.59.51 0 1.02-.2 1.41-.59l7.78-7.78 2.81-2.81c.8-.78.8-2.07 0-2.86zM5.41 20L4 18.59l7.72-7.72 1.47 1.35L5.41 20z\"/>\n",
              "  </svg>\n",
              "      </button>\n",
              "      \n",
              "  <style>\n",
              "    .colab-df-container {\n",
              "      display:flex;\n",
              "      flex-wrap:wrap;\n",
              "      gap: 12px;\n",
              "    }\n",
              "\n",
              "    .colab-df-convert {\n",
              "      background-color: #E8F0FE;\n",
              "      border: none;\n",
              "      border-radius: 50%;\n",
              "      cursor: pointer;\n",
              "      display: none;\n",
              "      fill: #1967D2;\n",
              "      height: 32px;\n",
              "      padding: 0 0 0 0;\n",
              "      width: 32px;\n",
              "    }\n",
              "\n",
              "    .colab-df-convert:hover {\n",
              "      background-color: #E2EBFA;\n",
              "      box-shadow: 0px 1px 2px rgba(60, 64, 67, 0.3), 0px 1px 3px 1px rgba(60, 64, 67, 0.15);\n",
              "      fill: #174EA6;\n",
              "    }\n",
              "\n",
              "    [theme=dark] .colab-df-convert {\n",
              "      background-color: #3B4455;\n",
              "      fill: #D2E3FC;\n",
              "    }\n",
              "\n",
              "    [theme=dark] .colab-df-convert:hover {\n",
              "      background-color: #434B5C;\n",
              "      box-shadow: 0px 1px 3px 1px rgba(0, 0, 0, 0.15);\n",
              "      filter: drop-shadow(0px 1px 2px rgba(0, 0, 0, 0.3));\n",
              "      fill: #FFFFFF;\n",
              "    }\n",
              "  </style>\n",
              "\n",
              "      <script>\n",
              "        const buttonEl =\n",
              "          document.querySelector('#df-bf2dda2c-69a9-438a-9fee-57b2163aea5d button.colab-df-convert');\n",
              "        buttonEl.style.display =\n",
              "          google.colab.kernel.accessAllowed ? 'block' : 'none';\n",
              "\n",
              "        async function convertToInteractive(key) {\n",
              "          const element = document.querySelector('#df-bf2dda2c-69a9-438a-9fee-57b2163aea5d');\n",
              "          const dataTable =\n",
              "            await google.colab.kernel.invokeFunction('convertToInteractive',\n",
              "                                                     [key], {});\n",
              "          if (!dataTable) return;\n",
              "\n",
              "          const docLinkHtml = 'Like what you see? Visit the ' +\n",
              "            '<a target=\"_blank\" href=https://colab.research.google.com/notebooks/data_table.ipynb>data table notebook</a>'\n",
              "            + ' to learn more about interactive tables.';\n",
              "          element.innerHTML = '';\n",
              "          dataTable['output_type'] = 'display_data';\n",
              "          await google.colab.output.renderOutput(dataTable, element);\n",
              "          const docLink = document.createElement('div');\n",
              "          docLink.innerHTML = docLinkHtml;\n",
              "          element.appendChild(docLink);\n",
              "        }\n",
              "      </script>\n",
              "    </div>\n",
              "  </div>\n",
              "  "
            ]
          },
          "metadata": {},
          "execution_count": 73
        }
      ]
    },
    {
      "cell_type": "code",
      "source": [
        "len(x_train_arr)"
      ],
      "metadata": {
        "id": "dA-wgWUUavlt",
        "outputId": "222607f9-6e91-4369-e0b9-76f7a9e76f6c",
        "execution": {
          "iopub.status.busy": "2022-03-29T04:10:07.359647Z",
          "iopub.execute_input": "2022-03-29T04:10:07.360172Z",
          "iopub.status.idle": "2022-03-29T04:10:07.365013Z",
          "shell.execute_reply.started": "2022-03-29T04:10:07.360134Z",
          "shell.execute_reply": "2022-03-29T04:10:07.364240Z"
        },
        "trusted": true,
        "colab": {
          "base_uri": "https://localhost:8080/"
        }
      },
      "execution_count": 74,
      "outputs": [
        {
          "output_type": "execute_result",
          "data": {
            "text/plain": [
              "7999"
            ]
          },
          "metadata": {},
          "execution_count": 74
        }
      ]
    },
    {
      "cell_type": "markdown",
      "source": [
        "7. Create a model for training: Marks: 30 \n",
        "\n",
        "a) Add several CNN layers to extract the sequence of features\n",
        "\n",
        "b) Add Bi-LSTM layers to propagate through the sequence\n",
        "\n",
        "c) Add a dense layer (output layer) with total number of neurons as (total number of characters + 1) and the activation as softmax.\n"
      ],
      "metadata": {
        "id": "YNiK0oZrUqI9"
      }
    },
    {
      "cell_type": "code",
      "source": [
        "!pip install tensorflow_addons"
      ],
      "metadata": {
        "colab": {
          "base_uri": "https://localhost:8080/"
        },
        "id": "yaLhKaEEIR0X",
        "outputId": "8b993cc9-0007-4247-fb50-eeb36599fa9e"
      },
      "execution_count": 77,
      "outputs": [
        {
          "output_type": "stream",
          "name": "stdout",
          "text": [
            "Collecting tensorflow_addons\n",
            "  Downloading tensorflow_addons-0.16.1-cp37-cp37m-manylinux_2_12_x86_64.manylinux2010_x86_64.whl (1.1 MB)\n",
            "\u001b[?25l\r\u001b[K     |▎                               | 10 kB 18.6 MB/s eta 0:00:01\r\u001b[K     |▋                               | 20 kB 10.2 MB/s eta 0:00:01\r\u001b[K     |▉                               | 30 kB 8.6 MB/s eta 0:00:01\r\u001b[K     |█▏                              | 40 kB 8.0 MB/s eta 0:00:01\r\u001b[K     |█▌                              | 51 kB 4.3 MB/s eta 0:00:01\r\u001b[K     |█▊                              | 61 kB 5.1 MB/s eta 0:00:01\r\u001b[K     |██                              | 71 kB 5.6 MB/s eta 0:00:01\r\u001b[K     |██▍                             | 81 kB 5.7 MB/s eta 0:00:01\r\u001b[K     |██▋                             | 92 kB 6.3 MB/s eta 0:00:01\r\u001b[K     |███                             | 102 kB 5.1 MB/s eta 0:00:01\r\u001b[K     |███▏                            | 112 kB 5.1 MB/s eta 0:00:01\r\u001b[K     |███▌                            | 122 kB 5.1 MB/s eta 0:00:01\r\u001b[K     |███▉                            | 133 kB 5.1 MB/s eta 0:00:01\r\u001b[K     |████                            | 143 kB 5.1 MB/s eta 0:00:01\r\u001b[K     |████▍                           | 153 kB 5.1 MB/s eta 0:00:01\r\u001b[K     |████▊                           | 163 kB 5.1 MB/s eta 0:00:01\r\u001b[K     |█████                           | 174 kB 5.1 MB/s eta 0:00:01\r\u001b[K     |█████▎                          | 184 kB 5.1 MB/s eta 0:00:01\r\u001b[K     |█████▌                          | 194 kB 5.1 MB/s eta 0:00:01\r\u001b[K     |█████▉                          | 204 kB 5.1 MB/s eta 0:00:01\r\u001b[K     |██████▏                         | 215 kB 5.1 MB/s eta 0:00:01\r\u001b[K     |██████▍                         | 225 kB 5.1 MB/s eta 0:00:01\r\u001b[K     |██████▊                         | 235 kB 5.1 MB/s eta 0:00:01\r\u001b[K     |███████                         | 245 kB 5.1 MB/s eta 0:00:01\r\u001b[K     |███████▎                        | 256 kB 5.1 MB/s eta 0:00:01\r\u001b[K     |███████▋                        | 266 kB 5.1 MB/s eta 0:00:01\r\u001b[K     |███████▉                        | 276 kB 5.1 MB/s eta 0:00:01\r\u001b[K     |████████▏                       | 286 kB 5.1 MB/s eta 0:00:01\r\u001b[K     |████████▌                       | 296 kB 5.1 MB/s eta 0:00:01\r\u001b[K     |████████▊                       | 307 kB 5.1 MB/s eta 0:00:01\r\u001b[K     |█████████                       | 317 kB 5.1 MB/s eta 0:00:01\r\u001b[K     |█████████▍                      | 327 kB 5.1 MB/s eta 0:00:01\r\u001b[K     |█████████▋                      | 337 kB 5.1 MB/s eta 0:00:01\r\u001b[K     |██████████                      | 348 kB 5.1 MB/s eta 0:00:01\r\u001b[K     |██████████▏                     | 358 kB 5.1 MB/s eta 0:00:01\r\u001b[K     |██████████▌                     | 368 kB 5.1 MB/s eta 0:00:01\r\u001b[K     |██████████▉                     | 378 kB 5.1 MB/s eta 0:00:01\r\u001b[K     |███████████                     | 389 kB 5.1 MB/s eta 0:00:01\r\u001b[K     |███████████▍                    | 399 kB 5.1 MB/s eta 0:00:01\r\u001b[K     |███████████▊                    | 409 kB 5.1 MB/s eta 0:00:01\r\u001b[K     |████████████                    | 419 kB 5.1 MB/s eta 0:00:01\r\u001b[K     |████████████▎                   | 430 kB 5.1 MB/s eta 0:00:01\r\u001b[K     |████████████▌                   | 440 kB 5.1 MB/s eta 0:00:01\r\u001b[K     |████████████▉                   | 450 kB 5.1 MB/s eta 0:00:01\r\u001b[K     |█████████████▏                  | 460 kB 5.1 MB/s eta 0:00:01\r\u001b[K     |█████████████▍                  | 471 kB 5.1 MB/s eta 0:00:01\r\u001b[K     |█████████████▊                  | 481 kB 5.1 MB/s eta 0:00:01\r\u001b[K     |██████████████                  | 491 kB 5.1 MB/s eta 0:00:01\r\u001b[K     |██████████████▎                 | 501 kB 5.1 MB/s eta 0:00:01\r\u001b[K     |██████████████▋                 | 512 kB 5.1 MB/s eta 0:00:01\r\u001b[K     |██████████████▉                 | 522 kB 5.1 MB/s eta 0:00:01\r\u001b[K     |███████████████▏                | 532 kB 5.1 MB/s eta 0:00:01\r\u001b[K     |███████████████▌                | 542 kB 5.1 MB/s eta 0:00:01\r\u001b[K     |███████████████▊                | 552 kB 5.1 MB/s eta 0:00:01\r\u001b[K     |████████████████                | 563 kB 5.1 MB/s eta 0:00:01\r\u001b[K     |████████████████▍               | 573 kB 5.1 MB/s eta 0:00:01\r\u001b[K     |████████████████▋               | 583 kB 5.1 MB/s eta 0:00:01\r\u001b[K     |█████████████████               | 593 kB 5.1 MB/s eta 0:00:01\r\u001b[K     |█████████████████▏              | 604 kB 5.1 MB/s eta 0:00:01\r\u001b[K     |█████████████████▌              | 614 kB 5.1 MB/s eta 0:00:01\r\u001b[K     |█████████████████▉              | 624 kB 5.1 MB/s eta 0:00:01\r\u001b[K     |██████████████████              | 634 kB 5.1 MB/s eta 0:00:01\r\u001b[K     |██████████████████▍             | 645 kB 5.1 MB/s eta 0:00:01\r\u001b[K     |██████████████████▊             | 655 kB 5.1 MB/s eta 0:00:01\r\u001b[K     |███████████████████             | 665 kB 5.1 MB/s eta 0:00:01\r\u001b[K     |███████████████████▎            | 675 kB 5.1 MB/s eta 0:00:01\r\u001b[K     |███████████████████▌            | 686 kB 5.1 MB/s eta 0:00:01\r\u001b[K     |███████████████████▉            | 696 kB 5.1 MB/s eta 0:00:01\r\u001b[K     |████████████████████▏           | 706 kB 5.1 MB/s eta 0:00:01\r\u001b[K     |████████████████████▍           | 716 kB 5.1 MB/s eta 0:00:01\r\u001b[K     |████████████████████▊           | 727 kB 5.1 MB/s eta 0:00:01\r\u001b[K     |█████████████████████           | 737 kB 5.1 MB/s eta 0:00:01\r\u001b[K     |█████████████████████▎          | 747 kB 5.1 MB/s eta 0:00:01\r\u001b[K     |█████████████████████▋          | 757 kB 5.1 MB/s eta 0:00:01\r\u001b[K     |█████████████████████▉          | 768 kB 5.1 MB/s eta 0:00:01\r\u001b[K     |██████████████████████▏         | 778 kB 5.1 MB/s eta 0:00:01\r\u001b[K     |██████████████████████▌         | 788 kB 5.1 MB/s eta 0:00:01\r\u001b[K     |██████████████████████▊         | 798 kB 5.1 MB/s eta 0:00:01\r\u001b[K     |███████████████████████         | 808 kB 5.1 MB/s eta 0:00:01\r\u001b[K     |███████████████████████▍        | 819 kB 5.1 MB/s eta 0:00:01\r\u001b[K     |███████████████████████▋        | 829 kB 5.1 MB/s eta 0:00:01\r\u001b[K     |████████████████████████        | 839 kB 5.1 MB/s eta 0:00:01\r\u001b[K     |████████████████████████▏       | 849 kB 5.1 MB/s eta 0:00:01\r\u001b[K     |████████████████████████▌       | 860 kB 5.1 MB/s eta 0:00:01\r\u001b[K     |████████████████████████▉       | 870 kB 5.1 MB/s eta 0:00:01\r\u001b[K     |█████████████████████████       | 880 kB 5.1 MB/s eta 0:00:01\r\u001b[K     |█████████████████████████▍      | 890 kB 5.1 MB/s eta 0:00:01\r\u001b[K     |█████████████████████████▊      | 901 kB 5.1 MB/s eta 0:00:01\r\u001b[K     |██████████████████████████      | 911 kB 5.1 MB/s eta 0:00:01\r\u001b[K     |██████████████████████████▎     | 921 kB 5.1 MB/s eta 0:00:01\r\u001b[K     |██████████████████████████▌     | 931 kB 5.1 MB/s eta 0:00:01\r\u001b[K     |██████████████████████████▉     | 942 kB 5.1 MB/s eta 0:00:01\r\u001b[K     |███████████████████████████▏    | 952 kB 5.1 MB/s eta 0:00:01\r\u001b[K     |███████████████████████████▍    | 962 kB 5.1 MB/s eta 0:00:01\r\u001b[K     |███████████████████████████▊    | 972 kB 5.1 MB/s eta 0:00:01\r\u001b[K     |████████████████████████████    | 983 kB 5.1 MB/s eta 0:00:01\r\u001b[K     |████████████████████████████▎   | 993 kB 5.1 MB/s eta 0:00:01\r\u001b[K     |████████████████████████████▋   | 1.0 MB 5.1 MB/s eta 0:00:01\r\u001b[K     |████████████████████████████▉   | 1.0 MB 5.1 MB/s eta 0:00:01\r\u001b[K     |█████████████████████████████▏  | 1.0 MB 5.1 MB/s eta 0:00:01\r\u001b[K     |█████████████████████████████▌  | 1.0 MB 5.1 MB/s eta 0:00:01\r\u001b[K     |█████████████████████████████▊  | 1.0 MB 5.1 MB/s eta 0:00:01\r\u001b[K     |██████████████████████████████  | 1.1 MB 5.1 MB/s eta 0:00:01\r\u001b[K     |██████████████████████████████▍ | 1.1 MB 5.1 MB/s eta 0:00:01\r\u001b[K     |██████████████████████████████▋ | 1.1 MB 5.1 MB/s eta 0:00:01\r\u001b[K     |███████████████████████████████ | 1.1 MB 5.1 MB/s eta 0:00:01\r\u001b[K     |███████████████████████████████▏| 1.1 MB 5.1 MB/s eta 0:00:01\r\u001b[K     |███████████████████████████████▌| 1.1 MB 5.1 MB/s eta 0:00:01\r\u001b[K     |███████████████████████████████▉| 1.1 MB 5.1 MB/s eta 0:00:01\r\u001b[K     |████████████████████████████████| 1.1 MB 5.1 MB/s \n",
            "\u001b[?25hRequirement already satisfied: typeguard>=2.7 in /usr/local/lib/python3.7/dist-packages (from tensorflow_addons) (2.7.1)\n",
            "Installing collected packages: tensorflow-addons\n",
            "Successfully installed tensorflow-addons-0.16.1\n"
          ]
        }
      ]
    },
    {
      "cell_type": "code",
      "source": [
        "from tensorflow.keras.layers import Dense, Flatten,Input,Conv2D,MaxPool2D,Dropout,BatchNormalization\n",
        "from tensorflow.keras.layers import LSTM,Bidirectional,Lambda,Flatten\n",
        "from tensorflow.keras.models import Model\n",
        "from tensorflow_addons.layers import GroupNormalization"
      ],
      "metadata": {
        "id": "24IxBPWyQOOU",
        "execution": {
          "iopub.status.busy": "2022-03-29T04:10:10.234044Z",
          "iopub.execute_input": "2022-03-29T04:10:10.234300Z",
          "iopub.status.idle": "2022-03-29T04:10:15.534687Z",
          "shell.execute_reply.started": "2022-03-29T04:10:10.234271Z",
          "shell.execute_reply": "2022-03-29T04:10:15.533943Z"
        },
        "trusted": true
      },
      "execution_count": 78,
      "outputs": []
    },
    {
      "cell_type": "code",
      "source": [
        "import tensorflow as tf\n",
        "from tensorflow.keras import backend as k\n",
        "input_layer=Input(shape=(32,128,1))\n",
        "layer=Conv2D(filters=32,kernel_size=(3,3),padding=\"same\",activation=\"relu\")(input_layer)\n",
        "layer=MaxPool2D(pool_size=(2,2),padding=\"same\")(layer)\n",
        "layer=GroupNormalization(4)(layer)\n",
        "layer=Conv2D(filters=32,kernel_size=(3,3),padding=\"same\",activation=\"relu\")(layer)\n",
        "layer=MaxPool2D(pool_size=(2,2),padding=\"same\")(layer)\n",
        "layer=GroupNormalization(4)(layer)\n",
        "layer=tf.keras.layers.Reshape(target_shape=((32, 256)))(layer)\n",
        "layer=Dense(32,activation=\"relu\")(layer)\n",
        "layer=Dropout(0.4)(layer)\n",
        "layer=Bidirectional(LSTM(100,return_sequences=True,dropout=0.5))(layer)\n",
        "layer=GroupNormalization(5)(layer)\n",
        "output_layer=Dense(len(char_tokens)+1,activation='softmax')(layer)"
      ],
      "metadata": {
        "id": "wCWNzuCYJcZo",
        "execution": {
          "iopub.status.busy": "2022-03-29T04:22:19.242629Z",
          "iopub.execute_input": "2022-03-29T04:22:19.242874Z",
          "iopub.status.idle": "2022-03-29T04:22:19.755944Z",
          "shell.execute_reply.started": "2022-03-29T04:22:19.242848Z",
          "shell.execute_reply": "2022-03-29T04:22:19.755245Z"
        },
        "trusted": true
      },
      "execution_count": 79,
      "outputs": []
    },
    {
      "cell_type": "code",
      "source": [
        "len(char_tokens)"
      ],
      "metadata": {
        "id": "wPI_ZAlNTN4b",
        "outputId": "19637833-0142-4f13-db7a-6690fbb9d1b9",
        "execution": {
          "iopub.status.busy": "2022-03-29T04:22:21.681509Z",
          "iopub.execute_input": "2022-03-29T04:22:21.682115Z",
          "iopub.status.idle": "2022-03-29T04:22:21.688202Z",
          "shell.execute_reply.started": "2022-03-29T04:22:21.682081Z",
          "shell.execute_reply": "2022-03-29T04:22:21.687475Z"
        },
        "trusted": true,
        "colab": {
          "base_uri": "https://localhost:8080/"
        }
      },
      "execution_count": 80,
      "outputs": [
        {
          "output_type": "execute_result",
          "data": {
            "text/plain": [
              "84"
            ]
          },
          "metadata": {},
          "execution_count": 80
        }
      ]
    },
    {
      "cell_type": "markdown",
      "source": [
        "8. The output sequence from the output layer will be fed to the CTC layer. "
      ],
      "metadata": {
        "id": "d4-27fv2UzdF"
      }
    },
    {
      "cell_type": "code",
      "source": [
        "labels = Input(name='label', shape=(max_length+1), dtype='float32')\n",
        "input_length = Input(name='input_length', shape=(1), dtype='int64')\n",
        "label_length = Input(name='label_length', shape=(1), dtype='int64')\n",
        "\n",
        "\n",
        "def ctc_lambda_func(args):\n",
        "  y_pred, labels, label_length,input_length = args\n",
        "  return k.ctc_batch_cost(labels, y_pred, input_length, label_length)\n",
        "loss = Lambda(ctc_lambda_func, output_shape=(1,), name='ctc')([output_layer, labels, label_length,input_length])"
      ],
      "metadata": {
        "id": "EIzypdiFHmrQ",
        "execution": {
          "iopub.status.busy": "2022-03-29T04:22:23.647412Z",
          "iopub.execute_input": "2022-03-29T04:22:23.647969Z",
          "iopub.status.idle": "2022-03-29T04:22:23.736950Z",
          "shell.execute_reply.started": "2022-03-29T04:22:23.647934Z",
          "shell.execute_reply": "2022-03-29T04:22:23.736285Z"
        },
        "trusted": true
      },
      "execution_count": 81,
      "outputs": []
    },
    {
      "cell_type": "code",
      "source": [
        "model = Model(inputs=[input_layer, labels, label_length,input_length], outputs=loss)\n",
        "model.summary()"
      ],
      "metadata": {
        "id": "Xxpe_eT9KO5n",
        "outputId": "e43db8fe-9bcd-45bf-c0d1-5211f72bb14c",
        "execution": {
          "iopub.status.busy": "2022-03-29T04:22:24.620077Z",
          "iopub.execute_input": "2022-03-29T04:22:24.620325Z",
          "iopub.status.idle": "2022-03-29T04:22:24.638928Z",
          "shell.execute_reply.started": "2022-03-29T04:22:24.620298Z",
          "shell.execute_reply": "2022-03-29T04:22:24.638280Z"
        },
        "trusted": true,
        "colab": {
          "base_uri": "https://localhost:8080/"
        }
      },
      "execution_count": 82,
      "outputs": [
        {
          "output_type": "stream",
          "name": "stdout",
          "text": [
            "Model: \"model\"\n",
            "__________________________________________________________________________________________________\n",
            " Layer (type)                   Output Shape         Param #     Connected to                     \n",
            "==================================================================================================\n",
            " input_1 (InputLayer)           [(None, 32, 128, 1)  0           []                               \n",
            "                                ]                                                                 \n",
            "                                                                                                  \n",
            " conv2d (Conv2D)                (None, 32, 128, 32)  320         ['input_1[0][0]']                \n",
            "                                                                                                  \n",
            " max_pooling2d (MaxPooling2D)   (None, 16, 64, 32)   0           ['conv2d[0][0]']                 \n",
            "                                                                                                  \n",
            " group_normalization (GroupNorm  (None, 16, 64, 32)  64          ['max_pooling2d[0][0]']          \n",
            " alization)                                                                                       \n",
            "                                                                                                  \n",
            " conv2d_1 (Conv2D)              (None, 16, 64, 32)   9248        ['group_normalization[0][0]']    \n",
            "                                                                                                  \n",
            " max_pooling2d_1 (MaxPooling2D)  (None, 8, 32, 32)   0           ['conv2d_1[0][0]']               \n",
            "                                                                                                  \n",
            " group_normalization_1 (GroupNo  (None, 8, 32, 32)   64          ['max_pooling2d_1[0][0]']        \n",
            " rmalization)                                                                                     \n",
            "                                                                                                  \n",
            " reshape (Reshape)              (None, 32, 256)      0           ['group_normalization_1[0][0]']  \n",
            "                                                                                                  \n",
            " dense (Dense)                  (None, 32, 32)       8224        ['reshape[0][0]']                \n",
            "                                                                                                  \n",
            " dropout (Dropout)              (None, 32, 32)       0           ['dense[0][0]']                  \n",
            "                                                                                                  \n",
            " bidirectional (Bidirectional)  (None, 32, 200)      106400      ['dropout[0][0]']                \n",
            "                                                                                                  \n",
            " group_normalization_2 (GroupNo  (None, 32, 200)     400         ['bidirectional[0][0]']          \n",
            " rmalization)                                                                                     \n",
            "                                                                                                  \n",
            " dense_1 (Dense)                (None, 32, 85)       17085       ['group_normalization_2[0][0]']  \n",
            "                                                                                                  \n",
            " label (InputLayer)             [(None, 17)]         0           []                               \n",
            "                                                                                                  \n",
            " label_length (InputLayer)      [(None, 1)]          0           []                               \n",
            "                                                                                                  \n",
            " input_length (InputLayer)      [(None, 1)]          0           []                               \n",
            "                                                                                                  \n",
            " ctc (Lambda)                   (None, 1)            0           ['dense_1[0][0]',                \n",
            "                                                                  'label[0][0]',                  \n",
            "                                                                  'label_length[0][0]',           \n",
            "                                                                  'input_length[0][0]']           \n",
            "                                                                                                  \n",
            "==================================================================================================\n",
            "Total params: 141,805\n",
            "Trainable params: 141,805\n",
            "Non-trainable params: 0\n",
            "__________________________________________________________________________________________________\n"
          ]
        }
      ]
    },
    {
      "cell_type": "code",
      "source": [
        "model.compile(loss={'ctc': lambda y_true, y_pred: y_pred}, optimizer =\"adam\")\n",
        "\n",
        "labels_train=np.zeros((y_train.shape[0],max_length+1))\n",
        "labels_test=np.zeros((y_test.shape[0],max_length+1))\n",
        "for i,_ in enumerate(y_train.padded_tokens):\n",
        "    temp=np.array( y_train.padded_tokens[i].split(\",\"))\n",
        "    labels_train[i, :] =temp\n",
        "    \n",
        "\n",
        "for i ,_ in enumerate(y_test.padded_tokens):\n",
        "    temp=np.array( y_test.padded_tokens[i].split(\",\"))\n",
        "    labels_test[i, :] =temp"
      ],
      "metadata": {
        "id": "E89U6kfRQtA5",
        "execution": {
          "iopub.status.busy": "2022-03-29T04:22:44.383020Z",
          "iopub.execute_input": "2022-03-29T04:22:44.383282Z",
          "iopub.status.idle": "2022-03-29T04:22:44.643192Z",
          "shell.execute_reply.started": "2022-03-29T04:22:44.383253Z",
          "shell.execute_reply": "2022-03-29T04:22:44.642504Z"
        },
        "trusted": true
      },
      "execution_count": 83,
      "outputs": []
    },
    {
      "cell_type": "code",
      "source": [
        "print(labels_train.shape)\n",
        "print(labels_train[0])\n",
        "print(y_train.padded_tokens[0])"
      ],
      "metadata": {
        "id": "iOakM7ANG8LJ",
        "outputId": "5affc415-6fa4-4617-d995-e650505894d1",
        "execution": {
          "iopub.status.busy": "2022-03-29T04:22:46.508847Z",
          "iopub.execute_input": "2022-03-29T04:22:46.509506Z",
          "iopub.status.idle": "2022-03-29T04:22:46.518469Z",
          "shell.execute_reply.started": "2022-03-29T04:22:46.509450Z",
          "shell.execute_reply": "2022-03-29T04:22:46.515235Z"
        },
        "trusted": true,
        "colab": {
          "base_uri": "https://localhost:8080/"
        }
      },
      "execution_count": 84,
      "outputs": [
        {
          "output_type": "stream",
          "name": "stdout",
          "text": [
            "(7999, 17)\n",
            "[26. 39. 29. 99. 99. 99. 99. 99. 99. 99. 99. 99. 99. 99. 99. 99. 99.]\n",
            "26,39,29,99,99,99,99,99,99,99,99,99,99,99,99,99,99\n"
          ]
        }
      ]
    },
    {
      "cell_type": "code",
      "source": [
        "class TextImageGenerator:\n",
        "    \n",
        "    def __init__(self, images,text_padded,\n",
        "                 img_w,\n",
        "                 img_h, \n",
        "                 batch_size, \n",
        "                 i_len,\n",
        "                 max_text_len\n",
        "                 ):\n",
        "        self.img_h = img_h\n",
        "        self.img_w = img_w\n",
        "        self.batch_size = batch_size\n",
        "        self.max_text_len = max_text_len\n",
        "        #self.samples = data\n",
        "        self.images=images\n",
        "        self.text_padded=text_padded\n",
        "        self.n = len(self.text_padded)\n",
        "        self.i_len = i_len\n",
        "        self.indexes = list(range(self.n))\n",
        "        self.cur_index = 0\n",
        "        \n",
        "    def build_data(self):\n",
        "        self.imgs = np.zeros((self.n, self.img_h, self.img_w,1))\n",
        "        self.texts = []\n",
        "        for i,  (text, img) in enumerate(zip(self.text_padded,self.images)):\n",
        "            self.imgs[i, :, :,:] = img\n",
        "            self.texts.append(text)\n",
        "    \n",
        "    def next_sample(self):\n",
        "        self.cur_index += 1\n",
        "        if self.cur_index >= self.n:\n",
        "            self.cur_index = 0\n",
        "            np.random.shuffle(self.indexes)\n",
        "        return self.imgs[self.indexes[self.cur_index]], self.texts[self.indexes[self.cur_index]]\n",
        "    \n",
        "    def next_batch(self):\n",
        "        while True:\n",
        "\n",
        "            # width and height are backwards from typical Keras convention\n",
        "            # because width is the time dimension when it gets fed into the RNN\n",
        "            X_data = np.zeros([self.batch_size, self.img_h, self.img_w, 1])\n",
        "            Y_data = np.zeros([self.batch_size, self.max_text_len])\n",
        "            input_length_i = np.ones((self.batch_size, 1)) * self.i_len\n",
        "            label_length_i = np.ones((self.batch_size, 1)) * self.max_text_len\n",
        "                                  \n",
        "            for i in range(self.batch_size):\n",
        "                img, text = self.next_sample()\n",
        "                X_data[i] = img\n",
        "                Y_data[i, :] = text\n",
        "            inputs = [X_data, Y_data, input_length_i, label_length_i]\n",
        "            outputs = np.zeros([self.batch_size])\n",
        "            yield (inputs, outputs)"
      ],
      "metadata": {
        "id": "H3aIYLGBywbu",
        "execution": {
          "iopub.status.busy": "2022-03-29T04:22:47.761715Z",
          "iopub.execute_input": "2022-03-29T04:22:47.762246Z",
          "iopub.status.idle": "2022-03-29T04:22:47.776148Z",
          "shell.execute_reply.started": "2022-03-29T04:22:47.762213Z",
          "shell.execute_reply": "2022-03-29T04:22:47.775510Z"
        },
        "trusted": true
      },
      "execution_count": 85,
      "outputs": []
    },
    {
      "cell_type": "code",
      "source": [
        "batch_size = 32\n",
        "input_length = len(char_tokens)+1\n",
        "img_w = 128\n",
        "img_h = 32\n",
        "train_data = TextImageGenerator(x_train_arr,labels_train, img_w, img_h, batch_size, input_length, max_length+1)\n",
        "train_data.build_data()"
      ],
      "metadata": {
        "id": "iiFLGahu0QkI",
        "execution": {
          "iopub.status.busy": "2022-03-29T04:22:48.619885Z",
          "iopub.execute_input": "2022-03-29T04:22:48.620401Z",
          "iopub.status.idle": "2022-03-29T04:22:48.790542Z",
          "shell.execute_reply.started": "2022-03-29T04:22:48.620366Z",
          "shell.execute_reply": "2022-03-29T04:22:48.789782Z"
        },
        "trusted": true
      },
      "execution_count": 86,
      "outputs": []
    },
    {
      "cell_type": "code",
      "source": [
        "max_length"
      ],
      "metadata": {
        "execution": {
          "iopub.status.busy": "2022-03-29T04:22:49.522746Z",
          "iopub.execute_input": "2022-03-29T04:22:49.523210Z",
          "iopub.status.idle": "2022-03-29T04:22:49.528570Z",
          "shell.execute_reply.started": "2022-03-29T04:22:49.523173Z",
          "shell.execute_reply": "2022-03-29T04:22:49.527890Z"
        },
        "trusted": true,
        "colab": {
          "base_uri": "https://localhost:8080/"
        },
        "id": "enmHGlrRBVS7",
        "outputId": "d1f69594-c7e7-45ed-fe3f-43e7f7fa86ea"
      },
      "execution_count": 87,
      "outputs": [
        {
          "output_type": "execute_result",
          "data": {
            "text/plain": [
              "16"
            ]
          },
          "metadata": {},
          "execution_count": 87
        }
      ]
    },
    {
      "cell_type": "code",
      "source": [
        "y_train[:9]"
      ],
      "metadata": {
        "execution": {
          "iopub.status.busy": "2022-03-29T04:22:50.477417Z",
          "iopub.execute_input": "2022-03-29T04:22:50.477773Z",
          "iopub.status.idle": "2022-03-29T04:22:50.490845Z",
          "shell.execute_reply.started": "2022-03-29T04:22:50.477737Z",
          "shell.execute_reply": "2022-03-29T04:22:50.490171Z"
        },
        "trusted": true,
        "colab": {
          "base_uri": "https://localhost:8080/",
          "height": 332
        },
        "id": "2XbC7JlPBVS7",
        "outputId": "5a56ecc7-d4da-4ac8-f1c5-24dacc99df21"
      },
      "execution_count": 88,
      "outputs": [
        {
          "output_type": "execute_result",
          "data": {
            "text/plain": [
              "   max_len                                      padded_tokens        text\n",
              "0        3  26,39,29,99,99,99,99,99,99,99,99,99,99,99,99,9...         and\n",
              "1        3  31,40,43,99,99,99,99,99,99,99,99,99,99,99,99,9...         for\n",
              "2       10  4,47,30,43,50,45,33,34,39,32,99,99,99,99,99,99,99  Everything\n",
              "3        7  18,30,39,26,45,40,43,99,99,99,99,99,99,99,99,9...     Senator\n",
              "4        3  45,33,30,99,99,99,99,99,99,99,99,99,99,99,99,9...         the\n",
              "5        9  31,34,39,26,39,28,34,39,32,99,99,99,99,99,99,9...   financing\n",
              "6        3  18,34,43,99,99,99,99,99,99,99,99,99,99,99,99,9...         Sir\n",
              "7        1  65,99,99,99,99,99,99,99,99,99,99,99,99,99,99,9...           .\n",
              "8        1  80,99,99,99,99,99,99,99,99,99,99,99,99,99,99,9...           -"
            ],
            "text/html": [
              "\n",
              "  <div id=\"df-a8676785-dc24-4281-9812-405c4c4a088c\">\n",
              "    <div class=\"colab-df-container\">\n",
              "      <div>\n",
              "<style scoped>\n",
              "    .dataframe tbody tr th:only-of-type {\n",
              "        vertical-align: middle;\n",
              "    }\n",
              "\n",
              "    .dataframe tbody tr th {\n",
              "        vertical-align: top;\n",
              "    }\n",
              "\n",
              "    .dataframe thead th {\n",
              "        text-align: right;\n",
              "    }\n",
              "</style>\n",
              "<table border=\"1\" class=\"dataframe\">\n",
              "  <thead>\n",
              "    <tr style=\"text-align: right;\">\n",
              "      <th></th>\n",
              "      <th>max_len</th>\n",
              "      <th>padded_tokens</th>\n",
              "      <th>text</th>\n",
              "    </tr>\n",
              "  </thead>\n",
              "  <tbody>\n",
              "    <tr>\n",
              "      <th>0</th>\n",
              "      <td>3</td>\n",
              "      <td>26,39,29,99,99,99,99,99,99,99,99,99,99,99,99,9...</td>\n",
              "      <td>and</td>\n",
              "    </tr>\n",
              "    <tr>\n",
              "      <th>1</th>\n",
              "      <td>3</td>\n",
              "      <td>31,40,43,99,99,99,99,99,99,99,99,99,99,99,99,9...</td>\n",
              "      <td>for</td>\n",
              "    </tr>\n",
              "    <tr>\n",
              "      <th>2</th>\n",
              "      <td>10</td>\n",
              "      <td>4,47,30,43,50,45,33,34,39,32,99,99,99,99,99,99,99</td>\n",
              "      <td>Everything</td>\n",
              "    </tr>\n",
              "    <tr>\n",
              "      <th>3</th>\n",
              "      <td>7</td>\n",
              "      <td>18,30,39,26,45,40,43,99,99,99,99,99,99,99,99,9...</td>\n",
              "      <td>Senator</td>\n",
              "    </tr>\n",
              "    <tr>\n",
              "      <th>4</th>\n",
              "      <td>3</td>\n",
              "      <td>45,33,30,99,99,99,99,99,99,99,99,99,99,99,99,9...</td>\n",
              "      <td>the</td>\n",
              "    </tr>\n",
              "    <tr>\n",
              "      <th>5</th>\n",
              "      <td>9</td>\n",
              "      <td>31,34,39,26,39,28,34,39,32,99,99,99,99,99,99,9...</td>\n",
              "      <td>financing</td>\n",
              "    </tr>\n",
              "    <tr>\n",
              "      <th>6</th>\n",
              "      <td>3</td>\n",
              "      <td>18,34,43,99,99,99,99,99,99,99,99,99,99,99,99,9...</td>\n",
              "      <td>Sir</td>\n",
              "    </tr>\n",
              "    <tr>\n",
              "      <th>7</th>\n",
              "      <td>1</td>\n",
              "      <td>65,99,99,99,99,99,99,99,99,99,99,99,99,99,99,9...</td>\n",
              "      <td>.</td>\n",
              "    </tr>\n",
              "    <tr>\n",
              "      <th>8</th>\n",
              "      <td>1</td>\n",
              "      <td>80,99,99,99,99,99,99,99,99,99,99,99,99,99,99,9...</td>\n",
              "      <td>-</td>\n",
              "    </tr>\n",
              "  </tbody>\n",
              "</table>\n",
              "</div>\n",
              "      <button class=\"colab-df-convert\" onclick=\"convertToInteractive('df-a8676785-dc24-4281-9812-405c4c4a088c')\"\n",
              "              title=\"Convert this dataframe to an interactive table.\"\n",
              "              style=\"display:none;\">\n",
              "        \n",
              "  <svg xmlns=\"http://www.w3.org/2000/svg\" height=\"24px\"viewBox=\"0 0 24 24\"\n",
              "       width=\"24px\">\n",
              "    <path d=\"M0 0h24v24H0V0z\" fill=\"none\"/>\n",
              "    <path d=\"M18.56 5.44l.94 2.06.94-2.06 2.06-.94-2.06-.94-.94-2.06-.94 2.06-2.06.94zm-11 1L8.5 8.5l.94-2.06 2.06-.94-2.06-.94L8.5 2.5l-.94 2.06-2.06.94zm10 10l.94 2.06.94-2.06 2.06-.94-2.06-.94-.94-2.06-.94 2.06-2.06.94z\"/><path d=\"M17.41 7.96l-1.37-1.37c-.4-.4-.92-.59-1.43-.59-.52 0-1.04.2-1.43.59L10.3 9.45l-7.72 7.72c-.78.78-.78 2.05 0 2.83L4 21.41c.39.39.9.59 1.41.59.51 0 1.02-.2 1.41-.59l7.78-7.78 2.81-2.81c.8-.78.8-2.07 0-2.86zM5.41 20L4 18.59l7.72-7.72 1.47 1.35L5.41 20z\"/>\n",
              "  </svg>\n",
              "      </button>\n",
              "      \n",
              "  <style>\n",
              "    .colab-df-container {\n",
              "      display:flex;\n",
              "      flex-wrap:wrap;\n",
              "      gap: 12px;\n",
              "    }\n",
              "\n",
              "    .colab-df-convert {\n",
              "      background-color: #E8F0FE;\n",
              "      border: none;\n",
              "      border-radius: 50%;\n",
              "      cursor: pointer;\n",
              "      display: none;\n",
              "      fill: #1967D2;\n",
              "      height: 32px;\n",
              "      padding: 0 0 0 0;\n",
              "      width: 32px;\n",
              "    }\n",
              "\n",
              "    .colab-df-convert:hover {\n",
              "      background-color: #E2EBFA;\n",
              "      box-shadow: 0px 1px 2px rgba(60, 64, 67, 0.3), 0px 1px 3px 1px rgba(60, 64, 67, 0.15);\n",
              "      fill: #174EA6;\n",
              "    }\n",
              "\n",
              "    [theme=dark] .colab-df-convert {\n",
              "      background-color: #3B4455;\n",
              "      fill: #D2E3FC;\n",
              "    }\n",
              "\n",
              "    [theme=dark] .colab-df-convert:hover {\n",
              "      background-color: #434B5C;\n",
              "      box-shadow: 0px 1px 3px 1px rgba(0, 0, 0, 0.15);\n",
              "      filter: drop-shadow(0px 1px 2px rgba(0, 0, 0, 0.3));\n",
              "      fill: #FFFFFF;\n",
              "    }\n",
              "  </style>\n",
              "\n",
              "      <script>\n",
              "        const buttonEl =\n",
              "          document.querySelector('#df-a8676785-dc24-4281-9812-405c4c4a088c button.colab-df-convert');\n",
              "        buttonEl.style.display =\n",
              "          google.colab.kernel.accessAllowed ? 'block' : 'none';\n",
              "\n",
              "        async function convertToInteractive(key) {\n",
              "          const element = document.querySelector('#df-a8676785-dc24-4281-9812-405c4c4a088c');\n",
              "          const dataTable =\n",
              "            await google.colab.kernel.invokeFunction('convertToInteractive',\n",
              "                                                     [key], {});\n",
              "          if (!dataTable) return;\n",
              "\n",
              "          const docLinkHtml = 'Like what you see? Visit the ' +\n",
              "            '<a target=\"_blank\" href=https://colab.research.google.com/notebooks/data_table.ipynb>data table notebook</a>'\n",
              "            + ' to learn more about interactive tables.';\n",
              "          element.innerHTML = '';\n",
              "          dataTable['output_type'] = 'display_data';\n",
              "          await google.colab.output.renderOutput(dataTable, element);\n",
              "          const docLink = document.createElement('div');\n",
              "          docLink.innerHTML = docLinkHtml;\n",
              "          element.appendChild(docLink);\n",
              "        }\n",
              "      </script>\n",
              "    </div>\n",
              "  </div>\n",
              "  "
            ]
          },
          "metadata": {},
          "execution_count": 88
        }
      ]
    },
    {
      "cell_type": "code",
      "source": [
        "labels_train[8]"
      ],
      "metadata": {
        "execution": {
          "iopub.status.busy": "2022-03-29T04:22:51.170796Z",
          "iopub.execute_input": "2022-03-29T04:22:51.171071Z",
          "iopub.status.idle": "2022-03-29T04:22:51.177118Z",
          "shell.execute_reply.started": "2022-03-29T04:22:51.171043Z",
          "shell.execute_reply": "2022-03-29T04:22:51.176359Z"
        },
        "trusted": true,
        "colab": {
          "base_uri": "https://localhost:8080/"
        },
        "id": "p1BOgDvPBVS7",
        "outputId": "f7aa389b-794e-47f1-a77e-3418ce741ccc"
      },
      "execution_count": 89,
      "outputs": [
        {
          "output_type": "execute_result",
          "data": {
            "text/plain": [
              "array([80., 99., 99., 99., 99., 99., 99., 99., 99., 99., 99., 99., 99.,\n",
              "       99., 99., 99., 99.])"
            ]
          },
          "metadata": {},
          "execution_count": 89
        }
      ]
    },
    {
      "cell_type": "code",
      "source": [
        "train_data.n"
      ],
      "metadata": {
        "id": "T-EPd7Ql6kIq",
        "outputId": "5c08981e-9297-437a-d7a2-c39c43616741",
        "execution": {
          "iopub.status.busy": "2022-03-29T04:22:52.008236Z",
          "iopub.execute_input": "2022-03-29T04:22:52.009081Z",
          "iopub.status.idle": "2022-03-29T04:22:52.014452Z",
          "shell.execute_reply.started": "2022-03-29T04:22:52.009032Z",
          "shell.execute_reply": "2022-03-29T04:22:52.013731Z"
        },
        "trusted": true,
        "colab": {
          "base_uri": "https://localhost:8080/"
        }
      },
      "execution_count": 90,
      "outputs": [
        {
          "output_type": "execute_result",
          "data": {
            "text/plain": [
              "7999"
            ]
          },
          "metadata": {},
          "execution_count": 90
        }
      ]
    },
    {
      "cell_type": "code",
      "source": [
        "val_data = TextImageGenerator(x_test_arr,labels_test, img_w, img_h, batch_size, input_length, max_length+1)\n",
        "val_data.build_data()"
      ],
      "metadata": {
        "id": "68eBIyFy6ue2",
        "execution": {
          "iopub.status.busy": "2022-03-29T04:22:52.842216Z",
          "iopub.execute_input": "2022-03-29T04:22:52.843023Z",
          "iopub.status.idle": "2022-03-29T04:22:52.870076Z",
          "shell.execute_reply.started": "2022-03-29T04:22:52.842977Z",
          "shell.execute_reply": "2022-03-29T04:22:52.869261Z"
        },
        "trusted": true
      },
      "execution_count": 91,
      "outputs": []
    },
    {
      "cell_type": "code",
      "source": [
        "y_train.padded_tokens[0]"
      ],
      "metadata": {
        "id": "hHz45GAzERt8",
        "outputId": "8b61d4ed-4518-45b8-bbf6-2cbd4c22a2f0",
        "execution": {
          "iopub.status.busy": "2022-03-29T04:22:53.989960Z",
          "iopub.execute_input": "2022-03-29T04:22:53.990609Z",
          "iopub.status.idle": "2022-03-29T04:22:53.996470Z",
          "shell.execute_reply.started": "2022-03-29T04:22:53.990571Z",
          "shell.execute_reply": "2022-03-29T04:22:53.995545Z"
        },
        "trusted": true,
        "colab": {
          "base_uri": "https://localhost:8080/",
          "height": 35
        }
      },
      "execution_count": 92,
      "outputs": [
        {
          "output_type": "execute_result",
          "data": {
            "text/plain": [
              "'26,39,29,99,99,99,99,99,99,99,99,99,99,99,99,99,99'"
            ],
            "application/vnd.google.colaboratory.intrinsic+json": {
              "type": "string"
            }
          },
          "metadata": {},
          "execution_count": 92
        }
      ]
    },
    {
      "cell_type": "code",
      "source": [
        ""
      ],
      "metadata": {
        "id": "lRVRFqq1BmSf",
        "trusted": true
      },
      "execution_count": 92,
      "outputs": []
    },
    {
      "cell_type": "code",
      "source": [
        ""
      ],
      "metadata": {
        "trusted": true,
        "id": "6IQiypbyBVS8"
      },
      "execution_count": 92,
      "outputs": []
    },
    {
      "cell_type": "code",
      "source": [
        "from tensorflow.keras.callbacks import Callback\n",
        "from tensorflow.keras.callbacks import EarlyStopping\n",
        "\n",
        "earlystop = EarlyStopping(monitor='val_loss', min_delta=0.0001, patience=10, verbose=0, mode='min')\n",
        "history=model.fit(train_data.next_batch(),epochs=100,steps_per_epoch=train_data.n/batch_size,\n",
        "                  validation_data=val_data.next_batch(),\n",
        "                  validation_steps=val_data.n/batch_size, callbacks=[earlystop])        "
      ],
      "metadata": {
        "id": "SnL7vd5XOpBE",
        "outputId": "82a9aee8-27d0-4fbf-c168-147a56cc0238",
        "execution": {
          "iopub.status.busy": "2022-03-29T04:22:57.057061Z",
          "iopub.execute_input": "2022-03-29T04:22:57.057754Z",
          "iopub.status.idle": "2022-03-29T04:33:16.833301Z",
          "shell.execute_reply.started": "2022-03-29T04:22:57.057712Z",
          "shell.execute_reply": "2022-03-29T04:33:16.832644Z"
        },
        "trusted": true,
        "colab": {
          "base_uri": "https://localhost:8080/"
        }
      },
      "execution_count": 93,
      "outputs": [
        {
          "output_type": "stream",
          "name": "stdout",
          "text": [
            "Epoch 1/100\n",
            "249/249 [==============================] - 42s 101ms/step - loss: 16.5280 - val_loss: 15.5578\n",
            "Epoch 2/100\n",
            "249/249 [==============================] - 18s 71ms/step - loss: 14.7548 - val_loss: 14.4796\n",
            "Epoch 3/100\n",
            "249/249 [==============================] - 18s 71ms/step - loss: 14.0016 - val_loss: 13.7748\n",
            "Epoch 4/100\n",
            "249/249 [==============================] - 17s 70ms/step - loss: 13.3103 - val_loss: 12.7242\n",
            "Epoch 5/100\n",
            "249/249 [==============================] - 20s 80ms/step - loss: 12.6906 - val_loss: 12.3868\n",
            "Epoch 6/100\n",
            "249/249 [==============================] - 18s 72ms/step - loss: 12.2519 - val_loss: 12.3436\n",
            "Epoch 7/100\n",
            "249/249 [==============================] - 18s 71ms/step - loss: 11.7377 - val_loss: 11.3116\n",
            "Epoch 8/100\n",
            "249/249 [==============================] - 18s 71ms/step - loss: 11.4223 - val_loss: 11.1774\n",
            "Epoch 9/100\n",
            "249/249 [==============================] - 18s 72ms/step - loss: 11.0820 - val_loss: 10.9919\n",
            "Epoch 10/100\n",
            "249/249 [==============================] - 19s 75ms/step - loss: 10.8459 - val_loss: 10.5128\n",
            "Epoch 11/100\n",
            "249/249 [==============================] - 18s 72ms/step - loss: 10.6181 - val_loss: 10.4838\n",
            "Epoch 12/100\n",
            "249/249 [==============================] - 18s 71ms/step - loss: 10.3871 - val_loss: 10.7753\n",
            "Epoch 13/100\n",
            "249/249 [==============================] - 18s 72ms/step - loss: 10.2257 - val_loss: 10.1251\n",
            "Epoch 14/100\n",
            "249/249 [==============================] - 18s 72ms/step - loss: 9.9956 - val_loss: 9.8818\n",
            "Epoch 15/100\n",
            "249/249 [==============================] - 18s 72ms/step - loss: 9.8374 - val_loss: 10.2212\n",
            "Epoch 16/100\n",
            "249/249 [==============================] - 18s 72ms/step - loss: 9.7487 - val_loss: 10.0331\n",
            "Epoch 17/100\n",
            "249/249 [==============================] - 18s 71ms/step - loss: 9.5709 - val_loss: 9.5355\n",
            "Epoch 18/100\n",
            "249/249 [==============================] - 18s 71ms/step - loss: 9.4766 - val_loss: 9.4663\n",
            "Epoch 19/100\n",
            "249/249 [==============================] - 18s 71ms/step - loss: 9.3127 - val_loss: 9.5733\n",
            "Epoch 20/100\n",
            "249/249 [==============================] - 18s 71ms/step - loss: 9.2661 - val_loss: 9.0936\n",
            "Epoch 21/100\n",
            "249/249 [==============================] - 18s 71ms/step - loss: 9.1210 - val_loss: 9.1082\n",
            "Epoch 22/100\n",
            "249/249 [==============================] - 18s 72ms/step - loss: 9.0111 - val_loss: 9.3717\n",
            "Epoch 23/100\n",
            "249/249 [==============================] - 18s 71ms/step - loss: 8.8916 - val_loss: 8.9817\n",
            "Epoch 24/100\n",
            "249/249 [==============================] - 19s 76ms/step - loss: 8.8021 - val_loss: 9.1990\n",
            "Epoch 25/100\n",
            "249/249 [==============================] - 18s 72ms/step - loss: 8.7411 - val_loss: 9.0488\n",
            "Epoch 26/100\n",
            "249/249 [==============================] - 18s 72ms/step - loss: 8.6006 - val_loss: 9.1091\n",
            "Epoch 27/100\n",
            "249/249 [==============================] - 18s 71ms/step - loss: 8.5134 - val_loss: 8.9412\n",
            "Epoch 28/100\n",
            "249/249 [==============================] - 17s 69ms/step - loss: 8.4859 - val_loss: 8.5239\n",
            "Epoch 29/100\n",
            "249/249 [==============================] - 17s 69ms/step - loss: 8.3526 - val_loss: 8.8924\n",
            "Epoch 30/100\n",
            "249/249 [==============================] - 17s 70ms/step - loss: 8.3334 - val_loss: 8.6191\n",
            "Epoch 31/100\n",
            "249/249 [==============================] - 17s 69ms/step - loss: 8.2656 - val_loss: 8.7196\n",
            "Epoch 32/100\n",
            "249/249 [==============================] - 17s 70ms/step - loss: 8.2060 - val_loss: 8.5879\n",
            "Epoch 33/100\n",
            "249/249 [==============================] - 17s 69ms/step - loss: 8.0581 - val_loss: 8.5886\n",
            "Epoch 34/100\n",
            "249/249 [==============================] - 17s 70ms/step - loss: 8.0363 - val_loss: 8.1916\n",
            "Epoch 35/100\n",
            "249/249 [==============================] - 17s 70ms/step - loss: 7.9193 - val_loss: 8.7115\n",
            "Epoch 36/100\n",
            "249/249 [==============================] - 17s 70ms/step - loss: 7.8402 - val_loss: 8.5535\n",
            "Epoch 37/100\n",
            "249/249 [==============================] - 17s 70ms/step - loss: 7.8606 - val_loss: 8.5411\n",
            "Epoch 38/100\n",
            "249/249 [==============================] - 17s 70ms/step - loss: 7.7254 - val_loss: 8.5559\n",
            "Epoch 39/100\n",
            "249/249 [==============================] - 18s 70ms/step - loss: 7.7162 - val_loss: 8.2342\n",
            "Epoch 40/100\n",
            "249/249 [==============================] - 18s 70ms/step - loss: 7.6233 - val_loss: 8.2358\n",
            "Epoch 41/100\n",
            "249/249 [==============================] - 17s 70ms/step - loss: 7.5673 - val_loss: 8.3327\n",
            "Epoch 42/100\n",
            "249/249 [==============================] - 18s 70ms/step - loss: 7.4965 - val_loss: 8.0981\n",
            "Epoch 43/100\n",
            "249/249 [==============================] - 17s 69ms/step - loss: 7.4751 - val_loss: 8.1816\n",
            "Epoch 44/100\n",
            "249/249 [==============================] - 17s 69ms/step - loss: 7.4554 - val_loss: 8.2271\n",
            "Epoch 45/100\n",
            "249/249 [==============================] - 17s 69ms/step - loss: 7.4448 - val_loss: 8.2839\n",
            "Epoch 46/100\n",
            "249/249 [==============================] - 18s 71ms/step - loss: 7.3616 - val_loss: 7.9069\n",
            "Epoch 47/100\n",
            "249/249 [==============================] - 17s 69ms/step - loss: 7.1998 - val_loss: 8.0731\n",
            "Epoch 48/100\n",
            "249/249 [==============================] - 17s 69ms/step - loss: 7.2288 - val_loss: 7.9102\n",
            "Epoch 49/100\n",
            "249/249 [==============================] - 17s 69ms/step - loss: 7.1379 - val_loss: 8.0231\n",
            "Epoch 50/100\n",
            "249/249 [==============================] - 18s 72ms/step - loss: 7.1315 - val_loss: 7.9174\n",
            "Epoch 51/100\n",
            "249/249 [==============================] - 18s 71ms/step - loss: 7.0536 - val_loss: 7.7934\n",
            "Epoch 52/100\n",
            "249/249 [==============================] - 18s 71ms/step - loss: 7.0365 - val_loss: 7.9462\n",
            "Epoch 53/100\n",
            "249/249 [==============================] - 17s 70ms/step - loss: 7.0536 - val_loss: 8.0103\n",
            "Epoch 54/100\n",
            "249/249 [==============================] - 17s 70ms/step - loss: 6.9686 - val_loss: 7.8159\n",
            "Epoch 55/100\n",
            "249/249 [==============================] - 17s 69ms/step - loss: 6.8511 - val_loss: 8.0268\n",
            "Epoch 56/100\n",
            "249/249 [==============================] - 17s 69ms/step - loss: 6.8849 - val_loss: 7.9564\n",
            "Epoch 57/100\n",
            "249/249 [==============================] - 17s 69ms/step - loss: 6.8244 - val_loss: 8.1330\n",
            "Epoch 58/100\n",
            "249/249 [==============================] - 17s 69ms/step - loss: 6.8040 - val_loss: 7.7198\n",
            "Epoch 59/100\n",
            "249/249 [==============================] - 17s 69ms/step - loss: 6.7629 - val_loss: 8.1653\n",
            "Epoch 60/100\n",
            "249/249 [==============================] - 17s 70ms/step - loss: 6.7450 - val_loss: 7.7726\n",
            "Epoch 61/100\n",
            "249/249 [==============================] - 17s 70ms/step - loss: 6.6500 - val_loss: 8.3236\n",
            "Epoch 62/100\n",
            "249/249 [==============================] - 17s 69ms/step - loss: 6.6498 - val_loss: 7.7122\n",
            "Epoch 63/100\n",
            "249/249 [==============================] - 18s 70ms/step - loss: 6.6188 - val_loss: 7.5635\n",
            "Epoch 64/100\n",
            "249/249 [==============================] - 17s 69ms/step - loss: 6.4933 - val_loss: 7.8785\n",
            "Epoch 65/100\n",
            "249/249 [==============================] - 17s 70ms/step - loss: 6.5819 - val_loss: 7.8639\n",
            "Epoch 66/100\n",
            "249/249 [==============================] - 17s 70ms/step - loss: 6.5147 - val_loss: 7.4945\n",
            "Epoch 67/100\n",
            "249/249 [==============================] - 17s 69ms/step - loss: 6.4630 - val_loss: 7.8019\n",
            "Epoch 68/100\n",
            "249/249 [==============================] - 17s 69ms/step - loss: 6.3918 - val_loss: 7.6180\n",
            "Epoch 69/100\n",
            "249/249 [==============================] - 17s 69ms/step - loss: 6.4347 - val_loss: 7.9210\n",
            "Epoch 70/100\n",
            "249/249 [==============================] - 17s 69ms/step - loss: 6.3618 - val_loss: 7.7096\n",
            "Epoch 71/100\n",
            "249/249 [==============================] - 18s 70ms/step - loss: 6.3559 - val_loss: 7.6328\n",
            "Epoch 72/100\n",
            "249/249 [==============================] - 17s 70ms/step - loss: 6.2862 - val_loss: 7.7569\n",
            "Epoch 73/100\n",
            "249/249 [==============================] - 18s 72ms/step - loss: 6.2793 - val_loss: 7.6934\n",
            "Epoch 74/100\n",
            "249/249 [==============================] - 18s 72ms/step - loss: 6.2727 - val_loss: 7.8156\n",
            "Epoch 75/100\n",
            "249/249 [==============================] - 18s 73ms/step - loss: 6.2157 - val_loss: 7.6609\n",
            "Epoch 76/100\n",
            "249/249 [==============================] - 18s 73ms/step - loss: 6.1744 - val_loss: 7.8448\n"
          ]
        }
      ]
    },
    {
      "cell_type": "code",
      "source": [
        "model.save(\"/content/model1.h5\",overwrite=True,include_optimizer=True) "
      ],
      "metadata": {
        "id": "NAvRwk1Im-TU",
        "execution": {
          "iopub.status.busy": "2022-03-29T04:37:07.952767Z",
          "iopub.execute_input": "2022-03-29T04:37:07.953167Z",
          "iopub.status.idle": "2022-03-29T04:37:22.303278Z",
          "shell.execute_reply.started": "2022-03-29T04:37:07.953134Z",
          "shell.execute_reply": "2022-03-29T04:37:22.302531Z"
        },
        "trusted": true
      },
      "execution_count": 94,
      "outputs": []
    },
    {
      "cell_type": "code",
      "source": [
        "test_arr=x_final_test_arr"
      ],
      "metadata": {
        "id": "RV6Uaw8qA0V2",
        "execution": {
          "iopub.status.busy": "2022-03-29T04:39:16.313226Z",
          "iopub.execute_input": "2022-03-29T04:39:16.313477Z",
          "iopub.status.idle": "2022-03-29T04:39:16.317795Z",
          "shell.execute_reply.started": "2022-03-29T04:39:16.313450Z",
          "shell.execute_reply": "2022-03-29T04:39:16.317019Z"
        },
        "trusted": true
      },
      "execution_count": 95,
      "outputs": []
    },
    {
      "cell_type": "code",
      "source": [
        "test_arr=np.array(test_arr)"
      ],
      "metadata": {
        "id": "PIAm91njGPbG",
        "execution": {
          "iopub.status.busy": "2022-03-29T04:39:17.881923Z",
          "iopub.execute_input": "2022-03-29T04:39:17.882445Z",
          "iopub.status.idle": "2022-03-29T04:39:17.891324Z",
          "shell.execute_reply.started": "2022-03-29T04:39:17.882409Z",
          "shell.execute_reply": "2022-03-29T04:39:17.890456Z"
        },
        "trusted": true
      },
      "execution_count": 96,
      "outputs": []
    },
    {
      "cell_type": "code",
      "source": [
        "test_arr.shape"
      ],
      "metadata": {
        "execution": {
          "iopub.status.busy": "2022-03-29T04:39:19.108686Z",
          "iopub.execute_input": "2022-03-29T04:39:19.108922Z",
          "iopub.status.idle": "2022-03-29T04:39:19.115360Z",
          "shell.execute_reply.started": "2022-03-29T04:39:19.108896Z",
          "shell.execute_reply": "2022-03-29T04:39:19.114544Z"
        },
        "trusted": true,
        "colab": {
          "base_uri": "https://localhost:8080/"
        },
        "id": "xDLGyWpFBVS-",
        "outputId": "73e3d06a-4c0d-472a-d631-990f92e46c46"
      },
      "execution_count": 97,
      "outputs": [
        {
          "output_type": "execute_result",
          "data": {
            "text/plain": [
              "(1000, 32, 128, 1)"
            ]
          },
          "metadata": {},
          "execution_count": 97
        }
      ]
    },
    {
      "cell_type": "code",
      "source": [
        "model2=Model(inputs=[input_layer],outputs=[output_layer])\n",
        "model2.summary()"
      ],
      "metadata": {
        "id": "rzP6GxFPJCcE",
        "outputId": "9dc6af79-aecc-46ef-8e69-316b926af11b",
        "execution": {
          "iopub.status.busy": "2022-03-29T04:39:25.269111Z",
          "iopub.execute_input": "2022-03-29T04:39:25.269433Z",
          "iopub.status.idle": "2022-03-29T04:39:25.290579Z",
          "shell.execute_reply.started": "2022-03-29T04:39:25.269395Z",
          "shell.execute_reply": "2022-03-29T04:39:25.289734Z"
        },
        "trusted": true,
        "colab": {
          "base_uri": "https://localhost:8080/"
        }
      },
      "execution_count": 98,
      "outputs": [
        {
          "output_type": "stream",
          "name": "stdout",
          "text": [
            "Model: \"model_1\"\n",
            "_________________________________________________________________\n",
            " Layer (type)                Output Shape              Param #   \n",
            "=================================================================\n",
            " input_1 (InputLayer)        [(None, 32, 128, 1)]      0         \n",
            "                                                                 \n",
            " conv2d (Conv2D)             (None, 32, 128, 32)       320       \n",
            "                                                                 \n",
            " max_pooling2d (MaxPooling2D  (None, 16, 64, 32)       0         \n",
            " )                                                               \n",
            "                                                                 \n",
            " group_normalization (GroupN  (None, 16, 64, 32)       64        \n",
            " ormalization)                                                   \n",
            "                                                                 \n",
            " conv2d_1 (Conv2D)           (None, 16, 64, 32)        9248      \n",
            "                                                                 \n",
            " max_pooling2d_1 (MaxPooling  (None, 8, 32, 32)        0         \n",
            " 2D)                                                             \n",
            "                                                                 \n",
            " group_normalization_1 (Grou  (None, 8, 32, 32)        64        \n",
            " pNormalization)                                                 \n",
            "                                                                 \n",
            " reshape (Reshape)           (None, 32, 256)           0         \n",
            "                                                                 \n",
            " dense (Dense)               (None, 32, 32)            8224      \n",
            "                                                                 \n",
            " dropout (Dropout)           (None, 32, 32)            0         \n",
            "                                                                 \n",
            " bidirectional (Bidirectiona  (None, 32, 200)          106400    \n",
            " l)                                                              \n",
            "                                                                 \n",
            " group_normalization_2 (Grou  (None, 32, 200)          400       \n",
            " pNormalization)                                                 \n",
            "                                                                 \n",
            " dense_1 (Dense)             (None, 32, 85)            17085     \n",
            "                                                                 \n",
            "=================================================================\n",
            "Total params: 141,805\n",
            "Trainable params: 141,805\n",
            "Non-trainable params: 0\n",
            "_________________________________________________________________\n"
          ]
        }
      ]
    },
    {
      "cell_type": "code",
      "source": [
        "test_arr.shape"
      ],
      "metadata": {
        "id": "1FEUSFx1LRjC",
        "outputId": "2b0482c4-635f-4fa9-e207-b576364496e1",
        "execution": {
          "iopub.status.busy": "2022-03-29T04:39:30.075125Z",
          "iopub.execute_input": "2022-03-29T04:39:30.075385Z",
          "iopub.status.idle": "2022-03-29T04:39:30.081770Z",
          "shell.execute_reply.started": "2022-03-29T04:39:30.075357Z",
          "shell.execute_reply": "2022-03-29T04:39:30.079603Z"
        },
        "trusted": true,
        "colab": {
          "base_uri": "https://localhost:8080/"
        }
      },
      "execution_count": 99,
      "outputs": [
        {
          "output_type": "execute_result",
          "data": {
            "text/plain": [
              "(1000, 32, 128, 1)"
            ]
          },
          "metadata": {},
          "execution_count": 99
        }
      ]
    },
    {
      "cell_type": "code",
      "source": [
        "model2.load_weights(\"/content/model1.h5\")"
      ],
      "metadata": {
        "id": "DoDsHMnXJXHr",
        "execution": {
          "iopub.status.busy": "2022-03-29T04:39:52.285680Z",
          "iopub.execute_input": "2022-03-29T04:39:52.285947Z",
          "iopub.status.idle": "2022-03-29T04:39:52.313036Z",
          "shell.execute_reply.started": "2022-03-29T04:39:52.285919Z",
          "shell.execute_reply": "2022-03-29T04:39:52.312337Z"
        },
        "trusted": true
      },
      "execution_count": 101,
      "outputs": []
    },
    {
      "cell_type": "code",
      "source": [
        "prediction=model2.predict(x=test_arr,verbose=1)"
      ],
      "metadata": {
        "id": "HzbfUsVdWsAM",
        "outputId": "9be3bac2-4bbf-4afb-eaef-ad9f18f52429",
        "execution": {
          "iopub.status.busy": "2022-03-29T04:39:57.283437Z",
          "iopub.execute_input": "2022-03-29T04:39:57.283712Z",
          "iopub.status.idle": "2022-03-29T04:39:58.203619Z",
          "shell.execute_reply.started": "2022-03-29T04:39:57.283677Z",
          "shell.execute_reply": "2022-03-29T04:39:58.202917Z"
        },
        "trusted": true,
        "colab": {
          "base_uri": "https://localhost:8080/"
        }
      },
      "execution_count": 104,
      "outputs": [
        {
          "output_type": "stream",
          "name": "stdout",
          "text": [
            "32/32 [==============================] - 2s 17ms/step\n"
          ]
        }
      ]
    },
    {
      "cell_type": "code",
      "source": [
        "prediction.shape"
      ],
      "metadata": {
        "id": "ESdD_PznBbFC",
        "outputId": "a217859c-2670-4cdf-dbea-46d5999d9217",
        "execution": {
          "iopub.status.busy": "2022-03-29T04:40:01.042675Z",
          "iopub.execute_input": "2022-03-29T04:40:01.043373Z",
          "iopub.status.idle": "2022-03-29T04:40:01.048688Z",
          "shell.execute_reply.started": "2022-03-29T04:40:01.043336Z",
          "shell.execute_reply": "2022-03-29T04:40:01.047924Z"
        },
        "trusted": true,
        "colab": {
          "base_uri": "https://localhost:8080/"
        }
      },
      "execution_count": 105,
      "outputs": [
        {
          "output_type": "execute_result",
          "data": {
            "text/plain": [
              "(1000, 32, 85)"
            ]
          },
          "metadata": {},
          "execution_count": 105
        }
      ]
    },
    {
      "cell_type": "code",
      "source": [
        "# use CTC decoder\n",
        "decoded = k.ctc_decode(prediction,input_length=np.ones(prediction.shape[0]) * prediction.shape[1],greedy=True)[0][0]\n",
        "output = k.get_value(decoded) \n"
      ],
      "metadata": {
        "id": "M4vHTWcwWbOJ",
        "execution": {
          "iopub.status.busy": "2022-03-29T04:40:04.535213Z",
          "iopub.execute_input": "2022-03-29T04:40:04.535458Z",
          "iopub.status.idle": "2022-03-29T04:40:04.567981Z",
          "shell.execute_reply.started": "2022-03-29T04:40:04.535431Z",
          "shell.execute_reply": "2022-03-29T04:40:04.567341Z"
        },
        "trusted": true
      },
      "execution_count": 106,
      "outputs": []
    },
    {
      "cell_type": "code",
      "source": [
        "print(output.shape)\n",
        "print(output[0])"
      ],
      "metadata": {
        "id": "yRDAhRt-YKm9",
        "outputId": "96a1f066-6686-4b56-a576-b2d40ea64aa2",
        "execution": {
          "iopub.status.busy": "2022-03-29T04:41:05.248633Z",
          "iopub.execute_input": "2022-03-29T04:41:05.248890Z",
          "iopub.status.idle": "2022-03-29T04:41:05.254140Z",
          "shell.execute_reply.started": "2022-03-29T04:41:05.248862Z",
          "shell.execute_reply": "2022-03-29T04:41:05.253251Z"
        },
        "trusted": true,
        "colab": {
          "base_uri": "https://localhost:8080/"
        }
      },
      "execution_count": 107,
      "outputs": [
        {
          "output_type": "stream",
          "name": "stdout",
          "text": [
            "(1000, 32)\n",
            "[29 45 12 45 65 30 -1 -1 -1 -1 -1 -1 -1 -1 -1 -1 -1 -1 -1 -1 -1 -1 -1 -1\n",
            " -1 -1 -1 -1 -1 -1 -1 -1]\n"
          ]
        }
      ]
    },
    {
      "cell_type": "code",
      "source": [
        "y_final_test.head(2)"
      ],
      "metadata": {
        "execution": {
          "iopub.status.busy": "2022-03-29T04:41:21.212030Z",
          "iopub.execute_input": "2022-03-29T04:41:21.212348Z",
          "iopub.status.idle": "2022-03-29T04:41:21.229840Z",
          "shell.execute_reply.started": "2022-03-29T04:41:21.212313Z",
          "shell.execute_reply": "2022-03-29T04:41:21.229206Z"
        },
        "trusted": true,
        "colab": {
          "base_uri": "https://localhost:8080/",
          "height": 112
        },
        "id": "cHeNQf_IBVTA",
        "outputId": "6835921c-c595-475b-82e7-469a725ca160"
      },
      "execution_count": 108,
      "outputs": [
        {
          "output_type": "execute_result",
          "data": {
            "text/plain": [
              "   max_len                                      padded_tokens  text\n",
              "0        4  29,30,26,37,99,99,99,99,99,99,99,99,99,99,99,9...  deal\n",
              "1        1  65,99,99,99,99,99,99,99,99,99,99,99,99,99,99,9...     ."
            ],
            "text/html": [
              "\n",
              "  <div id=\"df-a4c3ebe4-f4f2-41c7-9205-c533d7397dbf\">\n",
              "    <div class=\"colab-df-container\">\n",
              "      <div>\n",
              "<style scoped>\n",
              "    .dataframe tbody tr th:only-of-type {\n",
              "        vertical-align: middle;\n",
              "    }\n",
              "\n",
              "    .dataframe tbody tr th {\n",
              "        vertical-align: top;\n",
              "    }\n",
              "\n",
              "    .dataframe thead th {\n",
              "        text-align: right;\n",
              "    }\n",
              "</style>\n",
              "<table border=\"1\" class=\"dataframe\">\n",
              "  <thead>\n",
              "    <tr style=\"text-align: right;\">\n",
              "      <th></th>\n",
              "      <th>max_len</th>\n",
              "      <th>padded_tokens</th>\n",
              "      <th>text</th>\n",
              "    </tr>\n",
              "  </thead>\n",
              "  <tbody>\n",
              "    <tr>\n",
              "      <th>0</th>\n",
              "      <td>4</td>\n",
              "      <td>29,30,26,37,99,99,99,99,99,99,99,99,99,99,99,9...</td>\n",
              "      <td>deal</td>\n",
              "    </tr>\n",
              "    <tr>\n",
              "      <th>1</th>\n",
              "      <td>1</td>\n",
              "      <td>65,99,99,99,99,99,99,99,99,99,99,99,99,99,99,9...</td>\n",
              "      <td>.</td>\n",
              "    </tr>\n",
              "  </tbody>\n",
              "</table>\n",
              "</div>\n",
              "      <button class=\"colab-df-convert\" onclick=\"convertToInteractive('df-a4c3ebe4-f4f2-41c7-9205-c533d7397dbf')\"\n",
              "              title=\"Convert this dataframe to an interactive table.\"\n",
              "              style=\"display:none;\">\n",
              "        \n",
              "  <svg xmlns=\"http://www.w3.org/2000/svg\" height=\"24px\"viewBox=\"0 0 24 24\"\n",
              "       width=\"24px\">\n",
              "    <path d=\"M0 0h24v24H0V0z\" fill=\"none\"/>\n",
              "    <path d=\"M18.56 5.44l.94 2.06.94-2.06 2.06-.94-2.06-.94-.94-2.06-.94 2.06-2.06.94zm-11 1L8.5 8.5l.94-2.06 2.06-.94-2.06-.94L8.5 2.5l-.94 2.06-2.06.94zm10 10l.94 2.06.94-2.06 2.06-.94-2.06-.94-.94-2.06-.94 2.06-2.06.94z\"/><path d=\"M17.41 7.96l-1.37-1.37c-.4-.4-.92-.59-1.43-.59-.52 0-1.04.2-1.43.59L10.3 9.45l-7.72 7.72c-.78.78-.78 2.05 0 2.83L4 21.41c.39.39.9.59 1.41.59.51 0 1.02-.2 1.41-.59l7.78-7.78 2.81-2.81c.8-.78.8-2.07 0-2.86zM5.41 20L4 18.59l7.72-7.72 1.47 1.35L5.41 20z\"/>\n",
              "  </svg>\n",
              "      </button>\n",
              "      \n",
              "  <style>\n",
              "    .colab-df-container {\n",
              "      display:flex;\n",
              "      flex-wrap:wrap;\n",
              "      gap: 12px;\n",
              "    }\n",
              "\n",
              "    .colab-df-convert {\n",
              "      background-color: #E8F0FE;\n",
              "      border: none;\n",
              "      border-radius: 50%;\n",
              "      cursor: pointer;\n",
              "      display: none;\n",
              "      fill: #1967D2;\n",
              "      height: 32px;\n",
              "      padding: 0 0 0 0;\n",
              "      width: 32px;\n",
              "    }\n",
              "\n",
              "    .colab-df-convert:hover {\n",
              "      background-color: #E2EBFA;\n",
              "      box-shadow: 0px 1px 2px rgba(60, 64, 67, 0.3), 0px 1px 3px 1px rgba(60, 64, 67, 0.15);\n",
              "      fill: #174EA6;\n",
              "    }\n",
              "\n",
              "    [theme=dark] .colab-df-convert {\n",
              "      background-color: #3B4455;\n",
              "      fill: #D2E3FC;\n",
              "    }\n",
              "\n",
              "    [theme=dark] .colab-df-convert:hover {\n",
              "      background-color: #434B5C;\n",
              "      box-shadow: 0px 1px 3px 1px rgba(0, 0, 0, 0.15);\n",
              "      filter: drop-shadow(0px 1px 2px rgba(0, 0, 0, 0.3));\n",
              "      fill: #FFFFFF;\n",
              "    }\n",
              "  </style>\n",
              "\n",
              "      <script>\n",
              "        const buttonEl =\n",
              "          document.querySelector('#df-a4c3ebe4-f4f2-41c7-9205-c533d7397dbf button.colab-df-convert');\n",
              "        buttonEl.style.display =\n",
              "          google.colab.kernel.accessAllowed ? 'block' : 'none';\n",
              "\n",
              "        async function convertToInteractive(key) {\n",
              "          const element = document.querySelector('#df-a4c3ebe4-f4f2-41c7-9205-c533d7397dbf');\n",
              "          const dataTable =\n",
              "            await google.colab.kernel.invokeFunction('convertToInteractive',\n",
              "                                                     [key], {});\n",
              "          if (!dataTable) return;\n",
              "\n",
              "          const docLinkHtml = 'Like what you see? Visit the ' +\n",
              "            '<a target=\"_blank\" href=https://colab.research.google.com/notebooks/data_table.ipynb>data table notebook</a>'\n",
              "            + ' to learn more about interactive tables.';\n",
              "          element.innerHTML = '';\n",
              "          dataTable['output_type'] = 'display_data';\n",
              "          await google.colab.output.renderOutput(dataTable, element);\n",
              "          const docLink = document.createElement('div');\n",
              "          docLink.innerHTML = docLinkHtml;\n",
              "          element.appendChild(docLink);\n",
              "        }\n",
              "      </script>\n",
              "    </div>\n",
              "  </div>\n",
              "  "
            ]
          },
          "metadata": {},
          "execution_count": 108
        }
      ]
    },
    {
      "cell_type": "code",
      "source": [
        "word_more=0\n",
        "for i, word in enumerate(output):\n",
        "    plt.imshow(test_arr[i,:,:,:].reshape(32,128), cmap=plt.cm.gray)\n",
        "    plt.show()\n",
        "    text= y_final_test.padded_tokens[i].split(\",\")\n",
        "    print(\"original text =  '\",end=\"\")\n",
        "    for letter in text:\n",
        "        if (int(letter) != 99) :\n",
        "            print(char_tokens[int(letter)], end = '')\n",
        "    print(\"' \",end=\"\")\n",
        "    print(\"predicted text = '\", end = '')\n",
        "    for letter in word:\n",
        "        if (int(letter) != 99) & (int(letter) != -1):\n",
        "            print(char_tokens[int(letter)], end = '')\n",
        "        else:\n",
        "          break\n",
        "    print(\"' \",end=\"\")\n",
        "    if word_more==10:\n",
        "      break\n",
        "    else:\n",
        "      word_more+=1"
      ],
      "metadata": {
        "id": "6ECfyJEsTEay",
        "outputId": "fdfd926d-112d-4db7-9590-5627e9a7c4b7",
        "execution": {
          "iopub.status.busy": "2022-03-29T04:45:02.828750Z",
          "iopub.execute_input": "2022-03-29T04:45:02.829417Z",
          "iopub.status.idle": "2022-03-29T04:45:04.615990Z",
          "shell.execute_reply.started": "2022-03-29T04:45:02.829380Z",
          "shell.execute_reply": "2022-03-29T04:45:04.615336Z"
        },
        "trusted": true,
        "colab": {
          "base_uri": "https://localhost:8080/",
          "height": 1000
        }
      },
      "execution_count": 109,
      "outputs": [
        {
          "output_type": "display_data",
          "data": {
            "text/plain": [
              "<Figure size 432x288 with 1 Axes>"
            ],
            "image/png": "[encoded data removed]"
          },
          "metadata": {
            "needs_background": "light"
          }
        },
        {
          "output_type": "stream",
          "name": "stdout",
          "text": [
            "original text =  'deal' predicted text = 'dtMt.e' "
          ]
        },
        {
          "output_type": "display_data",
          "data": {
            "text/plain": [
              "<Figure size 432x288 with 1 Axes>"
            ],
            "image/png": "[encoded data removed]"
          },
          "metadata": {
            "needs_background": "light"
          }
        },
        {
          "output_type": "stream",
          "name": "stdout",
          "text": [
            "original text =  '.' predicted text = '.o' "
          ]
        },
        {
          "output_type": "display_data",
          "data": {
            "text/plain": [
              "<Figure size 432x288 with 1 Axes>"
            ],
            "image/png": "[encoded data removed]"
          },
          "metadata": {
            "needs_background": "light"
          }
        },
        {
          "output_type": "stream",
          "name": "stdout",
          "text": [
            "original text =  '?' predicted text = ':fy' "
          ]
        },
        {
          "output_type": "display_data",
          "data": {
            "text/plain": [
              "<Figure size 432x288 with 1 Axes>"
            ],
            "image/png": "[encoded data removed]"
          },
          "metadata": {
            "needs_background": "light"
          }
        },
        {
          "output_type": "stream",
          "name": "stdout",
          "text": [
            "original text =  'Press' predicted text = 'Poewsol' "
          ]
        },
        {
          "output_type": "display_data",
          "data": {
            "text/plain": [
              "<Figure size 432x288 with 1 Axes>"
            ],
            "image/png": "[encoded data removed]"
          },
          "metadata": {
            "needs_background": "light"
          }
        },
        {
          "output_type": "stream",
          "name": "stdout",
          "text": [
            "original text =  'a' predicted text = 'arf.P' "
          ]
        },
        {
          "output_type": "display_data",
          "data": {
            "text/plain": [
              "<Figure size 432x288 with 1 Axes>"
            ],
            "image/png": "[encoded data removed]"
          },
          "metadata": {
            "needs_background": "light"
          }
        },
        {
          "output_type": "stream",
          "name": "stdout",
          "text": [
            "original text =  'and' predicted text = 'pode' "
          ]
        },
        {
          "output_type": "display_data",
          "data": {
            "text/plain": [
              "<Figure size 432x288 with 1 Axes>"
            ],
            "image/png": "[encoded data removed]"
          },
          "metadata": {
            "needs_background": "light"
          }
        },
        {
          "output_type": "stream",
          "name": "stdout",
          "text": [
            "original text =  'of' predicted text = 'of' "
          ]
        },
        {
          "output_type": "display_data",
          "data": {
            "text/plain": [
              "<Figure size 432x288 with 1 Axes>"
            ],
            "image/png": "[encoded data removed]"
          },
          "metadata": {
            "needs_background": "light"
          }
        },
        {
          "output_type": "stream",
          "name": "stdout",
          "text": [
            "original text =  'the' predicted text = 'the.6o' "
          ]
        },
        {
          "output_type": "display_data",
          "data": {
            "text/plain": [
              "<Figure size 432x288 with 1 Axes>"
            ],
            "image/png": "[encoded data removed]"
          },
          "metadata": {
            "needs_background": "light"
          }
        },
        {
          "output_type": "stream",
          "name": "stdout",
          "text": [
            "original text =  'party' predicted text = 'prtys' "
          ]
        },
        {
          "output_type": "display_data",
          "data": {
            "text/plain": [
              "<Figure size 432x288 with 1 Axes>"
            ],
            "image/png": "[encoded data removed]"
          },
          "metadata": {
            "needs_background": "light"
          }
        },
        {
          "output_type": "stream",
          "name": "stdout",
          "text": [
            "original text =  'not' predicted text = 'notfe' "
          ]
        },
        {
          "output_type": "display_data",
          "data": {
            "text/plain": [
              "<Figure size 432x288 with 1 Axes>"
            ],
            "image/png": "[encoded data removed]"
          },
          "metadata": {
            "needs_background": "light"
          }
        },
        {
          "output_type": "stream",
          "name": "stdout",
          "text": [
            "original text =  'the' predicted text = 'the:3' "
          ]
        }
      ]
    },
    {
      "cell_type": "markdown",
      "source": [
        "END OF PROJECT"
      ],
      "metadata": {
        "id": "aRSRgLteOd9O"
      }
    }
  ]
}